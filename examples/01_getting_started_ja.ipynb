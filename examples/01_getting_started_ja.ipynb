{
  "nbformat": 4,
  "nbformat_minor": 0,
  "metadata": {
    "colab": {
      "name": "01_getting_started_ja.ipynb",
      "provenance": [],
      "collapsed_sections": [
        "kPjVK9yXjBKG"
      ],
      "toc_visible": true,
      "authorship_tag": "ABX9TyNB4j3u6Xo8nKuo0wPG8BRI",
      "include_colab_link": true
    },
    "kernelspec": {
      "name": "python3",
      "display_name": "Python 3"
    }
  },
  "cells": [
    {
      "cell_type": "markdown",
      "metadata": {
        "id": "view-in-github",
        "colab_type": "text"
      },
      "source": [
        "<a href=\"https://colab.research.google.com/github/taishi-i/toiro/blob/master/examples/01_getting_started_ja.ipynb\" target=\"_parent\"><img src=\"https://colab.research.google.com/assets/colab-badge.svg\" alt=\"Open In Colab\"/></a>"
      ]
    },
    {
      "cell_type": "markdown",
      "metadata": {
        "id": "kPjVK9yXjBKG",
        "colab_type": "text"
      },
      "source": [
        "# <strong>1. はじめに</strong>\n",
        "---\n",
        "\n",
        "[Toiro](https://github.com/taishi-i/toiro) は、形態素解析器を比較する Python ライブラリです。\n",
        "\n",
        "各解析器の比較を数行のコードで行えます。\n",
        "*   処理速度の比較\n",
        "*   単語分割の比較\n",
        "*   後段タスク（テキスト分類）での精度比較\n",
        "\n",
        "Google Colab では、下記のインストールにより7種類の解析器を比較することができます。\n",
        "```\n",
        "pip install toiro[all_tokenizers]\n",
        "```\n",
        "\n"
      ]
    },
    {
      "cell_type": "code",
      "metadata": {
        "id": "9N_4UxRNi0Fd",
        "colab_type": "code",
        "colab": {}
      },
      "source": [
        "pip install toiro[all_tokenizers]"
      ],
      "execution_count": null,
      "outputs": []
    },
    {
      "cell_type": "code",
      "metadata": {
        "id": "FY9HK3M3m43L",
        "colab_type": "code",
        "colab": {}
      },
      "source": [
        "# 各ライブラリのインポート\n",
        "import pprint\n",
        "import warnings\n",
        "\n",
        "import matplotlib.pyplot as plt\n",
        "\n",
        "from toiro import tokenizers\n",
        "from toiro import datadownloader\n",
        "from toiro import classifiers\n",
        "\n",
        "warnings.simplefilter('ignore')"
      ],
      "execution_count": 2,
      "outputs": []
    },
    {
      "cell_type": "markdown",
      "metadata": {
        "id": "wvo4N1-yAwaP",
        "colab_type": "text"
      },
      "source": [
        "# <strong>2. 解析器の一覧を表示する</strong>\n",
        "\n",
        "---\n",
        "\n",
        "Toiroでは、次の解析器（単語分割器、形態素解析器、サブワードトークナイザー）を比較することができます。\n",
        "\n",
        "*   mecab-python3\n",
        "*   janome\n",
        "*   nagisa\n",
        "*   spacy\n",
        "*   sudachipy\n",
        "*   ginza\n",
        "*   sentencepiece\n",
        "*   KyTea（本体のインストールが必要）\n",
        "*   Juman++（本体のインストールが必要）\n",
        "\n",
        "\n",
        "また、Docker Hub からコンテナを利用することで、環境構築なしに9種類の解析器を比較することができます。\n",
        "\n",
        "```\n",
        "$ docker run --rm -it taishii/toiro /bin/bash\n",
        "```\n",
        "\n"
      ]
    },
    {
      "cell_type": "code",
      "metadata": {
        "id": "J4IAlmEdAv3l",
        "colab_type": "code",
        "colab": {
          "base_uri": "https://localhost:8080/",
          "height": 170
        },
        "outputId": "202915f9-214d-4725-ab67-d2b595bf881f"
      },
      "source": [
        "# 実行環境で利用可能な解析器を表示する\n",
        "available_tokenizers = tokenizers.available_tokenizers()\n",
        "pprint.pprint(available_tokenizers)"
      ],
      "execution_count": 3,
      "outputs": [
        {
          "output_type": "stream",
          "text": [
            "{'ginza': {'is_available': True, 'version': '2.3.2'},\n",
            " 'janome': {'is_available': True, 'version': '0.3.10'},\n",
            " 'jumanpp': {'is_available': False, 'version': False},\n",
            " 'kytea': {'is_available': False, 'version': False},\n",
            " 'mecab-python3': {'is_available': True, 'version': '0.996'},\n",
            " 'nagisa': {'is_available': True, 'version': '0.2.7'},\n",
            " 'sentencepiece': {'is_available': True, 'version': '0.1.91'},\n",
            " 'spacy': {'is_available': True, 'version': '2.3.2'},\n",
            " 'sudachipy': {'is_available': True, 'version': '0.4.9'}}\n"
          ],
          "name": "stdout"
        }
      ]
    },
    {
      "cell_type": "markdown",
      "metadata": {
        "id": "Zw-mP7nKDICm",
        "colab_type": "text"
      },
      "source": [
        "# <strong>3. コーパスをダウンロードする</strong>\n",
        "\n",
        "---\n",
        "Toiroでは、日本語コーパスのダウンローダーと前処理機能を標準で搭載しています。\n",
        "\n",
        "現時点では、3種類の日本語コーパスを利用することができます。\n",
        "*   Livedoor news corpus\n",
        "*   Yahoo movie reviews\n",
        "*   Amazon reviews\n",
        "\n",
        "コーパスのダウンロード後は、内部で前処理を行い、pandas.DataFrame として扱うことができます。"
      ]
    },
    {
      "cell_type": "code",
      "metadata": {
        "id": "zKnn4uk14Zhu",
        "colab_type": "code",
        "colab": {
          "base_uri": "https://localhost:8080/",
          "height": 34
        },
        "outputId": "726f089a-6ef4-4020-c55f-e316492ceb79"
      },
      "source": [
        "# ダウンロード可能なコーパスの一覧を表示する\n",
        "corpora = datadownloader.available_corpus()\n",
        "print(corpora)"
      ],
      "execution_count": 4,
      "outputs": [
        {
          "output_type": "stream",
          "text": [
            "['livedoor_news_corpus', 'yahoo_movie_reviews', 'amazon_reviews']\n"
          ],
          "name": "stdout"
        }
      ]
    },
    {
      "cell_type": "code",
      "metadata": {
        "id": "TmKy2e7ppf_H",
        "colab_type": "code",
        "colab": {
          "base_uri": "https://localhost:8080/",
          "height": 221
        },
        "outputId": "c619f655-f955-4ecc-ef6f-299d89cab2b4"
      },
      "source": [
        "# Livedoor News Corpus をダウンロードし、pandas.DataFrame として読み込む\n",
        "corpus = corpora[0]\n",
        "datadownloader.download_corpus(corpus)\n",
        "train_df, dev_df, test_df = datadownloader.load_corpus(corpus)\n",
        "texts = train_df[1]\n",
        "train_df.head()"
      ],
      "execution_count": 5,
      "outputs": [
        {
          "output_type": "stream",
          "text": [
            "Downloading ldcc-20140209.tar.gz from https://www.rondhuit.com/download/ldcc-20140209.tar.gz: 31.6MB [00:04, 7.62MB/s]\n"
          ],
          "name": "stderr"
        },
        {
          "output_type": "execute_result",
          "data": {
            "text/html": [
              "<div>\n",
              "<style scoped>\n",
              "    .dataframe tbody tr th:only-of-type {\n",
              "        vertical-align: middle;\n",
              "    }\n",
              "\n",
              "    .dataframe tbody tr th {\n",
              "        vertical-align: top;\n",
              "    }\n",
              "\n",
              "    .dataframe thead th {\n",
              "        text-align: right;\n",
              "    }\n",
              "</style>\n",
              "<table border=\"1\" class=\"dataframe\">\n",
              "  <thead>\n",
              "    <tr style=\"text-align: right;\">\n",
              "      <th></th>\n",
              "      <th>0</th>\n",
              "      <th>1</th>\n",
              "    </tr>\n",
              "  </thead>\n",
              "  <tbody>\n",
              "    <tr>\n",
              "      <th>0</th>\n",
              "      <td>livedoor-homme</td>\n",
              "      <td>上達はスイングチェックから！ 1秒間 最大1000コマ撮影でスイングを磨け</td>\n",
              "    </tr>\n",
              "    <tr>\n",
              "      <th>1</th>\n",
              "      <td>it-life-hack</td>\n",
              "      <td>Ultrabookユーザー必見！爆速無線LANルーターのレビューアー5名を募集</td>\n",
              "    </tr>\n",
              "    <tr>\n",
              "      <th>2</th>\n",
              "      <td>kaden-channel</td>\n",
              "      <td>赤っ恥！　釈由美子に続き及川光博もiPhoneがよくわかっていなかった【話題】</td>\n",
              "    </tr>\n",
              "    <tr>\n",
              "      <th>3</th>\n",
              "      <td>kaden-channel</td>\n",
              "      <td>楽しいことにもいつかは終わりが・・・Google「Picnik」終了のお知らせが気になる【話題】</td>\n",
              "    </tr>\n",
              "    <tr>\n",
              "      <th>4</th>\n",
              "      <td>livedoor-homme</td>\n",
              "      <td>【特集/JOURNEY】 刺激的で優しいアラブの国へ　（4/8）</td>\n",
              "    </tr>\n",
              "  </tbody>\n",
              "</table>\n",
              "</div>"
            ],
            "text/plain": [
              "                0                                                 1\n",
              "0  livedoor-homme             上達はスイングチェックから！ 1秒間 最大1000コマ撮影でスイングを磨け\n",
              "1    it-life-hack           Ultrabookユーザー必見！爆速無線LANルーターのレビューアー5名を募集\n",
              "2   kaden-channel           赤っ恥！　釈由美子に続き及川光博もiPhoneがよくわかっていなかった【話題】\n",
              "3   kaden-channel  楽しいことにもいつかは終わりが・・・Google「Picnik」終了のお知らせが気になる【話題】\n",
              "4  livedoor-homme                  【特集/JOURNEY】 刺激的で優しいアラブの国へ　（4/8）"
            ]
          },
          "metadata": {
            "tags": []
          },
          "execution_count": 5
        }
      ]
    },
    {
      "cell_type": "markdown",
      "metadata": {
        "id": "7Qu-0aFx4-hM",
        "colab_type": "text"
      },
      "source": [
        "# <strong>4. 各解析器の処理速度を比較する</strong>\n",
        "\n",
        "---\n",
        "\n",
        "ダウンロードした Livedoor news corpus を利用して、各解析器の処理速度を比較します。\n",
        "\n",
        "実行環境の情報、入力データの情報、各解析器の処理速度を辞書形式で出力します。"
      ]
    },
    {
      "cell_type": "code",
      "metadata": {
        "id": "39VcudSe4-Je",
        "colab_type": "code",
        "colab": {
          "base_uri": "https://localhost:8080/",
          "height": 459
        },
        "outputId": "6f81e126-b97a-42b7-e7b8-2de9e259a3d0"
      },
      "source": [
        "# tokenizers.compare では、リストを入力とする\n",
        "report = tokenizers.compare(texts)\n",
        "pprint.pprint(report)"
      ],
      "execution_count": 6,
      "outputs": [
        {
          "output_type": "stream",
          "text": [
            " 49%|████▊     | 2869/5900 [00:00<00:00, 28689.75it/s]"
          ],
          "name": "stderr"
        },
        {
          "output_type": "stream",
          "text": [
            "[1/7] Tokenizer: mecab-python3\n"
          ],
          "name": "stdout"
        },
        {
          "output_type": "stream",
          "text": [
            "100%|██████████| 5900/5900 [00:00<00:00, 27442.75it/s]\n",
            "  0%|          | 0/5900 [00:00<?, ?it/s]"
          ],
          "name": "stderr"
        },
        {
          "output_type": "stream",
          "text": [
            "[2/7] Tokenizer: janome\n"
          ],
          "name": "stdout"
        },
        {
          "output_type": "stream",
          "text": [
            "100%|██████████| 5900/5900 [00:15<00:00, 387.57it/s]\n",
            "  0%|          | 15/5900 [00:00<00:39, 147.25it/s]"
          ],
          "name": "stderr"
        },
        {
          "output_type": "stream",
          "text": [
            "[3/7] Tokenizer: nagisa\n"
          ],
          "name": "stdout"
        },
        {
          "output_type": "stream",
          "text": [
            "100%|██████████| 5900/5900 [00:30<00:00, 194.29it/s]\n",
            "  1%|          | 40/5900 [00:00<00:14, 396.15it/s]"
          ],
          "name": "stderr"
        },
        {
          "output_type": "stream",
          "text": [
            "[4/7] Tokenizer: sudachipy\n"
          ],
          "name": "stdout"
        },
        {
          "output_type": "stream",
          "text": [
            "100%|██████████| 5900/5900 [00:16<00:00, 363.85it/s]\n",
            "  0%|          | 0/5900 [00:00<?, ?it/s]"
          ],
          "name": "stderr"
        },
        {
          "output_type": "stream",
          "text": [
            "[5/7] Tokenizer: spacy\n"
          ],
          "name": "stdout"
        },
        {
          "output_type": "stream",
          "text": [
            "100%|██████████| 5900/5900 [00:21<00:00, 279.84it/s]\n",
            "  0%|          | 28/5900 [00:00<00:21, 273.27it/s]"
          ],
          "name": "stderr"
        },
        {
          "output_type": "stream",
          "text": [
            "[6/7] Tokenizer: ginza\n"
          ],
          "name": "stdout"
        },
        {
          "output_type": "stream",
          "text": [
            "100%|██████████| 5900/5900 [00:21<00:00, 275.43it/s]\n",
            "100%|██████████| 5900/5900 [00:00<00:00, 47038.24it/s]"
          ],
          "name": "stderr"
        },
        {
          "output_type": "stream",
          "text": [
            "[7/7] Tokenizer: sentencepiece\n",
            "{'data': {'average_length': 37.67338983050848, 'number_of_sentences': 5900},\n",
            " 'execution_environment': {'arch': 'X86_64',\n",
            "                           'brand_raw': 'Intel(R) Xeon(R) CPU @ 2.30GHz',\n",
            "                           'count': 2,\n",
            "                           'python_version': '3.6.9.final.0 (64 bit)'},\n",
            " 'ginza': {'elapsed_time': 21.422746658325195},\n",
            " 'janome': {'elapsed_time': 15.223556518554688},\n",
            " 'mecab-python3': {'elapsed_time': 0.21637582778930664},\n",
            " 'nagisa': {'elapsed_time': 30.369091272354126},\n",
            " 'sentencepiece': {'elapsed_time': 0.12634491920471191},\n",
            " 'spacy': {'elapsed_time': 21.084046602249146},\n",
            " 'sudachipy': {'elapsed_time': 16.216227054595947}}\n"
          ],
          "name": "stdout"
        },
        {
          "output_type": "stream",
          "text": [
            "\n"
          ],
          "name": "stderr"
        }
      ]
    },
    {
      "cell_type": "markdown",
      "metadata": {
        "id": "BibRBXFHa9Gn",
        "colab_type": "text"
      },
      "source": [
        "# <strong>5. 各解析器の単語分割を比較する</strong>\n",
        "\n",
        "---\n",
        "\n",
        "入力テキストの単語分割結果を比較できます。\n",
        "\n",
        "tokenizers.tokenize_*TOKENIZER_NAME* を利用することで、各解析器の単語分割の結果を取得できます。"
      ]
    },
    {
      "cell_type": "code",
      "metadata": {
        "id": "cnzDtWRvbijc",
        "colab_type": "code",
        "colab": {
          "base_uri": "https://localhost:8080/",
          "height": 136
        },
        "outputId": "686d3976-b27a-4d7d-8bf8-ee8467e5fc0a"
      },
      "source": [
        "# 各解析器の単語分割結果を出力する\n",
        "text = \"都庁所在地は新宿区。\"\n",
        "tokenizers.print_words(text, delimiter=\"|\")"
      ],
      "execution_count": 7,
      "outputs": [
        {
          "output_type": "stream",
          "text": [
            "mecab-python3: 都庁|所在地|は|新宿|区|。\n",
            "       janome: 都庁|所在地|は|新宿|区|。\n",
            "       nagisa: 都庁|所在|地|は|新宿|区|。\n",
            "    sudachipy: 都庁|所在地|は|新宿区|。\n",
            "        spacy: 都庁|所在|地|は|新宿|区|。\n",
            "        ginza: 都庁|所在地|は|新宿区|。\n",
            "sentencepiece: ▁|都|庁|所在地|は|新宿|区|。\n"
          ],
          "name": "stdout"
        }
      ]
    },
    {
      "cell_type": "code",
      "metadata": {
        "id": "9EvlaUiXr3Gw",
        "colab_type": "code",
        "colab": {
          "base_uri": "https://localhost:8080/",
          "height": 34
        },
        "outputId": "1c6c8e32-be54-4f19-c4d8-e8fcc7951efa"
      },
      "source": [
        "# sudachipy の単語分割結果を出力する\n",
        "words = tokenizers.tokenize_sudachipy(text)\n",
        "print(words)"
      ],
      "execution_count": 8,
      "outputs": [
        {
          "output_type": "stream",
          "text": [
            "['都庁', '所在地', 'は', '新宿区', '。']\n"
          ],
          "name": "stdout"
        }
      ]
    },
    {
      "cell_type": "code",
      "metadata": {
        "id": "rizI7UTCsJOs",
        "colab_type": "code",
        "colab": {
          "base_uri": "https://localhost:8080/",
          "height": 34
        },
        "outputId": "3766909a-a795-47c5-9390-614bfa2d637a"
      },
      "source": [
        "# sentencepiece の単語分割結果を出力する\n",
        "words = tokenizers.tokenize_sentencepiece(text)\n",
        "print(words)"
      ],
      "execution_count": 9,
      "outputs": [
        {
          "output_type": "stream",
          "text": [
            "['▁', '都', '庁', '所在地', 'は', '新宿', '区', '。']\n"
          ],
          "name": "stdout"
        }
      ]
    },
    {
      "cell_type": "markdown",
      "metadata": {
        "id": "7i1zRHXodPRZ",
        "colab_type": "text"
      },
      "source": [
        "# <strong>6. 各解析器の結果を取得する</strong>\n",
        "\n",
        "---\n",
        "\n",
        "Toiroでは、各解析器の元の解析結果を取得できます。\n",
        "\n",
        "tokenizers.original_*TOKENIZER_NAME* を利用することで、各解析器の解析結果を取得できます。"
      ]
    },
    {
      "cell_type": "code",
      "metadata": {
        "id": "WZo3W1eLdb1I",
        "colab_type": "code",
        "colab": {
          "base_uri": "https://localhost:8080/",
          "height": 153
        },
        "outputId": "4bac2018-d053-49fc-cdaf-d8d981646f1f"
      },
      "source": [
        "# mecab-python3 の解析結果を出力する\n",
        "tokens = tokenizers.original_mecab(text)\n",
        "print(tokens)"
      ],
      "execution_count": 10,
      "outputs": [
        {
          "output_type": "stream",
          "text": [
            "都庁\t名詞,一般,*,*,*,*,都庁,トチョウ,トチョー\n",
            "所在地\t名詞,一般,*,*,*,*,所在地,ショザイチ,ショザイチ\n",
            "は\t助詞,係助詞,*,*,*,*,は,ハ,ワ\n",
            "新宿\t名詞,固有名詞,地域,一般,*,*,新宿,シンジュク,シンジュク\n",
            "区\t名詞,接尾,地域,*,*,*,区,ク,ク\n",
            "。\t記号,句点,*,*,*,*,。,。,。\n",
            "EOS\n",
            "\n"
          ],
          "name": "stdout"
        }
      ]
    },
    {
      "cell_type": "code",
      "metadata": {
        "id": "cRbC5txxrH_x",
        "colab_type": "code",
        "colab": {
          "base_uri": "https://localhost:8080/",
          "height": 119
        },
        "outputId": "83ea8367-b711-4be8-b3fa-cf0a19474226"
      },
      "source": [
        "# GiNZA の解析結果を出力する\n",
        "token = tokenizers.original_ginza(text)\n",
        "for sent in token.sents:\n",
        "    for token in sent:\n",
        "        print(token.i, token.orth_, token.lemma_, token.pos_, token.tag_, token.dep_, token.head.i)\n",
        "    print('EOS')"
      ],
      "execution_count": 11,
      "outputs": [
        {
          "output_type": "stream",
          "text": [
            "0 都庁 都庁 NOUN 名詞-普通名詞-一般 compound 1\n",
            "1 所在地 所在地 NOUN 名詞-普通名詞-一般 nsubj 3\n",
            "2 は は ADP 助詞-係助詞 case 1\n",
            "3 新宿区 新宿区 PROPN 名詞-固有名詞-地名-一般 ROOT 3\n",
            "4 。 。 PUNCT 補助記号-句点 punct 3\n",
            "EOS\n"
          ],
          "name": "stdout"
        }
      ]
    },
    {
      "cell_type": "markdown",
      "metadata": {
        "id": "fql5s2BNbz81",
        "colab_type": "text"
      },
      "source": [
        "# <strong>7. 後段タスク（テキスト分類）による精度比較</strong>\n",
        "\n",
        "---\n",
        "\n",
        "Toiroでは、SVM と BERT によるテキスト分類機能を搭載しています。\n",
        "\n",
        "ここでは、SVM によるテキスト分類結果を比較することで、単語分割の性能を比較します。\n",
        "\n",
        "BERT を利用する場合は、次のインストールを行ってください。\n",
        "```\n",
        "pip install toiro[all]\n",
        "```"
      ]
    },
    {
      "cell_type": "code",
      "metadata": {
        "id": "QpE2ljY3coZ4",
        "colab_type": "code",
        "colab": {
          "base_uri": "https://localhost:8080/",
          "height": 357
        },
        "outputId": "d6240632-a4c1-49d1-805d-2f0a70b37caf"
      },
      "source": [
        "# Janome を単語分割に利用した SVM モデルの学習  \n",
        "model = classifiers.SVMClassificationModel(tokenizer='janome')                                                                                                                                   \n",
        "model.fit(train_df, dev_df)                                                     \n",
        "                                                                                \n",
        "# 分類精度の評価                                               \n",
        "result = model.eval(test_df)                                                    \n",
        "print(result)\n",
        "\n",
        "# 分類結果の予測\n",
        "pred_y = model.predict(text)\n",
        "print(pred_y)"
      ],
      "execution_count": 12,
      "outputs": [
        {
          "output_type": "stream",
          "text": [
            "accuracy_score: 0.8629579375848032\n",
            "macro_f1_score: 0.8502901379913911\n",
            "classification_report:                 precision    recall  f1-score   support\n",
            "\n",
            "dokujo-tsushin       0.80      0.80      0.80        92\n",
            "  it-life-hack       0.88      0.94      0.91        80\n",
            " kaden-channel       0.97      0.92      0.95        85\n",
            "livedoor-homme       0.88      0.56      0.69        41\n",
            "   movie-enter       0.82      0.90      0.86        88\n",
            "        peachy       0.78      0.74      0.76        90\n",
            "          smax       0.96      0.97      0.97       101\n",
            "  sports-watch       0.88      0.90      0.89        82\n",
            "    topic-news       0.80      0.87      0.83        78\n",
            "\n",
            "      accuracy                           0.86       737\n",
            "     macro avg       0.86      0.85      0.85       737\n",
            "  weighted avg       0.86      0.86      0.86       737\n",
            "\n",
            "elapsed_time: 13.497676849365234\n",
            "sports-watch\n"
          ],
          "name": "stdout"
        }
      ]
    },
    {
      "cell_type": "code",
      "metadata": {
        "id": "e8lKvQlDdFMZ",
        "colab_type": "code",
        "colab": {
          "base_uri": "https://localhost:8080/",
          "height": 414
        },
        "outputId": "cec329ea-08ef-4c94-b7fe-5ab5a4e2fc8c"
      },
      "source": [
        "# matplotlib のマーカを定義する\n",
        "markers = [\".\", \"X\", \"^\", \"<\", \">\", \"p\", \"*\"]\n",
        "\n",
        "# 実行環境で利用できる解析器を取得する\n",
        "avaiable_tokenizers = tokenizers.get_avaiable_tokenizers()\n",
        "num_tokenizers = len(avaiable_tokenizers.items())\n",
        "\n",
        "# 各解析器を利用した SVM モデル学習と評価を行う\n",
        "for i, (k, v) in  enumerate(avaiable_tokenizers.items(), 1):                                                                      \n",
        "    model = classifiers.SVMClassificationModel(tokenizer=k)                       \n",
        "    model.fit(train_df, dev_df)                                                 \n",
        "    result = model.eval(test_df)                                                \n",
        "    elapsed_time = result[\"elapsed_time\"]                                                                              \n",
        "    accuracy_score = result[\"accuracy_score\"]                                                                                                                                \n",
        "    plt.scatter([elapsed_time ], [accuracy_score], label=k, marker=markers[i-1])\n",
        "    print(f\"[{i}/{num_tokenizers}]: {k:<13}, {accuracy_score}, {elapsed_time}\")\n",
        "\n",
        "# 処理速度と分類精度の図を表示する\n",
        "plt.title(f\"{corpus}: Accuracy and elapsed time\")\n",
        "plt.ylabel(\"Accuracy score\")\n",
        "plt.xlabel(\"Elapsed time (s)\")                                                                                                          \n",
        "plt.legend()                                                                                                                       \n",
        "plt.show() "
      ],
      "execution_count": 13,
      "outputs": [
        {
          "output_type": "stream",
          "text": [
            "[1/7]: mecab-python3, 0.8575305291723202, 0.819605827331543\n",
            "[2/7]: janome       , 0.8629579375848032, 13.41454267501831\n",
            "[3/7]: nagisa       , 0.858887381275441, 27.619521141052246\n",
            "[4/7]: sudachipy    , 0.8616010854816825, 13.070273637771606\n",
            "[5/7]: spacy        , 0.8724559023066486, 16.287087440490723\n",
            "[6/7]: ginza        , 0.8656716417910447, 16.847912549972534\n",
            "[7/7]: sentencepiece, 0.8670284938941656, 0.8188068866729736\n"
          ],
          "name": "stdout"
        },
        {
          "output_type": "display_data",
          "data": {
            "image/png": "[encoded data removed]",
            "text/plain": [
              "<Figure size 432x288 with 1 Axes>"
            ]
          },
          "metadata": {
            "tags": [],
            "needs_background": "light"
          }
        }
      ]
    }
  ]
}