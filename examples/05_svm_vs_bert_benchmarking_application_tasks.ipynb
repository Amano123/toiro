{
  "nbformat": 4,
  "nbformat_minor": 0,
  "metadata": {
    "colab": {
      "name": "05_svm_vs_bert_benchmarking_application_tasks.ipynb",
      "provenance": [],
      "authorship_tag": "ABX9TyMNXu/dM3QUMT3QI1t3h6ae",
      "include_colab_link": true
    },
    "kernelspec": {
      "name": "python3",
      "display_name": "Python 3"
    },
    "accelerator": "GPU",
    "widgets": {
      "application/vnd.jupyter.widget-state+json": {
        "6d8478d52c024fcf9af51129102777fc": {
          "model_module": "@jupyter-widgets/controls",
          "model_name": "HBoxModel",
          "state": {
            "_view_name": "HBoxView",
            "_dom_classes": [],
            "_model_name": "HBoxModel",
            "_view_module": "@jupyter-widgets/controls",
            "_model_module_version": "1.5.0",
            "_view_count": null,
            "_view_module_version": "1.5.0",
            "box_style": "",
            "layout": "IPY_MODEL_79188465e98c46848488fcea76ca25d0",
            "_model_module": "@jupyter-widgets/controls",
            "children": [
              "IPY_MODEL_24f817c6215445f39adfdc5d05492f09",
              "IPY_MODEL_0cc685c6caea48aa9a69c893ab6d2fec"
            ]
          }
        },
        "79188465e98c46848488fcea76ca25d0": {
          "model_module": "@jupyter-widgets/base",
          "model_name": "LayoutModel",
          "state": {
            "_view_name": "LayoutView",
            "grid_template_rows": null,
            "right": null,
            "justify_content": null,
            "_view_module": "@jupyter-widgets/base",
            "overflow": null,
            "_model_module_version": "1.2.0",
            "_view_count": null,
            "flex_flow": null,
            "width": null,
            "min_width": null,
            "border": null,
            "align_items": null,
            "bottom": null,
            "_model_module": "@jupyter-widgets/base",
            "top": null,
            "grid_column": null,
            "overflow_y": null,
            "overflow_x": null,
            "grid_auto_flow": null,
            "grid_area": null,
            "grid_template_columns": null,
            "flex": null,
            "_model_name": "LayoutModel",
            "justify_items": null,
            "grid_row": null,
            "max_height": null,
            "align_content": null,
            "visibility": null,
            "align_self": null,
            "height": null,
            "min_height": null,
            "padding": null,
            "grid_auto_rows": null,
            "grid_gap": null,
            "max_width": null,
            "order": null,
            "_view_module_version": "1.2.0",
            "grid_template_areas": null,
            "object_position": null,
            "object_fit": null,
            "grid_auto_columns": null,
            "margin": null,
            "display": null,
            "left": null
          }
        },
        "24f817c6215445f39adfdc5d05492f09": {
          "model_module": "@jupyter-widgets/controls",
          "model_name": "FloatProgressModel",
          "state": {
            "_view_name": "ProgressView",
            "style": "IPY_MODEL_4356b8ab0d704a4ca87d203513f6ed70",
            "_dom_classes": [],
            "description": "Downloading: 100%",
            "_model_name": "FloatProgressModel",
            "bar_style": "success",
            "max": 433,
            "_view_module": "@jupyter-widgets/controls",
            "_model_module_version": "1.5.0",
            "value": 433,
            "_view_count": null,
            "_view_module_version": "1.5.0",
            "orientation": "horizontal",
            "min": 0,
            "description_tooltip": null,
            "_model_module": "@jupyter-widgets/controls",
            "layout": "IPY_MODEL_e27f5f77114f4c70a31acd5427412902"
          }
        },
        "0cc685c6caea48aa9a69c893ab6d2fec": {
          "model_module": "@jupyter-widgets/controls",
          "model_name": "HTMLModel",
          "state": {
            "_view_name": "HTMLView",
            "style": "IPY_MODEL_70c25884cda2473eb8078bf2a9786dc6",
            "_dom_classes": [],
            "description": "",
            "_model_name": "HTMLModel",
            "placeholder": "​",
            "_view_module": "@jupyter-widgets/controls",
            "_model_module_version": "1.5.0",
            "value": " 433/433 [00:00&lt;00:00, 476B/s]",
            "_view_count": null,
            "_view_module_version": "1.5.0",
            "description_tooltip": null,
            "_model_module": "@jupyter-widgets/controls",
            "layout": "IPY_MODEL_679f6dfc12bc481187e417a63affd6a7"
          }
        },
        "4356b8ab0d704a4ca87d203513f6ed70": {
          "model_module": "@jupyter-widgets/controls",
          "model_name": "ProgressStyleModel",
          "state": {
            "_view_name": "StyleView",
            "_model_name": "ProgressStyleModel",
            "description_width": "initial",
            "_view_module": "@jupyter-widgets/base",
            "_model_module_version": "1.5.0",
            "_view_count": null,
            "_view_module_version": "1.2.0",
            "bar_color": null,
            "_model_module": "@jupyter-widgets/controls"
          }
        },
        "e27f5f77114f4c70a31acd5427412902": {
          "model_module": "@jupyter-widgets/base",
          "model_name": "LayoutModel",
          "state": {
            "_view_name": "LayoutView",
            "grid_template_rows": null,
            "right": null,
            "justify_content": null,
            "_view_module": "@jupyter-widgets/base",
            "overflow": null,
            "_model_module_version": "1.2.0",
            "_view_count": null,
            "flex_flow": null,
            "width": null,
            "min_width": null,
            "border": null,
            "align_items": null,
            "bottom": null,
            "_model_module": "@jupyter-widgets/base",
            "top": null,
            "grid_column": null,
            "overflow_y": null,
            "overflow_x": null,
            "grid_auto_flow": null,
            "grid_area": null,
            "grid_template_columns": null,
            "flex": null,
            "_model_name": "LayoutModel",
            "justify_items": null,
            "grid_row": null,
            "max_height": null,
            "align_content": null,
            "visibility": null,
            "align_self": null,
            "height": null,
            "min_height": null,
            "padding": null,
            "grid_auto_rows": null,
            "grid_gap": null,
            "max_width": null,
            "order": null,
            "_view_module_version": "1.2.0",
            "grid_template_areas": null,
            "object_position": null,
            "object_fit": null,
            "grid_auto_columns": null,
            "margin": null,
            "display": null,
            "left": null
          }
        },
        "70c25884cda2473eb8078bf2a9786dc6": {
          "model_module": "@jupyter-widgets/controls",
          "model_name": "DescriptionStyleModel",
          "state": {
            "_view_name": "StyleView",
            "_model_name": "DescriptionStyleModel",
            "description_width": "",
            "_view_module": "@jupyter-widgets/base",
            "_model_module_version": "1.5.0",
            "_view_count": null,
            "_view_module_version": "1.2.0",
            "_model_module": "@jupyter-widgets/controls"
          }
        },
        "679f6dfc12bc481187e417a63affd6a7": {
          "model_module": "@jupyter-widgets/base",
          "model_name": "LayoutModel",
          "state": {
            "_view_name": "LayoutView",
            "grid_template_rows": null,
            "right": null,
            "justify_content": null,
            "_view_module": "@jupyter-widgets/base",
            "overflow": null,
            "_model_module_version": "1.2.0",
            "_view_count": null,
            "flex_flow": null,
            "width": null,
            "min_width": null,
            "border": null,
            "align_items": null,
            "bottom": null,
            "_model_module": "@jupyter-widgets/base",
            "top": null,
            "grid_column": null,
            "overflow_y": null,
            "overflow_x": null,
            "grid_auto_flow": null,
            "grid_area": null,
            "grid_template_columns": null,
            "flex": null,
            "_model_name": "LayoutModel",
            "justify_items": null,
            "grid_row": null,
            "max_height": null,
            "align_content": null,
            "visibility": null,
            "align_self": null,
            "height": null,
            "min_height": null,
            "padding": null,
            "grid_auto_rows": null,
            "grid_gap": null,
            "max_width": null,
            "order": null,
            "_view_module_version": "1.2.0",
            "grid_template_areas": null,
            "object_position": null,
            "object_fit": null,
            "grid_auto_columns": null,
            "margin": null,
            "display": null,
            "left": null
          }
        },
        "6585369c77a84bec9fb972625d7126e8": {
          "model_module": "@jupyter-widgets/controls",
          "model_name": "HBoxModel",
          "state": {
            "_view_name": "HBoxView",
            "_dom_classes": [],
            "_model_name": "HBoxModel",
            "_view_module": "@jupyter-widgets/controls",
            "_model_module_version": "1.5.0",
            "_view_count": null,
            "_view_module_version": "1.5.0",
            "box_style": "",
            "layout": "IPY_MODEL_78d3be61376e4b6f9ea8591f6967a76e",
            "_model_module": "@jupyter-widgets/controls",
            "children": [
              "IPY_MODEL_30d66e40e08147e8bbb03340d0408201",
              "IPY_MODEL_315e1fd8983e41408f67db1c2fc65e2a"
            ]
          }
        },
        "78d3be61376e4b6f9ea8591f6967a76e": {
          "model_module": "@jupyter-widgets/base",
          "model_name": "LayoutModel",
          "state": {
            "_view_name": "LayoutView",
            "grid_template_rows": null,
            "right": null,
            "justify_content": null,
            "_view_module": "@jupyter-widgets/base",
            "overflow": null,
            "_model_module_version": "1.2.0",
            "_view_count": null,
            "flex_flow": null,
            "width": null,
            "min_width": null,
            "border": null,
            "align_items": null,
            "bottom": null,
            "_model_module": "@jupyter-widgets/base",
            "top": null,
            "grid_column": null,
            "overflow_y": null,
            "overflow_x": null,
            "grid_auto_flow": null,
            "grid_area": null,
            "grid_template_columns": null,
            "flex": null,
            "_model_name": "LayoutModel",
            "justify_items": null,
            "grid_row": null,
            "max_height": null,
            "align_content": null,
            "visibility": null,
            "align_self": null,
            "height": null,
            "min_height": null,
            "padding": null,
            "grid_auto_rows": null,
            "grid_gap": null,
            "max_width": null,
            "order": null,
            "_view_module_version": "1.2.0",
            "grid_template_areas": null,
            "object_position": null,
            "object_fit": null,
            "grid_auto_columns": null,
            "margin": null,
            "display": null,
            "left": null
          }
        },
        "30d66e40e08147e8bbb03340d0408201": {
          "model_module": "@jupyter-widgets/controls",
          "model_name": "FloatProgressModel",
          "state": {
            "_view_name": "ProgressView",
            "style": "IPY_MODEL_b8d37cb4f7554baabec9e90a52671ba4",
            "_dom_classes": [],
            "description": "Downloading: 100%",
            "_model_name": "FloatProgressModel",
            "bar_style": "success",
            "max": 257706,
            "_view_module": "@jupyter-widgets/controls",
            "_model_module_version": "1.5.0",
            "value": 257706,
            "_view_count": null,
            "_view_module_version": "1.5.0",
            "orientation": "horizontal",
            "min": 0,
            "description_tooltip": null,
            "_model_module": "@jupyter-widgets/controls",
            "layout": "IPY_MODEL_077ed677b1f04aeb83983cf9f4666b4e"
          }
        },
        "315e1fd8983e41408f67db1c2fc65e2a": {
          "model_module": "@jupyter-widgets/controls",
          "model_name": "HTMLModel",
          "state": {
            "_view_name": "HTMLView",
            "style": "IPY_MODEL_07d8cd502e2041bf8778aaec8a186c44",
            "_dom_classes": [],
            "description": "",
            "_model_name": "HTMLModel",
            "placeholder": "​",
            "_view_module": "@jupyter-widgets/controls",
            "_model_module_version": "1.5.0",
            "value": " 258k/258k [00:00&lt;00:00, 1.06MB/s]",
            "_view_count": null,
            "_view_module_version": "1.5.0",
            "description_tooltip": null,
            "_model_module": "@jupyter-widgets/controls",
            "layout": "IPY_MODEL_54236b756fb1427cb33791edd677588c"
          }
        },
        "b8d37cb4f7554baabec9e90a52671ba4": {
          "model_module": "@jupyter-widgets/controls",
          "model_name": "ProgressStyleModel",
          "state": {
            "_view_name": "StyleView",
            "_model_name": "ProgressStyleModel",
            "description_width": "initial",
            "_view_module": "@jupyter-widgets/base",
            "_model_module_version": "1.5.0",
            "_view_count": null,
            "_view_module_version": "1.2.0",
            "bar_color": null,
            "_model_module": "@jupyter-widgets/controls"
          }
        },
        "077ed677b1f04aeb83983cf9f4666b4e": {
          "model_module": "@jupyter-widgets/base",
          "model_name": "LayoutModel",
          "state": {
            "_view_name": "LayoutView",
            "grid_template_rows": null,
            "right": null,
            "justify_content": null,
            "_view_module": "@jupyter-widgets/base",
            "overflow": null,
            "_model_module_version": "1.2.0",
            "_view_count": null,
            "flex_flow": null,
            "width": null,
            "min_width": null,
            "border": null,
            "align_items": null,
            "bottom": null,
            "_model_module": "@jupyter-widgets/base",
            "top": null,
            "grid_column": null,
            "overflow_y": null,
            "overflow_x": null,
            "grid_auto_flow": null,
            "grid_area": null,
            "grid_template_columns": null,
            "flex": null,
            "_model_name": "LayoutModel",
            "justify_items": null,
            "grid_row": null,
            "max_height": null,
            "align_content": null,
            "visibility": null,
            "align_self": null,
            "height": null,
            "min_height": null,
            "padding": null,
            "grid_auto_rows": null,
            "grid_gap": null,
            "max_width": null,
            "order": null,
            "_view_module_version": "1.2.0",
            "grid_template_areas": null,
            "object_position": null,
            "object_fit": null,
            "grid_auto_columns": null,
            "margin": null,
            "display": null,
            "left": null
          }
        },
        "07d8cd502e2041bf8778aaec8a186c44": {
          "model_module": "@jupyter-widgets/controls",
          "model_name": "DescriptionStyleModel",
          "state": {
            "_view_name": "StyleView",
            "_model_name": "DescriptionStyleModel",
            "description_width": "",
            "_view_module": "@jupyter-widgets/base",
            "_model_module_version": "1.5.0",
            "_view_count": null,
            "_view_module_version": "1.2.0",
            "_model_module": "@jupyter-widgets/controls"
          }
        },
        "54236b756fb1427cb33791edd677588c": {
          "model_module": "@jupyter-widgets/base",
          "model_name": "LayoutModel",
          "state": {
            "_view_name": "LayoutView",
            "grid_template_rows": null,
            "right": null,
            "justify_content": null,
            "_view_module": "@jupyter-widgets/base",
            "overflow": null,
            "_model_module_version": "1.2.0",
            "_view_count": null,
            "flex_flow": null,
            "width": null,
            "min_width": null,
            "border": null,
            "align_items": null,
            "bottom": null,
            "_model_module": "@jupyter-widgets/base",
            "top": null,
            "grid_column": null,
            "overflow_y": null,
            "overflow_x": null,
            "grid_auto_flow": null,
            "grid_area": null,
            "grid_template_columns": null,
            "flex": null,
            "_model_name": "LayoutModel",
            "justify_items": null,
            "grid_row": null,
            "max_height": null,
            "align_content": null,
            "visibility": null,
            "align_self": null,
            "height": null,
            "min_height": null,
            "padding": null,
            "grid_auto_rows": null,
            "grid_gap": null,
            "max_width": null,
            "order": null,
            "_view_module_version": "1.2.0",
            "grid_template_areas": null,
            "object_position": null,
            "object_fit": null,
            "grid_auto_columns": null,
            "margin": null,
            "display": null,
            "left": null
          }
        },
        "1ba8b9b2986a450ba39119116023ea94": {
          "model_module": "@jupyter-widgets/controls",
          "model_name": "HBoxModel",
          "state": {
            "_view_name": "HBoxView",
            "_dom_classes": [],
            "_model_name": "HBoxModel",
            "_view_module": "@jupyter-widgets/controls",
            "_model_module_version": "1.5.0",
            "_view_count": null,
            "_view_module_version": "1.5.0",
            "box_style": "",
            "layout": "IPY_MODEL_0d470ab1b90242699720ba60a06f2901",
            "_model_module": "@jupyter-widgets/controls",
            "children": [
              "IPY_MODEL_cba49d7db4b744408b11d5a3e6f59780",
              "IPY_MODEL_dedfb81920c44bdab07b7af64feaf28d"
            ]
          }
        },
        "0d470ab1b90242699720ba60a06f2901": {
          "model_module": "@jupyter-widgets/base",
          "model_name": "LayoutModel",
          "state": {
            "_view_name": "LayoutView",
            "grid_template_rows": null,
            "right": null,
            "justify_content": null,
            "_view_module": "@jupyter-widgets/base",
            "overflow": null,
            "_model_module_version": "1.2.0",
            "_view_count": null,
            "flex_flow": null,
            "width": null,
            "min_width": null,
            "border": null,
            "align_items": null,
            "bottom": null,
            "_model_module": "@jupyter-widgets/base",
            "top": null,
            "grid_column": null,
            "overflow_y": null,
            "overflow_x": null,
            "grid_auto_flow": null,
            "grid_area": null,
            "grid_template_columns": null,
            "flex": null,
            "_model_name": "LayoutModel",
            "justify_items": null,
            "grid_row": null,
            "max_height": null,
            "align_content": null,
            "visibility": null,
            "align_self": null,
            "height": null,
            "min_height": null,
            "padding": null,
            "grid_auto_rows": null,
            "grid_gap": null,
            "max_width": null,
            "order": null,
            "_view_module_version": "1.2.0",
            "grid_template_areas": null,
            "object_position": null,
            "object_fit": null,
            "grid_auto_columns": null,
            "margin": null,
            "display": null,
            "left": null
          }
        },
        "cba49d7db4b744408b11d5a3e6f59780": {
          "model_module": "@jupyter-widgets/controls",
          "model_name": "FloatProgressModel",
          "state": {
            "_view_name": "ProgressView",
            "style": "IPY_MODEL_8fd2456026fb4fbe852e6406e77e1191",
            "_dom_classes": [],
            "description": "Downloading: 100%",
            "_model_name": "FloatProgressModel",
            "bar_style": "success",
            "max": 445021143,
            "_view_module": "@jupyter-widgets/controls",
            "_model_module_version": "1.5.0",
            "value": 445021143,
            "_view_count": null,
            "_view_module_version": "1.5.0",
            "orientation": "horizontal",
            "min": 0,
            "description_tooltip": null,
            "_model_module": "@jupyter-widgets/controls",
            "layout": "IPY_MODEL_77e9117b6f7f470799d8ca9e5ef359b0"
          }
        },
        "dedfb81920c44bdab07b7af64feaf28d": {
          "model_module": "@jupyter-widgets/controls",
          "model_name": "HTMLModel",
          "state": {
            "_view_name": "HTMLView",
            "style": "IPY_MODEL_e6426e3276614c99b2fb228cc4009594",
            "_dom_classes": [],
            "description": "",
            "_model_name": "HTMLModel",
            "placeholder": "​",
            "_view_module": "@jupyter-widgets/controls",
            "_model_module_version": "1.5.0",
            "value": " 445M/445M [00:06&lt;00:00, 68.7MB/s]",
            "_view_count": null,
            "_view_module_version": "1.5.0",
            "description_tooltip": null,
            "_model_module": "@jupyter-widgets/controls",
            "layout": "IPY_MODEL_fb61de05c6cc430f8923df1aaef9f037"
          }
        },
        "8fd2456026fb4fbe852e6406e77e1191": {
          "model_module": "@jupyter-widgets/controls",
          "model_name": "ProgressStyleModel",
          "state": {
            "_view_name": "StyleView",
            "_model_name": "ProgressStyleModel",
            "description_width": "initial",
            "_view_module": "@jupyter-widgets/base",
            "_model_module_version": "1.5.0",
            "_view_count": null,
            "_view_module_version": "1.2.0",
            "bar_color": null,
            "_model_module": "@jupyter-widgets/controls"
          }
        },
        "77e9117b6f7f470799d8ca9e5ef359b0": {
          "model_module": "@jupyter-widgets/base",
          "model_name": "LayoutModel",
          "state": {
            "_view_name": "LayoutView",
            "grid_template_rows": null,
            "right": null,
            "justify_content": null,
            "_view_module": "@jupyter-widgets/base",
            "overflow": null,
            "_model_module_version": "1.2.0",
            "_view_count": null,
            "flex_flow": null,
            "width": null,
            "min_width": null,
            "border": null,
            "align_items": null,
            "bottom": null,
            "_model_module": "@jupyter-widgets/base",
            "top": null,
            "grid_column": null,
            "overflow_y": null,
            "overflow_x": null,
            "grid_auto_flow": null,
            "grid_area": null,
            "grid_template_columns": null,
            "flex": null,
            "_model_name": "LayoutModel",
            "justify_items": null,
            "grid_row": null,
            "max_height": null,
            "align_content": null,
            "visibility": null,
            "align_self": null,
            "height": null,
            "min_height": null,
            "padding": null,
            "grid_auto_rows": null,
            "grid_gap": null,
            "max_width": null,
            "order": null,
            "_view_module_version": "1.2.0",
            "grid_template_areas": null,
            "object_position": null,
            "object_fit": null,
            "grid_auto_columns": null,
            "margin": null,
            "display": null,
            "left": null
          }
        },
        "e6426e3276614c99b2fb228cc4009594": {
          "model_module": "@jupyter-widgets/controls",
          "model_name": "DescriptionStyleModel",
          "state": {
            "_view_name": "StyleView",
            "_model_name": "DescriptionStyleModel",
            "description_width": "",
            "_view_module": "@jupyter-widgets/base",
            "_model_module_version": "1.5.0",
            "_view_count": null,
            "_view_module_version": "1.2.0",
            "_model_module": "@jupyter-widgets/controls"
          }
        },
        "fb61de05c6cc430f8923df1aaef9f037": {
          "model_module": "@jupyter-widgets/base",
          "model_name": "LayoutModel",
          "state": {
            "_view_name": "LayoutView",
            "grid_template_rows": null,
            "right": null,
            "justify_content": null,
            "_view_module": "@jupyter-widgets/base",
            "overflow": null,
            "_model_module_version": "1.2.0",
            "_view_count": null,
            "flex_flow": null,
            "width": null,
            "min_width": null,
            "border": null,
            "align_items": null,
            "bottom": null,
            "_model_module": "@jupyter-widgets/base",
            "top": null,
            "grid_column": null,
            "overflow_y": null,
            "overflow_x": null,
            "grid_auto_flow": null,
            "grid_area": null,
            "grid_template_columns": null,
            "flex": null,
            "_model_name": "LayoutModel",
            "justify_items": null,
            "grid_row": null,
            "max_height": null,
            "align_content": null,
            "visibility": null,
            "align_self": null,
            "height": null,
            "min_height": null,
            "padding": null,
            "grid_auto_rows": null,
            "grid_gap": null,
            "max_width": null,
            "order": null,
            "_view_module_version": "1.2.0",
            "grid_template_areas": null,
            "object_position": null,
            "object_fit": null,
            "grid_auto_columns": null,
            "margin": null,
            "display": null,
            "left": null
          }
        }
      }
    }
  },
  "cells": [
    {
      "cell_type": "markdown",
      "metadata": {
        "id": "view-in-github",
        "colab_type": "text"
      },
      "source": [
        "<a href=\"https://colab.research.google.com/github/taishi-i/toiro/blob/develop/examples/05_svm_vs_bert_benchmarking_application_tasks.ipynb\" target=\"_parent\"><img src=\"https://colab.research.google.com/assets/colab-badge.svg\" alt=\"Open In Colab\"/></a>"
      ]
    },
    {
      "cell_type": "markdown",
      "metadata": {
        "id": "jF_Y7WU6mqXO",
        "colab_type": "text"
      },
      "source": [
        "# 1. Introduction\n",
        "\n",
        "If you want to use a GPU, go to Runtime > Change Runtime Type > Turn on GPU."
      ]
    },
    {
      "cell_type": "code",
      "metadata": {
        "id": "cXCtOxstoYXT",
        "colab_type": "code",
        "colab": {}
      },
      "source": [
        "pip install toiro[all_classifiers]"
      ],
      "execution_count": null,
      "outputs": []
    },
    {
      "cell_type": "code",
      "metadata": {
        "id": "4XAbGnfB29a6",
        "colab_type": "code",
        "colab": {}
      },
      "source": [
        "pip install mecab-python3==0.996.5"
      ],
      "execution_count": null,
      "outputs": []
    },
    {
      "cell_type": "code",
      "metadata": {
        "id": "HF_NuGzBmmNj",
        "colab_type": "code",
        "colab": {}
      },
      "source": [
        "import warnings\n",
        "\n",
        "from toiro import classifiers\n",
        "from toiro import datadownloader\n",
        "\n",
        "warnings.simplefilter('ignore')"
      ],
      "execution_count": 3,
      "outputs": []
    },
    {
      "cell_type": "markdown",
      "metadata": {
        "id": "rsWdY6ZHngeR",
        "colab_type": "text"
      },
      "source": [
        "# 2. Download a corpus"
      ]
    },
    {
      "cell_type": "code",
      "metadata": {
        "id": "yPbW3DLXnm_q",
        "colab_type": "code",
        "colab": {
          "base_uri": "https://localhost:8080/",
          "height": 241
        },
        "outputId": "59c86ce2-d5e5-4a45-918d-dd176d0afc3e"
      },
      "source": [
        "# Download the livedoor news corpus and load it as pandas\n",
        "corpus = 'livedoor_news_corpus'\n",
        "datadownloader.download_corpus(corpus)\n",
        "train_df, dev_df, test_df = datadownloader.load_corpus(corpus)\n",
        "train_df.head()"
      ],
      "execution_count": 4,
      "outputs": [
        {
          "output_type": "stream",
          "text": [
            "Downloading ldcc-20140209.tar.gz from https://www.rondhuit.com/download/ldcc-20140209.tar.gz: 31.6MB [00:02, 10.6MB/s]\n"
          ],
          "name": "stderr"
        },
        {
          "output_type": "execute_result",
          "data": {
            "text/html": [
              "<div>\n",
              "<style scoped>\n",
              "    .dataframe tbody tr th:only-of-type {\n",
              "        vertical-align: middle;\n",
              "    }\n",
              "\n",
              "    .dataframe tbody tr th {\n",
              "        vertical-align: top;\n",
              "    }\n",
              "\n",
              "    .dataframe thead th {\n",
              "        text-align: right;\n",
              "    }\n",
              "</style>\n",
              "<table border=\"1\" class=\"dataframe\">\n",
              "  <thead>\n",
              "    <tr style=\"text-align: right;\">\n",
              "      <th></th>\n",
              "      <th>0</th>\n",
              "      <th>1</th>\n",
              "    </tr>\n",
              "  </thead>\n",
              "  <tbody>\n",
              "    <tr>\n",
              "      <th>0</th>\n",
              "      <td>smax</td>\n",
              "      <td>専用のPlayキーを持つ防水ミュージックプレイヤー スマートフォン「AQUOS PHONE ...</td>\n",
              "    </tr>\n",
              "    <tr>\n",
              "      <th>1</th>\n",
              "      <td>movie-enter</td>\n",
              "      <td>『G.I.ジョー』が3D化のために公開延期が決定</td>\n",
              "    </tr>\n",
              "    <tr>\n",
              "      <th>2</th>\n",
              "      <td>dokujo-tsushin</td>\n",
              "      <td>25歳未満のデキ婚率50％!? デキ婚同僚に独女が言いたいこと</td>\n",
              "    </tr>\n",
              "    <tr>\n",
              "      <th>3</th>\n",
              "      <td>dokujo-tsushin</td>\n",
              "      <td>正直な貯金額、人に言えますか？　Presented by ゆるっとcafe</td>\n",
              "    </tr>\n",
              "    <tr>\n",
              "      <th>4</th>\n",
              "      <td>smax</td>\n",
              "      <td>世界初の下り150Mbps対応！イー・モバイルの新モバイルWi-Fiルーター「Pocket ...</td>\n",
              "    </tr>\n",
              "  </tbody>\n",
              "</table>\n",
              "</div>"
            ],
            "text/plain": [
              "                0                                                  1\n",
              "0            smax  専用のPlayキーを持つ防水ミュージックプレイヤー スマートフォン「AQUOS PHONE ...\n",
              "1     movie-enter                           『G.I.ジョー』が3D化のために公開延期が決定\n",
              "2  dokujo-tsushin                    25歳未満のデキ婚率50％!? デキ婚同僚に独女が言いたいこと\n",
              "3  dokujo-tsushin              正直な貯金額、人に言えますか？　Presented by ゆるっとcafe\n",
              "4            smax  世界初の下り150Mbps対応！イー・モバイルの新モバイルWi-Fiルーター「Pocket ..."
            ]
          },
          "metadata": {
            "tags": []
          },
          "execution_count": 4
        }
      ]
    },
    {
      "cell_type": "markdown",
      "metadata": {
        "id": "kzd18yJupha2",
        "colab_type": "text"
      },
      "source": [
        "# 3. Train a SVM text classifier"
      ]
    },
    {
      "cell_type": "code",
      "metadata": {
        "id": "NDRDJYCQpLlr",
        "colab_type": "code",
        "colab": {
          "base_uri": "https://localhost:8080/",
          "height": 289
        },
        "outputId": "f592bc6f-3017-47aa-cb80-ecdc8e4f5a0e"
      },
      "source": [
        "# Initialize a SVM model with the mecab-python3 tokenizer                              \n",
        "model = classifiers.SVMClassificationModel(tokenizer='mecab-python3')\n",
        "                                                                                \n",
        "# Training a SVM model                                                          \n",
        "model.fit(train_df, dev_df)                                                     \n",
        "                                                                                \n",
        "# Evaluate the trained SVM model                                                \n",
        "svm_result = model.eval(test_df)                                                    \n",
        "svm_report = svm_result[\"classification_report\"]                                                                \n",
        "print(svm_report)"
      ],
      "execution_count": 5,
      "outputs": [
        {
          "output_type": "stream",
          "text": [
            "                precision    recall  f1-score   support\n",
            "\n",
            "dokujo-tsushin       0.78      0.73      0.75        86\n",
            "  it-life-hack       0.86      0.91      0.88        87\n",
            " kaden-channel       0.98      0.88      0.93        93\n",
            "livedoor-homme       0.90      0.77      0.83        57\n",
            "   movie-enter       0.89      0.81      0.85        86\n",
            "        peachy       0.67      0.80      0.73        83\n",
            "          smax       0.94      0.96      0.95        81\n",
            "  sports-watch       0.85      0.87      0.86        84\n",
            "    topic-news       0.79      0.84      0.81        80\n",
            "\n",
            "      accuracy                           0.84       737\n",
            "     macro avg       0.85      0.84      0.84       737\n",
            "  weighted avg       0.85      0.84      0.85       737\n",
            "\n"
          ],
          "name": "stdout"
        }
      ]
    },
    {
      "cell_type": "markdown",
      "metadata": {
        "id": "cGH6P7izrMzT",
        "colab_type": "text"
      },
      "source": [
        "#4. Train a BERT text classifier"
      ]
    },
    {
      "cell_type": "code",
      "metadata": {
        "id": "XjFMePB5rSQF",
        "colab_type": "code",
        "colab": {
          "base_uri": "https://localhost:8080/",
          "height": 762,
          "referenced_widgets": [
            "6d8478d52c024fcf9af51129102777fc",
            "79188465e98c46848488fcea76ca25d0",
            "24f817c6215445f39adfdc5d05492f09",
            "0cc685c6caea48aa9a69c893ab6d2fec",
            "4356b8ab0d704a4ca87d203513f6ed70",
            "e27f5f77114f4c70a31acd5427412902",
            "70c25884cda2473eb8078bf2a9786dc6",
            "679f6dfc12bc481187e417a63affd6a7",
            "6585369c77a84bec9fb972625d7126e8",
            "78d3be61376e4b6f9ea8591f6967a76e",
            "30d66e40e08147e8bbb03340d0408201",
            "315e1fd8983e41408f67db1c2fc65e2a",
            "b8d37cb4f7554baabec9e90a52671ba4",
            "077ed677b1f04aeb83983cf9f4666b4e",
            "07d8cd502e2041bf8778aaec8a186c44",
            "54236b756fb1427cb33791edd677588c",
            "1ba8b9b2986a450ba39119116023ea94",
            "0d470ab1b90242699720ba60a06f2901",
            "cba49d7db4b744408b11d5a3e6f59780",
            "dedfb81920c44bdab07b7af64feaf28d",
            "8fd2456026fb4fbe852e6406e77e1191",
            "77e9117b6f7f470799d8ca9e5ef359b0",
            "e6426e3276614c99b2fb228cc4009594",
            "fb61de05c6cc430f8923df1aaef9f037"
          ]
        },
        "outputId": "632be6c0-36d1-46d8-de2d-e3409dcdba55"
      },
      "source": [
        "# Initialize a BERT model \n",
        "model = classifiers.BERTClassificationModel()\n",
        "\n",
        "# Training a BERT model                                                          \n",
        "model.fit(train_df, dev_df, epochs=3, verbose=True) \n",
        "\n",
        "# Evaluate the trained BERT model                                                \n",
        "bert_result = model.eval(test_df)                                                    \n",
        "bert_report = bert_result[\"classification_report\"]                                                                \n",
        "print(bert_report)"
      ],
      "execution_count": 6,
      "outputs": [
        {
          "output_type": "display_data",
          "data": {
            "application/vnd.jupyter.widget-view+json": {
              "model_id": "6d8478d52c024fcf9af51129102777fc",
              "version_minor": 0,
              "version_major": 2
            },
            "text/plain": [
              "HBox(children=(FloatProgress(value=0.0, description='Downloading', max=433.0, style=ProgressStyle(description_…"
            ]
          },
          "metadata": {
            "tags": []
          }
        },
        {
          "output_type": "stream",
          "text": [
            "\n"
          ],
          "name": "stdout"
        },
        {
          "output_type": "display_data",
          "data": {
            "application/vnd.jupyter.widget-view+json": {
              "model_id": "6585369c77a84bec9fb972625d7126e8",
              "version_minor": 0,
              "version_major": 2
            },
            "text/plain": [
              "HBox(children=(FloatProgress(value=0.0, description='Downloading', max=257706.0, style=ProgressStyle(descripti…"
            ]
          },
          "metadata": {
            "tags": []
          }
        },
        {
          "output_type": "stream",
          "text": [
            "\n"
          ],
          "name": "stdout"
        },
        {
          "output_type": "display_data",
          "data": {
            "application/vnd.jupyter.widget-view+json": {
              "model_id": "1ba8b9b2986a450ba39119116023ea94",
              "version_minor": 0,
              "version_major": 2
            },
            "text/plain": [
              "HBox(children=(FloatProgress(value=0.0, description='Downloading', max=445021143.0, style=ProgressStyle(descri…"
            ]
          },
          "metadata": {
            "tags": []
          }
        },
        {
          "output_type": "stream",
          "text": [
            "\n",
            "1/3 * Epoch (train): 100% 369/369 [04:26<00:00,  1.38it/s, accuracy01=0.917, accuracy03=0.917, accuracy05=1.000, loss=0.317]\n",
            "1/3 * Epoch (valid): 100% 47/47 [00:12<00:00,  3.90it/s, accuracy01=1.000, accuracy03=1.000, accuracy05=1.000, loss=0.038]\n",
            "[2020-08-20 13:20:49,198] \n",
            "1/3 * Epoch 1 (_base): lr=5.000e-05 | momentum=0.9000\n",
            "1/3 * Epoch 1 (train): accuracy01=0.7615 | accuracy03=0.9337 | accuracy05=0.9729 | loss=0.7388\n",
            "1/3 * Epoch 1 (valid): accuracy01=0.8182 | accuracy03=0.9552 | accuracy05=0.9919 | loss=0.5397\n",
            "2/3 * Epoch (train): 100% 369/369 [04:27<00:00,  1.38it/s, accuracy01=0.750, accuracy03=1.000, accuracy05=1.000, loss=0.542]\n",
            "2/3 * Epoch (valid): 100% 47/47 [00:12<00:00,  3.91it/s, accuracy01=1.000, accuracy03=1.000, accuracy05=1.000, loss=0.020]\n",
            "[2020-08-20 13:25:29,185] \n",
            "2/3 * Epoch 2 (_base): lr=5.000e-05 | momentum=0.9000\n",
            "2/3 * Epoch 2 (train): accuracy01=0.9198 | accuracy03=0.9871 | accuracy05=0.9969 | loss=0.2653\n",
            "2/3 * Epoch 2 (valid): accuracy01=0.8657 | accuracy03=0.9769 | accuracy05=0.9946 | loss=0.4271\n",
            "3/3 * Epoch (train): 100% 369/369 [04:28<00:00,  1.38it/s, accuracy01=0.917, accuracy03=1.000, accuracy05=1.000, loss=0.161]\n",
            "3/3 * Epoch (valid): 100% 47/47 [00:12<00:00,  3.91it/s, accuracy01=1.000, accuracy03=1.000, accuracy05=1.000, loss=0.008]\n",
            "[2020-08-20 13:30:09,541] \n",
            "3/3 * Epoch 3 (_base): lr=5.000e-05 | momentum=0.9000\n",
            "3/3 * Epoch 3 (train): accuracy01=0.9620 | accuracy03=0.9958 | accuracy05=0.9986 | loss=0.1319\n",
            "3/3 * Epoch 3 (valid): accuracy01=0.8806 | accuracy03=0.9783 | accuracy05=0.9891 | loss=0.4127\n",
            "                precision    recall  f1-score   support\n",
            "\n",
            "dokujo-tsushin       0.82      0.83      0.82        86\n",
            "  it-life-hack       0.93      0.87      0.90        87\n",
            " kaden-channel       0.97      0.90      0.93        93\n",
            "livedoor-homme       0.89      0.70      0.78        57\n",
            "   movie-enter       0.87      0.80      0.84        86\n",
            "        peachy       0.66      0.83      0.74        83\n",
            "          smax       0.93      0.98      0.95        81\n",
            "  sports-watch       0.91      0.86      0.88        84\n",
            "    topic-news       0.79      0.88      0.83        80\n",
            "\n",
            "      accuracy                           0.85       737\n",
            "     macro avg       0.86      0.85      0.85       737\n",
            "  weighted avg       0.86      0.85      0.86       737\n",
            "\n"
          ],
          "name": "stdout"
        }
      ]
    }
  ]
}