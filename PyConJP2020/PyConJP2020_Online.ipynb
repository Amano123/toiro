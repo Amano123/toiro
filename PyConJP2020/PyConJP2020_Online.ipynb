{
  "nbformat": 4,
  "nbformat_minor": 0,
  "metadata": {
    "colab": {
      "name": "PyConJP2020_Online.ipynb",
      "provenance": [],
      "toc_visible": true,
      "authorship_tag": "ABX9TyNMnXmK97pgskXeSXBFHm05",
      "include_colab_link": true
    },
    "kernelspec": {
      "name": "python3",
      "display_name": "Python 3"
    },
    "accelerator": "GPU"
  },
  "cells": [
    {
      "cell_type": "markdown",
      "metadata": {
        "id": "view-in-github",
        "colab_type": "text"
      },
      "source": [
        "<a href=\"https://colab.research.google.com/github/taishi-i/toiro/blob/master/PyConJP2020/PyConJP2020_Online.ipynb\" target=\"_parent\"><img src=\"https://colab.research.google.com/assets/colab-badge.svg\" alt=\"Open In Colab\"/></a>"
      ]
    },
    {
      "cell_type": "markdown",
      "metadata": {
        "id": "RqcWKdewbUXm",
        "colab_type": "text"
      },
      "source": [
        "<p align=\"center\"><img width=\"40%\" src=\"https://github.com/taishi-i/toiro/blob/develop/PyConJP2020/PyConJP2020_Online.png?raw=1\" /></p>\n",
        "\n",
        "# 最先端自然言語処理ライブラリの最適な選択と有用な利用方法\n",
        "\n",
        "- 発表スケジュール: 2020/08/29 14:50-15:20 (30min)\n",
        "- 発表詳細: https://pycon.jp/2020/timetable/?id=203164\n",
        "- 発表スライド（Speaker Deck）: https://speakerdeck.com/taishii/pycon-jp-2020/\n",
        "\n",
        "この notebook では、発表スライドのサンプルコードを実行します。\n",
        "\n",
        "※ GPU を利用する場合（BERT モデルを学習する）は **ランタイム→ランタイムのタイプ変更→GPU** をオンにしてください。\n",
        "\n",
        "まずは、実行に必要なライブラリをインストールするため、次の pip install を実行します。"
      ]
    },
    {
      "cell_type": "code",
      "metadata": {
        "id": "DTiZnIN5rAuC",
        "colab_type": "code",
        "colab": {}
      },
      "source": [
        "!pip install toiro[all]"
      ],
      "execution_count": null,
      "outputs": []
    },
    {
      "cell_type": "markdown",
      "metadata": {
        "id": "qUGrxu09bsTk",
        "colab_type": "text"
      },
      "source": [
        "# 1. Python を利用した日本語自然言語処理"
      ]
    },
    {
      "cell_type": "markdown",
      "metadata": {
        "id": "361gw4CEb7M1",
        "colab_type": "text"
      },
      "source": [
        "## [Janome](https://github.com/mocobeta/janome) の利用方法\n",
        "\n"
      ]
    },
    {
      "cell_type": "markdown",
      "metadata": {
        "id": "4ucLaZcPd08I",
        "colab_type": "text"
      },
      "source": [
        "インストール方法"
      ]
    },
    {
      "cell_type": "code",
      "metadata": {
        "id": "qkjBYhlkdTgz",
        "colab_type": "code",
        "colab": {}
      },
      "source": [
        "!pip install Janome"
      ],
      "execution_count": null,
      "outputs": []
    },
    {
      "cell_type": "markdown",
      "metadata": {
        "id": "cyXiHYzxd78-",
        "colab_type": "text"
      },
      "source": [
        "実装方法"
      ]
    },
    {
      "cell_type": "code",
      "metadata": {
        "id": "ZPNLwOeUeCDG",
        "colab_type": "code",
        "colab": {
          "base_uri": "https://localhost:8080/",
          "height": 153
        },
        "outputId": "dc79ab7d-58f4-43ec-d757-a0977235dbb4"
      },
      "source": [
        "from janome.tokenizer import Tokenizer\n",
        "t = Tokenizer() # Initialize Janome\n",
        "text = \"Python で前処理を実行する\"\n",
        "for token in t.tokenize(text):\n",
        "    print(token)"
      ],
      "execution_count": null,
      "outputs": [
        {
          "output_type": "stream",
          "text": [
            "Python\t名詞,固有名詞,組織,*,*,*,Python,*,*\n",
            " \t記号,空白,*,*,*,*, ,*,*\n",
            "で\t接続詞,*,*,*,*,*,で,デ,デ\n",
            "前\t接頭詞,名詞接続,*,*,*,*,前,ゼン,ゼン\n",
            "処理\t名詞,サ変接続,*,*,*,*,処理,ショリ,ショリ\n",
            "を\t助詞,格助詞,一般,*,*,*,を,ヲ,ヲ\n",
            "実行\t名詞,サ変接続,*,*,*,*,実行,ジッコウ,ジッコー\n",
            "する\t動詞,自立,*,*,サ変・スル,基本形,する,スル,スル\n"
          ],
          "name": "stdout"
        }
      ]
    },
    {
      "cell_type": "markdown",
      "metadata": {
        "id": "vcQ3_7mgeStj",
        "colab_type": "text"
      },
      "source": [
        "## [mecab-python3](https://github.com/SamuraiT/mecab-python3) の利用方法"
      ]
    },
    {
      "cell_type": "markdown",
      "metadata": {
        "id": "q8foG5lUeofZ",
        "colab_type": "text"
      },
      "source": [
        "インストール方法"
      ]
    },
    {
      "cell_type": "code",
      "metadata": {
        "id": "RmxXehOdeqDF",
        "colab_type": "code",
        "colab": {}
      },
      "source": [
        "!pip install mecab-python3==0.996.5"
      ],
      "execution_count": null,
      "outputs": []
    },
    {
      "cell_type": "markdown",
      "metadata": {
        "id": "94T57fH4fDpK",
        "colab_type": "text"
      },
      "source": [
        "実装方法"
      ]
    },
    {
      "cell_type": "code",
      "metadata": {
        "id": "mQhWrplsfGKz",
        "colab_type": "code",
        "colab": {
          "base_uri": "https://localhost:8080/",
          "height": 170
        },
        "outputId": "ff38e811-cea8-4d3b-b15d-985a8ba789f4"
      },
      "source": [
        "import MeCab\n",
        "\n",
        "tagger = MeCab.Tagger()\n",
        "text = 'Python で前処理を実行する'\n",
        "print(tagger.parse(text))"
      ],
      "execution_count": null,
      "outputs": [
        {
          "output_type": "stream",
          "text": [
            "Python\t名詞,一般,*,*,*,*,*\n",
            "で\t助詞,格助詞,一般,*,*,*,で,デ,デ\n",
            "前\t接頭詞,名詞接続,*,*,*,*,前,ゼン,ゼン\n",
            "処理\t名詞,サ変接続,*,*,*,*,処理,ショリ,ショリ\n",
            "を\t助詞,格助詞,一般,*,*,*,を,ヲ,ヲ\n",
            "実行\t名詞,サ変接続,*,*,*,*,実行,ジッコウ,ジッコー\n",
            "する\t動詞,自立,*,*,サ変・スル,基本形,する,スル,スル\n",
            "EOS\n",
            "\n"
          ],
          "name": "stdout"
        }
      ]
    },
    {
      "cell_type": "markdown",
      "metadata": {
        "id": "Tc9fGMvsfUFj",
        "colab_type": "text"
      },
      "source": [
        "## [SudachiPy](https://github.com/WorksApplications/SudachiPy) の利用方法"
      ]
    },
    {
      "cell_type": "markdown",
      "metadata": {
        "id": "YCUVhsxcfac5",
        "colab_type": "text"
      },
      "source": [
        "インストール方法"
      ]
    },
    {
      "cell_type": "code",
      "metadata": {
        "id": "j6vPyu7BfYdG",
        "colab_type": "code",
        "colab": {}
      },
      "source": [
        "!pip install sudachipy sudachidict_core"
      ],
      "execution_count": null,
      "outputs": []
    },
    {
      "cell_type": "markdown",
      "metadata": {
        "id": "JccB5394fnMz",
        "colab_type": "text"
      },
      "source": [
        "実装方法"
      ]
    },
    {
      "cell_type": "code",
      "metadata": {
        "id": "8h8AkpV2frMF",
        "colab_type": "code",
        "colab": {
          "base_uri": "https://localhost:8080/",
          "height": 136
        },
        "outputId": "b571fbf9-8959-4035-fd67-0f6375f94674"
      },
      "source": [
        "import imp\n",
        "import pkg_resources\n",
        "imp.reload(pkg_resources)\n",
        "\n",
        "from sudachipy import tokenizer\n",
        "from sudachipy import dictionary\n",
        "\n",
        "tokenizer_obj = dictionary.Dictionary().create() # Initialize sudachipy\n",
        "mode = tokenizer.Tokenizer.SplitMode.C # C: 固有表現相当\n",
        "\n",
        "text = \"Python で前処理を実行する\"\n",
        "ms = tokenizer_obj.tokenize(text, mode)\n",
        "for m in ms:\n",
        "    print(m.surface(), m.dictionary_form(), m.reading_form(), m.part_of_speech())"
      ],
      "execution_count": null,
      "outputs": [
        {
          "output_type": "stream",
          "text": [
            "Python python python ['名詞', '普通名詞', '一般', '*', '*', '*']\n",
            "    キゴウ ['空白', '*', '*', '*', '*', '*']\n",
            "で で デ ['接続詞', '*', '*', '*', '*', '*']\n",
            "前処理 前処理 マエショリ ['名詞', '普通名詞', '一般', '*', '*', '*']\n",
            "を を ヲ ['助詞', '格助詞', '*', '*', '*', '*']\n",
            "実行 実行 ジッコウ ['名詞', '普通名詞', 'サ変可能', '*', '*', '*']\n",
            "する する スル ['動詞', '非自立可能', '*', '*', 'サ行変格', '終止形-一般']\n"
          ],
          "name": "stdout"
        }
      ]
    },
    {
      "cell_type": "markdown",
      "metadata": {
        "id": "zMnX2NI6gUCl",
        "colab_type": "text"
      },
      "source": [
        "## [GiNZA](https://github.com/megagonlabs/ginza) の利用方法"
      ]
    },
    {
      "cell_type": "markdown",
      "metadata": {
        "id": "wfO5i2wIgfWB",
        "colab_type": "text"
      },
      "source": [
        "インストール方法"
      ]
    },
    {
      "cell_type": "code",
      "metadata": {
        "id": "uG77tI_Agj0q",
        "colab_type": "code",
        "colab": {}
      },
      "source": [
        "!pip install spacy ginza"
      ],
      "execution_count": null,
      "outputs": []
    },
    {
      "cell_type": "markdown",
      "metadata": {
        "id": "F2DtNXNwghN0",
        "colab_type": "text"
      },
      "source": [
        "実装方法"
      ]
    },
    {
      "cell_type": "code",
      "metadata": {
        "id": "gGSRZKXzgsnV",
        "colab_type": "code",
        "colab": {
          "base_uri": "https://localhost:8080/",
          "height": 119
        },
        "outputId": "23b0b23f-e692-4399-b574-fd9d38467044"
      },
      "source": [
        "import imp\n",
        "import pkg_resources\n",
        "imp.reload(pkg_resources)\n",
        "\n",
        "import spacy\n",
        "nlp = spacy.load('ja_ginza')\n",
        "text = 'Python で前処理を実行する'\n",
        "tokens = nlp(text)\n",
        "for token in tokens:\n",
        "    print(token, token.tag_,  token.dep_, token.head.i)"
      ],
      "execution_count": null,
      "outputs": [
        {
          "output_type": "stream",
          "text": [
            "Python 名詞-普通名詞-一般 obl 4\n",
            "で 接続詞 case 0\n",
            "前処理 名詞-普通名詞-一般 obj 4\n",
            "を 助詞-格助詞 case 2\n",
            "実行 名詞-普通名詞-サ変可能 ROOT 4\n",
            "する 動詞-非自立可能 aux 4\n"
          ],
          "name": "stdout"
        }
      ]
    },
    {
      "cell_type": "markdown",
      "metadata": {
        "id": "7iAC_HKmjbCG",
        "colab_type": "text"
      },
      "source": [
        "## [nagisa](https://github.com/taishi-i/nagisa) の利用方法"
      ]
    },
    {
      "cell_type": "markdown",
      "metadata": {
        "id": "XJFuOxf3jk8Z",
        "colab_type": "text"
      },
      "source": [
        "インストール方法"
      ]
    },
    {
      "cell_type": "code",
      "metadata": {
        "id": "-oVdfTWCjo40",
        "colab_type": "code",
        "colab": {}
      },
      "source": [
        "!pip install nagisa"
      ],
      "execution_count": null,
      "outputs": []
    },
    {
      "cell_type": "markdown",
      "metadata": {
        "id": "flFDiEiijlQz",
        "colab_type": "text"
      },
      "source": [
        "実装方法"
      ]
    },
    {
      "cell_type": "code",
      "metadata": {
        "id": "Wr8NLD9ZjvzA",
        "colab_type": "code",
        "colab": {
          "base_uri": "https://localhost:8080/",
          "height": 68
        },
        "outputId": "dfd01e21-428d-4e9a-e9e3-84ce3368f5cb"
      },
      "source": [
        "import nagisa\n",
        "text = 'Python で前処理を実行する'\n",
        "tokens = nagisa.tagging(text)\n",
        "print(tokens)\n",
        "print(tokens.words)\n",
        "print(tokens.postags)"
      ],
      "execution_count": null,
      "outputs": [
        {
          "output_type": "stream",
          "text": [
            "Python/名詞 　/空白 で/助詞 前/名詞 処理/名詞 を/助詞 実行/名詞 する/動詞\n",
            "['Python', '\\u3000', 'で', '前', '処理', 'を', '実行', 'する']\n",
            "['名詞', '空白', '助詞', '名詞', '名詞', '助詞', '名詞', '動詞']\n"
          ],
          "name": "stdout"
        }
      ]
    },
    {
      "cell_type": "markdown",
      "metadata": {
        "id": "gviuYO6BkspU",
        "colab_type": "text"
      },
      "source": [
        "## [SentencePiece](https://github.com/google/sentencepiece) の利用方法\n"
      ]
    },
    {
      "cell_type": "markdown",
      "metadata": {
        "id": "YfXdKSK4k6A9",
        "colab_type": "text"
      },
      "source": [
        "インストール方法"
      ]
    },
    {
      "cell_type": "code",
      "metadata": {
        "id": "TzPdVB5yk-Xh",
        "colab_type": "code",
        "colab": {}
      },
      "source": [
        "!pip install sentencepiece"
      ],
      "execution_count": null,
      "outputs": []
    },
    {
      "cell_type": "markdown",
      "metadata": {
        "id": "NvsuOnkclEbf",
        "colab_type": "text"
      },
      "source": [
        "モデルのダウンロード"
      ]
    },
    {
      "cell_type": "code",
      "metadata": {
        "id": "PXrjnsBylGz3",
        "colab_type": "code",
        "colab": {}
      },
      "source": [
        "!wget https://github.com/taishi-i/toiro/raw/master/toiro/tokenizers/data/ja.text8.txt.spm.model\n",
        "!wget https://github.com/taishi-i/toiro/blob/master/toiro/tokenizers/data/ja.text8.txt.spm.vocab"
      ],
      "execution_count": null,
      "outputs": []
    },
    {
      "cell_type": "markdown",
      "metadata": {
        "id": "jvR6KKLEk51R",
        "colab_type": "text"
      },
      "source": [
        "実装方法"
      ]
    },
    {
      "cell_type": "code",
      "metadata": {
        "id": "Zkgm8mN2lCw1",
        "colab_type": "code",
        "colab": {
          "base_uri": "https://localhost:8080/",
          "height": 51
        },
        "outputId": "0e4a1b24-eefa-4138-ab4d-9af4524877e2"
      },
      "source": [
        "import sentencepiece as spm\n",
        "sp = spm.SentencePieceProcessor()\n",
        "sp.load(f\"ja.text8.txt.spm.model\")\n",
        "text = 'Python で前処理を実行する'\n",
        "pieces = sp.encode_as_pieces(text)\n",
        "print(pieces)\n",
        "ids = sp.encode_as_ids(text)\n",
        "print(ids)"
      ],
      "execution_count": null,
      "outputs": [
        {
          "output_type": "stream",
          "text": [
            "['▁', 'P', 'y', 'th', 'on', '▁', 'で', '前', '処理', 'を', '実行', 'する']\n",
            "[5, 0, 210, 1040, 905, 5, 14, 144, 2828, 7, 3749, 22]\n"
          ],
          "name": "stdout"
        }
      ]
    },
    {
      "cell_type": "markdown",
      "metadata": {
        "colab_type": "text",
        "id": "faVVTrgikFUo"
      },
      "source": [
        "## [KyTea](https://github.com/neubig/kytea) の利用方法（本体のインストールが必要）"
      ]
    },
    {
      "cell_type": "markdown",
      "metadata": {
        "colab_type": "text",
        "id": "VKfXzlCJkFUs"
      },
      "source": [
        "インストール方法"
      ]
    },
    {
      "cell_type": "code",
      "metadata": {
        "colab_type": "code",
        "id": "_3FfuMVskFUu",
        "colab": {}
      },
      "source": [
        "pip install kytea"
      ],
      "execution_count": null,
      "outputs": []
    },
    {
      "cell_type": "markdown",
      "metadata": {
        "colab_type": "text",
        "id": "ORC2p2O3kFU8"
      },
      "source": [
        "実装方法"
      ]
    },
    {
      "cell_type": "code",
      "metadata": {
        "colab_type": "code",
        "id": "_YL4EZ-dkFU9",
        "colab": {}
      },
      "source": [
        "# import Mykytea\n",
        "# mk = Mykytea.Mykytea('')\n",
        "# text = 'Python で前処理を実行する'\n",
        "# tokens = mk.getTagsToString(text)\n",
        "# print(tokens)"
      ],
      "execution_count": null,
      "outputs": []
    },
    {
      "cell_type": "markdown",
      "metadata": {
        "id": "B4A1ikHPiqzc",
        "colab_type": "text"
      },
      "source": [
        "## [Juman++ v2](https://github.com/ku-nlp/jumanpp) の利用方法（本体のインストールが必要）"
      ]
    },
    {
      "cell_type": "markdown",
      "metadata": {
        "id": "in2ou8m6jBWp",
        "colab_type": "text"
      },
      "source": [
        "インストール方法"
      ]
    },
    {
      "cell_type": "code",
      "metadata": {
        "id": "lof_UiVUjDkU",
        "colab_type": "code",
        "colab": {}
      },
      "source": [
        "pip install pyknp"
      ],
      "execution_count": null,
      "outputs": []
    },
    {
      "cell_type": "markdown",
      "metadata": {
        "id": "0Fm2Brw0jFZM",
        "colab_type": "text"
      },
      "source": [
        "実装方法"
      ]
    },
    {
      "cell_type": "code",
      "metadata": {
        "id": "78jj0tozjIZ6",
        "colab_type": "code",
        "colab": {}
      },
      "source": [
        "# from pyknp import Juman\n",
        "# jumanpp = Juman() # default is JUMAN++\n",
        "# text = 'Python で前処理を実行する'\n",
        "# tokens = jumanpp.analysis(text)\n",
        "# for mrph in tokens.mrph_list():\n",
        "#   print(mrph.midasi, mrph.yomi, mrph.genkei, mrph.hinsi, mrph.bunrui, mrph.katuyou1, mrph.katuyou2, mrph.imis, mrph.repname)"
      ],
      "execution_count": null,
      "outputs": []
    },
    {
      "cell_type": "markdown",
      "metadata": {
        "id": "tB2kzLdGlu9w",
        "colab_type": "text"
      },
      "source": [
        "## [形態素解析器比較ライブラリ toiro](https://github.com/taishi-i/toiro) の利用方法"
      ]
    },
    {
      "cell_type": "markdown",
      "metadata": {
        "id": "qgZSwmsXl-LQ",
        "colab_type": "text"
      },
      "source": [
        "インストール方法"
      ]
    },
    {
      "cell_type": "code",
      "metadata": {
        "id": "BPUIpDX_l6AN",
        "colab_type": "code",
        "colab": {}
      },
      "source": [
        "!pip install toiro[all_tokenizers]"
      ],
      "execution_count": null,
      "outputs": []
    },
    {
      "cell_type": "markdown",
      "metadata": {
        "id": "zOLGsjhpmAgA",
        "colab_type": "text"
      },
      "source": [
        "実装方法"
      ]
    },
    {
      "cell_type": "code",
      "metadata": {
        "id": "rrspNXK1mCC2",
        "colab_type": "code",
        "colab": {
          "base_uri": "https://localhost:8080/",
          "height": 343
        },
        "outputId": "946c7e8e-5039-490f-f989-a72b656a0e1e"
      },
      "source": [
        "from toiro import tokenizers\n",
        "from toiro import datadownloader\n",
        "\n",
        "corpus = 'livedoor_news_corpus'\n",
        "datadownloader.download_corpus(corpus)\n",
        "train_df, dev_df, test_df = datadownloader.load_corpus(corpus)\n",
        "texts = train_df[1]\n",
        "\n",
        "report = tokenizers.compare(texts)\n",
        "print(report)"
      ],
      "execution_count": null,
      "outputs": [
        {
          "output_type": "stream",
          "text": [
            "PyTorch version 1.6.0+cu101 available.\n",
            "TensorFlow version 2.3.0 available.\n",
            "Downloading ldcc-20140209.tar.gz from https://www.rondhuit.com/download/ldcc-20140209.tar.gz: 31.6MB [00:06, 5.19MB/s]\n",
            "100%|██████████| 5900/5900 [00:00<00:00, 43776.15it/s]\n",
            "  0%|          | 0/5900 [00:00<?, ?it/s]"
          ],
          "name": "stderr"
        },
        {
          "output_type": "stream",
          "text": [
            "[1/7] Tokenizer: mecab-python3\n",
            "[2/7] Tokenizer: janome\n"
          ],
          "name": "stdout"
        },
        {
          "output_type": "stream",
          "text": [
            "100%|██████████| 5900/5900 [00:12<00:00, 488.81it/s]\n",
            "  0%|          | 25/5900 [00:00<00:23, 246.77it/s]"
          ],
          "name": "stderr"
        },
        {
          "output_type": "stream",
          "text": [
            "[3/7] Tokenizer: nagisa\n"
          ],
          "name": "stdout"
        },
        {
          "output_type": "stream",
          "text": [
            "100%|██████████| 5900/5900 [00:23<00:00, 252.16it/s]\n",
            "  1%|          | 53/5900 [00:00<00:11, 523.12it/s]"
          ],
          "name": "stderr"
        },
        {
          "output_type": "stream",
          "text": [
            "[4/7] Tokenizer: sudachipy\n"
          ],
          "name": "stdout"
        },
        {
          "output_type": "stream",
          "text": [
            "100%|██████████| 5900/5900 [00:13<00:00, 428.29it/s]\n",
            "  1%|          | 39/5900 [00:00<00:15, 387.60it/s]"
          ],
          "name": "stderr"
        },
        {
          "output_type": "stream",
          "text": [
            "[5/7] Tokenizer: spacy\n"
          ],
          "name": "stdout"
        },
        {
          "output_type": "stream",
          "text": [
            "100%|██████████| 5900/5900 [00:16<00:00, 351.37it/s]\n",
            "  1%|          | 37/5900 [00:00<00:16, 365.74it/s]"
          ],
          "name": "stderr"
        },
        {
          "output_type": "stream",
          "text": [
            "[6/7] Tokenizer: ginza\n"
          ],
          "name": "stdout"
        },
        {
          "output_type": "stream",
          "text": [
            "100%|██████████| 5900/5900 [00:17<00:00, 336.85it/s]\n",
            "100%|██████████| 5900/5900 [00:00<00:00, 57115.67it/s]"
          ],
          "name": "stderr"
        },
        {
          "output_type": "stream",
          "text": [
            "[7/7] Tokenizer: sentencepiece\n",
            "{'execution_environment': {'python_version': '3.6.9.final.0 (64 bit)', 'arch': 'X86_64', 'brand_raw': 'Intel(R) Xeon(R) CPU @ 2.00GHz', 'count': 2}, 'data': {'number_of_sentences': 5900, 'average_length': 37.56135593220339}, 'mecab-python3': {'elapsed_time': 0.1383678913116455}, 'janome': {'elapsed_time': 12.070675373077393}, 'nagisa': {'elapsed_time': 23.39819049835205}, 'sudachipy': {'elapsed_time': 13.77612829208374}, 'spacy': {'elapsed_time': 16.7920880317688}, 'ginza': {'elapsed_time': 17.515549898147583}, 'sentencepiece': {'elapsed_time': 0.10472822189331055}}\n"
          ],
          "name": "stdout"
        },
        {
          "output_type": "stream",
          "text": [
            "\n"
          ],
          "name": "stderr"
        }
      ]
    },
    {
      "cell_type": "markdown",
      "metadata": {
        "id": "SzaB4Z0TmsEn",
        "colab_type": "text"
      },
      "source": [
        "# 2. 映画のユーザーレビューを利用したテキスト分類モデルの実装"
      ]
    },
    {
      "cell_type": "markdown",
      "metadata": {
        "id": "3FzxDsJ4nBjz",
        "colab_type": "text"
      },
      "source": [
        "## 検証用データセット：Yahoo Movie Reviews"
      ]
    },
    {
      "cell_type": "markdown",
      "metadata": {
        "id": "1dqc3ij5nJil",
        "colab_type": "text"
      },
      "source": [
        "ライブラリのインストール"
      ]
    },
    {
      "cell_type": "code",
      "metadata": {
        "id": "XJ1bqriVnNC3",
        "colab_type": "code",
        "colab": {}
      },
      "source": [
        "!pip install toiro"
      ],
      "execution_count": null,
      "outputs": []
    },
    {
      "cell_type": "markdown",
      "metadata": {
        "id": "iBHhD91hnR1Y",
        "colab_type": "text"
      },
      "source": [
        "コーパスのダウンロード"
      ]
    },
    {
      "cell_type": "code",
      "metadata": {
        "id": "SDwTooOLnTld",
        "colab_type": "code",
        "colab": {
          "base_uri": "https://localhost:8080/",
          "height": 292
        },
        "outputId": "74379e28-0787-454e-fdd7-24b01222c782"
      },
      "source": [
        "from toiro import datadownloader\n",
        "corpus = 'yahoo_movie_reviews'\n",
        "datadownloader.download_corpus(corpus)\n",
        "train_df, dev_df, test_df = datadownloader.load_corpus(corpus, n=12500)\n",
        "print(train_df)"
      ],
      "execution_count": null,
      "outputs": [
        {
          "output_type": "stream",
          "text": [
            "Downloading yahoo-movie-reviews.json.tar.gz from https://media.githubusercontent.com/media/dennybritz/sentiment-analysis/master/data/yahoo-movie-reviews.json.tar.gz: 100%|██████████| 37.6M/37.6M [00:00<00:00, 114MB/s] \n"
          ],
          "name": "stderr"
        },
        {
          "output_type": "stream",
          "text": [
            "      0                                                  1\n",
            "0     0  笠原郁(榮倉奈々)は、高校時代に助けてくれた図書隊員の“王子様”に憧れて入隊する。顔を憶えて...\n",
            "1     0  原作を読んでいないので、映画を見た批評です。出会い系サイトでの出会い現代社会ではそういったネ...\n",
            "2     0                             CGは相当すごいが筋や演出は期待はずれかな。\n",
            "3     0  「ギャグを散りばめるのはいいけど、一本筋くらい通せよ。真面目なとこは真面目に、笑わせるとこは...\n",
            "4     0  一体、この映画に感動し涙を流した観客は、この映画の何処に感動したのだろうか？史実としての大東...\n",
            "...  ..                                                ...\n",
            "9995  1  今となればちょっと鮮度は落ちたけど、話題になったので一度は見ておきたいなーという方が多いと思...\n",
            "9996  1  前作の「京都大火編」が助走といえるほど、本作は最初から最後までアクションが満載です。原作を全...\n",
            "9997  0           腐れ反日思想の腐った駄作。恥を知れ！クズのボケが。ゴキブリがウヨウヨ気持ち悪い。\n",
            "9998  1  人の集中力は、90分しか持たないと聞いたことがある。騙し騙しでがんばっても、せいぜい2時間が...\n",
            "9999  1  これまで観た映画の中で最も恐ろしい映画だ。ホラー映画（嫌いだからほとんど観たことはない）とは...\n",
            "\n",
            "[10000 rows x 2 columns]\n"
          ],
          "name": "stdout"
        }
      ]
    },
    {
      "cell_type": "markdown",
      "metadata": {
        "id": "k3miAgq3nuG3",
        "colab_type": "text"
      },
      "source": [
        "## [scikit-learn](https://github.com/scikit-learn/scikit-learn) の利用方法\n"
      ]
    },
    {
      "cell_type": "markdown",
      "metadata": {
        "id": "02r5U_JVoNDr",
        "colab_type": "text"
      },
      "source": [
        "インストール方法"
      ]
    },
    {
      "cell_type": "code",
      "metadata": {
        "id": "N3gcYAvfoLQJ",
        "colab_type": "code",
        "colab": {}
      },
      "source": [
        "!pip install scikit-learn"
      ],
      "execution_count": null,
      "outputs": []
    },
    {
      "cell_type": "markdown",
      "metadata": {
        "id": "Zs2AgcyBoujc",
        "colab_type": "text"
      },
      "source": [
        "コーパスダウンロード用ライブラリのインストール"
      ]
    },
    {
      "cell_type": "code",
      "metadata": {
        "id": "sCXaDfzDox0T",
        "colab_type": "code",
        "colab": {}
      },
      "source": [
        "!pip install toiro"
      ],
      "execution_count": null,
      "outputs": []
    },
    {
      "cell_type": "markdown",
      "metadata": {
        "id": "xdJmYlkloZ4i",
        "colab_type": "text"
      },
      "source": [
        "実装方法"
      ]
    },
    {
      "cell_type": "code",
      "metadata": {
        "id": "U7ef4Oawoc6J",
        "colab_type": "code",
        "colab": {
          "base_uri": "https://localhost:8080/",
          "height": 187
        },
        "outputId": "310153a7-b68f-4180-8b72-a3ce5cfeda6d"
      },
      "source": [
        "from toiro import tokenizers\n",
        "from toiro import datadownloader\n",
        "from sklearn.feature_extraction.text import TfidfVectorizer\n",
        "\n",
        "corpus = 'yahoo_movie_reviews'\n",
        "train_df, dev_df, test_df = datadownloader.load_corpus(corpus, n=12500)\n",
        "tokenize_janome = tokenizers.tokenize_janome\n",
        "tfidf_extracter = TfidfVectorizer(ngram_range=(1, 2), tokenizer=tokenize_janome, max_df=0.9, min_df=3, sublinear_tf=1)\n",
        "train_texts = train_df[1]\n",
        "train_X = tfidf_extracter.fit_transform(train_texts)\n",
        "\n",
        "text = \"とても良い作品でした。\"\n",
        "x = tfidf_extracter.transform([text])\n",
        "print(x.toarray())\n",
        "print(x)"
      ],
      "execution_count": null,
      "outputs": [
        {
          "output_type": "stream",
          "text": [
            "[[0. 0. 0. ... 0. 0. 0.]]\n",
            "  (0, 82076)\t0.514308329463325\n",
            "  (0, 82033)\t0.28160641839600237\n",
            "  (0, 55430)\t0.38687226972136557\n",
            "  (0, 55412)\t0.19207036483503126\n",
            "  (0, 26101)\t0.5550955457160239\n",
            "  (0, 26030)\t0.28642855817395746\n",
            "  (0, 23958)\t0.1805941673948253\n",
            "  (0, 23957)\t0.18013775937766935\n",
            "  (0, 18920)\t0.11994723745704498\n"
          ],
          "name": "stdout"
        }
      ]
    },
    {
      "cell_type": "markdown",
      "metadata": {
        "id": "UAIZcfDdo_BD",
        "colab_type": "text"
      },
      "source": [
        "## [toiro](https://github.com/taishi-i/toiro) によるテキスト文書モデル（SVM）の学習"
      ]
    },
    {
      "cell_type": "markdown",
      "metadata": {
        "id": "4wysy91DpJ00",
        "colab_type": "text"
      },
      "source": [
        "インストール方法"
      ]
    },
    {
      "cell_type": "code",
      "metadata": {
        "id": "byZSDE8JpQu0",
        "colab_type": "code",
        "colab": {}
      },
      "source": [
        "!pip install toiro\n",
        "!pip install mecab-python3==0.996.5"
      ],
      "execution_count": null,
      "outputs": []
    },
    {
      "cell_type": "markdown",
      "metadata": {
        "id": "X7XN48tspJkL",
        "colab_type": "text"
      },
      "source": [
        "実装方法"
      ]
    },
    {
      "cell_type": "code",
      "metadata": {
        "id": "tLydXlBnpGRp",
        "colab_type": "code",
        "colab": {
          "base_uri": "https://localhost:8080/",
          "height": 238
        },
        "outputId": "33ba9c6f-a133-4d71-becb-67c23044b1cb"
      },
      "source": [
        "from toiro import classifiers\n",
        "from toiro import datadownloader\n",
        "\n",
        "corpus = 'yahoo_movie_reviews'\n",
        "train_df, dev_df, test_df = datadownloader.load_corpus(corpus, n=12500)\n",
        "model = classifiers.SVMClassificationModel(tokenizer='mecab-python3')                                                                                                                                   \n",
        "model.fit(train_df, dev_df)\n",
        "\n",
        "text = \"とても良い作品でした。\"                                                                                            \n",
        "pred_y = model.predict(text)\n",
        "print(pred_y)\n",
        "\n",
        "result = model.eval(test_df)\n",
        "print(result)"
      ],
      "execution_count": null,
      "outputs": [
        {
          "output_type": "stream",
          "text": [
            "1\n",
            "accuracy_score: 0.9088\n",
            "macro_f1_score: 0.9087663676337645\n",
            "classification_report:               precision    recall  f1-score   support\n",
            "\n",
            "           0       0.93      0.90      0.91       647\n",
            "           1       0.89      0.92      0.91       603\n",
            "\n",
            "    accuracy                           0.91      1250\n",
            "   macro avg       0.91      0.91      0.91      1250\n",
            "weighted avg       0.91      0.91      0.91      1250\n",
            "\n",
            "elapsed_time: 6.242433309555054\n"
          ],
          "name": "stdout"
        }
      ]
    },
    {
      "cell_type": "markdown",
      "metadata": {
        "id": "axBuyT4hpjg8",
        "colab_type": "text"
      },
      "source": [
        "## [Transformers](https://github.com/huggingface/transformers) の利用方法"
      ]
    },
    {
      "cell_type": "markdown",
      "metadata": {
        "id": "FH2I5BAHpuCm",
        "colab_type": "text"
      },
      "source": [
        "インストール方法"
      ]
    },
    {
      "cell_type": "code",
      "metadata": {
        "id": "UyM1Cx7OpvnX",
        "colab_type": "code",
        "colab": {}
      },
      "source": [
        "!pip install torch transformers"
      ],
      "execution_count": null,
      "outputs": []
    },
    {
      "cell_type": "markdown",
      "metadata": {
        "id": "0-Jm2kfWp3ey",
        "colab_type": "text"
      },
      "source": [
        "実装方法"
      ]
    },
    {
      "cell_type": "code",
      "metadata": {
        "id": "GetrLxwDp5VZ",
        "colab_type": "code",
        "colab": {}
      },
      "source": [
        "import torch                                                                    \n",
        "\n",
        "from transformers.tokenization_bert_japanese import BertJapaneseTokenizer          \n",
        "from transformers import BertModel                                                                                                                    \n",
        "\n",
        "model_name = \"cl-tohoku/bert-base-japanese-whole-word-masking\"                  \n",
        "tokenizer = BertJapaneseTokenizer.from_pretrained(model_name)                   \n",
        "model = BertModel.from_pretrained(model_name)                                                        \n",
        "input_batch = [\"とても良い作品でした。\"]                                                                                                                      \n",
        "encoded_data = tokenizer.batch_encode_plus(input_batch, pad_to_max_length=True, add_special_tokens=True)                                                                \n",
        "input_ids = torch.tensor(encoded_data[\"input_ids\"])                             \n",
        "outputs = model(input_ids)                                                      \n",
        "last_hidden_states = outputs[0]                                                 \n",
        "sentence_vec = last_hidden_states[:, 0, :]\n",
        "print(sentence_vec)"
      ],
      "execution_count": null,
      "outputs": []
    },
    {
      "cell_type": "markdown",
      "metadata": {
        "colab_type": "text",
        "id": "9xUn7f9lqcSe"
      },
      "source": [
        "## [toiro](https://github.com/taishi-i/toiro) によるテキスト文書モデル（BERT）の学習"
      ]
    },
    {
      "cell_type": "markdown",
      "metadata": {
        "id": "EphH0mkhqgA1",
        "colab_type": "text"
      },
      "source": [
        "インストール方法"
      ]
    },
    {
      "cell_type": "code",
      "metadata": {
        "id": "q-PKPKU_qnDs",
        "colab_type": "code",
        "colab": {}
      },
      "source": [
        "!pip install toiro[all]"
      ],
      "execution_count": null,
      "outputs": []
    },
    {
      "cell_type": "markdown",
      "metadata": {
        "id": "vypHsXFiqlZz",
        "colab_type": "text"
      },
      "source": [
        "実装方法"
      ]
    },
    {
      "cell_type": "code",
      "metadata": {
        "id": "zjjCVlMoqxNw",
        "colab_type": "code",
        "colab": {}
      },
      "source": [
        "from toiro import classifiers\n",
        "from toiro import datadownloader\n",
        "\n",
        "corpus = 'yahoo_movie_reviews'\n",
        "datadownloader.download_corpus(corpus)\n",
        "train_df, dev_df, test_df = datadownloader.load_corpus(corpus, n=12500)\n",
        "model = classifiers.BERTClassificationModel()                                                                                                                                   \n",
        "model.fit(train_df, dev_df, verbose=True)\n",
        "text = \"とても良い作品でした。\"                                                                                            \n",
        "pred_y = model.predict(text)\n",
        "print(pred_y)\n",
        "\n",
        "bert_result = model.eval(test_df)\n",
        "print(bert_result)"
      ],
      "execution_count": null,
      "outputs": []
    }
  ]
}