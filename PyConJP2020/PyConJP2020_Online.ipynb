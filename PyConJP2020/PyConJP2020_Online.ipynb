{
  "nbformat": 4,
  "nbformat_minor": 0,
  "metadata": {
    "colab": {
      "name": "PyConJP2020_Online.ipynb",
      "provenance": [],
      "toc_visible": true,
      "authorship_tag": "ABX9TyOT1SzD+SKEzu5SQLAqASnE",
      "include_colab_link": true
    },
    "kernelspec": {
      "name": "python3",
      "display_name": "Python 3"
    },
    "accelerator": "GPU",
    "widgets": {
      "application/vnd.jupyter.widget-state+json": {
        "14eb02a2ed8e4902bd8b508358549438": {
          "model_module": "@jupyter-widgets/controls",
          "model_name": "HBoxModel",
          "state": {
            "_view_name": "HBoxView",
            "_dom_classes": [],
            "_model_name": "HBoxModel",
            "_view_module": "@jupyter-widgets/controls",
            "_model_module_version": "1.5.0",
            "_view_count": null,
            "_view_module_version": "1.5.0",
            "box_style": "",
            "layout": "IPY_MODEL_c31ffd0252f146fbbcdfaa27cdd1b4a7",
            "_model_module": "@jupyter-widgets/controls",
            "children": [
              "IPY_MODEL_89a52bc45c114ccbaf4c9bcb75cc7408",
              "IPY_MODEL_c4c80c828462470f8688a0093454c086"
            ]
          }
        },
        "c31ffd0252f146fbbcdfaa27cdd1b4a7": {
          "model_module": "@jupyter-widgets/base",
          "model_name": "LayoutModel",
          "state": {
            "_view_name": "LayoutView",
            "grid_template_rows": null,
            "right": null,
            "justify_content": null,
            "_view_module": "@jupyter-widgets/base",
            "overflow": null,
            "_model_module_version": "1.2.0",
            "_view_count": null,
            "flex_flow": null,
            "width": null,
            "min_width": null,
            "border": null,
            "align_items": null,
            "bottom": null,
            "_model_module": "@jupyter-widgets/base",
            "top": null,
            "grid_column": null,
            "overflow_y": null,
            "overflow_x": null,
            "grid_auto_flow": null,
            "grid_area": null,
            "grid_template_columns": null,
            "flex": null,
            "_model_name": "LayoutModel",
            "justify_items": null,
            "grid_row": null,
            "max_height": null,
            "align_content": null,
            "visibility": null,
            "align_self": null,
            "height": null,
            "min_height": null,
            "padding": null,
            "grid_auto_rows": null,
            "grid_gap": null,
            "max_width": null,
            "order": null,
            "_view_module_version": "1.2.0",
            "grid_template_areas": null,
            "object_position": null,
            "object_fit": null,
            "grid_auto_columns": null,
            "margin": null,
            "display": null,
            "left": null
          }
        },
        "89a52bc45c114ccbaf4c9bcb75cc7408": {
          "model_module": "@jupyter-widgets/controls",
          "model_name": "FloatProgressModel",
          "state": {
            "_view_name": "ProgressView",
            "style": "IPY_MODEL_6e2cc447e0264fcab4af9c19dd900cb8",
            "_dom_classes": [],
            "description": "Downloading: 100%",
            "_model_name": "FloatProgressModel",
            "bar_style": "success",
            "max": 257706,
            "_view_module": "@jupyter-widgets/controls",
            "_model_module_version": "1.5.0",
            "value": 257706,
            "_view_count": null,
            "_view_module_version": "1.5.0",
            "orientation": "horizontal",
            "min": 0,
            "description_tooltip": null,
            "_model_module": "@jupyter-widgets/controls",
            "layout": "IPY_MODEL_0f26b7581f0b43e597aaa678f64e497e"
          }
        },
        "c4c80c828462470f8688a0093454c086": {
          "model_module": "@jupyter-widgets/controls",
          "model_name": "HTMLModel",
          "state": {
            "_view_name": "HTMLView",
            "style": "IPY_MODEL_e476630c9c2148408459c5ea8ab3afac",
            "_dom_classes": [],
            "description": "",
            "_model_name": "HTMLModel",
            "placeholder": "​",
            "_view_module": "@jupyter-widgets/controls",
            "_model_module_version": "1.5.0",
            "value": " 258k/258k [00:00&lt;00:00, 755kB/s]",
            "_view_count": null,
            "_view_module_version": "1.5.0",
            "description_tooltip": null,
            "_model_module": "@jupyter-widgets/controls",
            "layout": "IPY_MODEL_4d5ae6e9b6334b869e08d9fc631a0679"
          }
        },
        "6e2cc447e0264fcab4af9c19dd900cb8": {
          "model_module": "@jupyter-widgets/controls",
          "model_name": "ProgressStyleModel",
          "state": {
            "_view_name": "StyleView",
            "_model_name": "ProgressStyleModel",
            "description_width": "initial",
            "_view_module": "@jupyter-widgets/base",
            "_model_module_version": "1.5.0",
            "_view_count": null,
            "_view_module_version": "1.2.0",
            "bar_color": null,
            "_model_module": "@jupyter-widgets/controls"
          }
        },
        "0f26b7581f0b43e597aaa678f64e497e": {
          "model_module": "@jupyter-widgets/base",
          "model_name": "LayoutModel",
          "state": {
            "_view_name": "LayoutView",
            "grid_template_rows": null,
            "right": null,
            "justify_content": null,
            "_view_module": "@jupyter-widgets/base",
            "overflow": null,
            "_model_module_version": "1.2.0",
            "_view_count": null,
            "flex_flow": null,
            "width": null,
            "min_width": null,
            "border": null,
            "align_items": null,
            "bottom": null,
            "_model_module": "@jupyter-widgets/base",
            "top": null,
            "grid_column": null,
            "overflow_y": null,
            "overflow_x": null,
            "grid_auto_flow": null,
            "grid_area": null,
            "grid_template_columns": null,
            "flex": null,
            "_model_name": "LayoutModel",
            "justify_items": null,
            "grid_row": null,
            "max_height": null,
            "align_content": null,
            "visibility": null,
            "align_self": null,
            "height": null,
            "min_height": null,
            "padding": null,
            "grid_auto_rows": null,
            "grid_gap": null,
            "max_width": null,
            "order": null,
            "_view_module_version": "1.2.0",
            "grid_template_areas": null,
            "object_position": null,
            "object_fit": null,
            "grid_auto_columns": null,
            "margin": null,
            "display": null,
            "left": null
          }
        },
        "e476630c9c2148408459c5ea8ab3afac": {
          "model_module": "@jupyter-widgets/controls",
          "model_name": "DescriptionStyleModel",
          "state": {
            "_view_name": "StyleView",
            "_model_name": "DescriptionStyleModel",
            "description_width": "",
            "_view_module": "@jupyter-widgets/base",
            "_model_module_version": "1.5.0",
            "_view_count": null,
            "_view_module_version": "1.2.0",
            "_model_module": "@jupyter-widgets/controls"
          }
        },
        "4d5ae6e9b6334b869e08d9fc631a0679": {
          "model_module": "@jupyter-widgets/base",
          "model_name": "LayoutModel",
          "state": {
            "_view_name": "LayoutView",
            "grid_template_rows": null,
            "right": null,
            "justify_content": null,
            "_view_module": "@jupyter-widgets/base",
            "overflow": null,
            "_model_module_version": "1.2.0",
            "_view_count": null,
            "flex_flow": null,
            "width": null,
            "min_width": null,
            "border": null,
            "align_items": null,
            "bottom": null,
            "_model_module": "@jupyter-widgets/base",
            "top": null,
            "grid_column": null,
            "overflow_y": null,
            "overflow_x": null,
            "grid_auto_flow": null,
            "grid_area": null,
            "grid_template_columns": null,
            "flex": null,
            "_model_name": "LayoutModel",
            "justify_items": null,
            "grid_row": null,
            "max_height": null,
            "align_content": null,
            "visibility": null,
            "align_self": null,
            "height": null,
            "min_height": null,
            "padding": null,
            "grid_auto_rows": null,
            "grid_gap": null,
            "max_width": null,
            "order": null,
            "_view_module_version": "1.2.0",
            "grid_template_areas": null,
            "object_position": null,
            "object_fit": null,
            "grid_auto_columns": null,
            "margin": null,
            "display": null,
            "left": null
          }
        },
        "ff8c7d2efe5046b998329517e9a948f2": {
          "model_module": "@jupyter-widgets/controls",
          "model_name": "HBoxModel",
          "state": {
            "_view_name": "HBoxView",
            "_dom_classes": [],
            "_model_name": "HBoxModel",
            "_view_module": "@jupyter-widgets/controls",
            "_model_module_version": "1.5.0",
            "_view_count": null,
            "_view_module_version": "1.5.0",
            "box_style": "",
            "layout": "IPY_MODEL_cf7860e732344bdf8d1c08ff8c95447c",
            "_model_module": "@jupyter-widgets/controls",
            "children": [
              "IPY_MODEL_f12b3fe4d2bd4f81903ac85a014b94f1",
              "IPY_MODEL_d9ee034d948046538a29d513f6b7388c"
            ]
          }
        },
        "cf7860e732344bdf8d1c08ff8c95447c": {
          "model_module": "@jupyter-widgets/base",
          "model_name": "LayoutModel",
          "state": {
            "_view_name": "LayoutView",
            "grid_template_rows": null,
            "right": null,
            "justify_content": null,
            "_view_module": "@jupyter-widgets/base",
            "overflow": null,
            "_model_module_version": "1.2.0",
            "_view_count": null,
            "flex_flow": null,
            "width": null,
            "min_width": null,
            "border": null,
            "align_items": null,
            "bottom": null,
            "_model_module": "@jupyter-widgets/base",
            "top": null,
            "grid_column": null,
            "overflow_y": null,
            "overflow_x": null,
            "grid_auto_flow": null,
            "grid_area": null,
            "grid_template_columns": null,
            "flex": null,
            "_model_name": "LayoutModel",
            "justify_items": null,
            "grid_row": null,
            "max_height": null,
            "align_content": null,
            "visibility": null,
            "align_self": null,
            "height": null,
            "min_height": null,
            "padding": null,
            "grid_auto_rows": null,
            "grid_gap": null,
            "max_width": null,
            "order": null,
            "_view_module_version": "1.2.0",
            "grid_template_areas": null,
            "object_position": null,
            "object_fit": null,
            "grid_auto_columns": null,
            "margin": null,
            "display": null,
            "left": null
          }
        },
        "f12b3fe4d2bd4f81903ac85a014b94f1": {
          "model_module": "@jupyter-widgets/controls",
          "model_name": "FloatProgressModel",
          "state": {
            "_view_name": "ProgressView",
            "style": "IPY_MODEL_e0a500067c714b89b9098e27935ee896",
            "_dom_classes": [],
            "description": "Downloading: 100%",
            "_model_name": "FloatProgressModel",
            "bar_style": "success",
            "max": 433,
            "_view_module": "@jupyter-widgets/controls",
            "_model_module_version": "1.5.0",
            "value": 433,
            "_view_count": null,
            "_view_module_version": "1.5.0",
            "orientation": "horizontal",
            "min": 0,
            "description_tooltip": null,
            "_model_module": "@jupyter-widgets/controls",
            "layout": "IPY_MODEL_725091f418604226958b966a2f31dac6"
          }
        },
        "d9ee034d948046538a29d513f6b7388c": {
          "model_module": "@jupyter-widgets/controls",
          "model_name": "HTMLModel",
          "state": {
            "_view_name": "HTMLView",
            "style": "IPY_MODEL_c7d22f9b79f04da1a49583c62d21b592",
            "_dom_classes": [],
            "description": "",
            "_model_name": "HTMLModel",
            "placeholder": "​",
            "_view_module": "@jupyter-widgets/controls",
            "_model_module_version": "1.5.0",
            "value": " 433/433 [00:06&lt;00:00, 65.2B/s]",
            "_view_count": null,
            "_view_module_version": "1.5.0",
            "description_tooltip": null,
            "_model_module": "@jupyter-widgets/controls",
            "layout": "IPY_MODEL_4e0aeb5018d54dd78703f19a6e1397f6"
          }
        },
        "e0a500067c714b89b9098e27935ee896": {
          "model_module": "@jupyter-widgets/controls",
          "model_name": "ProgressStyleModel",
          "state": {
            "_view_name": "StyleView",
            "_model_name": "ProgressStyleModel",
            "description_width": "initial",
            "_view_module": "@jupyter-widgets/base",
            "_model_module_version": "1.5.0",
            "_view_count": null,
            "_view_module_version": "1.2.0",
            "bar_color": null,
            "_model_module": "@jupyter-widgets/controls"
          }
        },
        "725091f418604226958b966a2f31dac6": {
          "model_module": "@jupyter-widgets/base",
          "model_name": "LayoutModel",
          "state": {
            "_view_name": "LayoutView",
            "grid_template_rows": null,
            "right": null,
            "justify_content": null,
            "_view_module": "@jupyter-widgets/base",
            "overflow": null,
            "_model_module_version": "1.2.0",
            "_view_count": null,
            "flex_flow": null,
            "width": null,
            "min_width": null,
            "border": null,
            "align_items": null,
            "bottom": null,
            "_model_module": "@jupyter-widgets/base",
            "top": null,
            "grid_column": null,
            "overflow_y": null,
            "overflow_x": null,
            "grid_auto_flow": null,
            "grid_area": null,
            "grid_template_columns": null,
            "flex": null,
            "_model_name": "LayoutModel",
            "justify_items": null,
            "grid_row": null,
            "max_height": null,
            "align_content": null,
            "visibility": null,
            "align_self": null,
            "height": null,
            "min_height": null,
            "padding": null,
            "grid_auto_rows": null,
            "grid_gap": null,
            "max_width": null,
            "order": null,
            "_view_module_version": "1.2.0",
            "grid_template_areas": null,
            "object_position": null,
            "object_fit": null,
            "grid_auto_columns": null,
            "margin": null,
            "display": null,
            "left": null
          }
        },
        "c7d22f9b79f04da1a49583c62d21b592": {
          "model_module": "@jupyter-widgets/controls",
          "model_name": "DescriptionStyleModel",
          "state": {
            "_view_name": "StyleView",
            "_model_name": "DescriptionStyleModel",
            "description_width": "",
            "_view_module": "@jupyter-widgets/base",
            "_model_module_version": "1.5.0",
            "_view_count": null,
            "_view_module_version": "1.2.0",
            "_model_module": "@jupyter-widgets/controls"
          }
        },
        "4e0aeb5018d54dd78703f19a6e1397f6": {
          "model_module": "@jupyter-widgets/base",
          "model_name": "LayoutModel",
          "state": {
            "_view_name": "LayoutView",
            "grid_template_rows": null,
            "right": null,
            "justify_content": null,
            "_view_module": "@jupyter-widgets/base",
            "overflow": null,
            "_model_module_version": "1.2.0",
            "_view_count": null,
            "flex_flow": null,
            "width": null,
            "min_width": null,
            "border": null,
            "align_items": null,
            "bottom": null,
            "_model_module": "@jupyter-widgets/base",
            "top": null,
            "grid_column": null,
            "overflow_y": null,
            "overflow_x": null,
            "grid_auto_flow": null,
            "grid_area": null,
            "grid_template_columns": null,
            "flex": null,
            "_model_name": "LayoutModel",
            "justify_items": null,
            "grid_row": null,
            "max_height": null,
            "align_content": null,
            "visibility": null,
            "align_self": null,
            "height": null,
            "min_height": null,
            "padding": null,
            "grid_auto_rows": null,
            "grid_gap": null,
            "max_width": null,
            "order": null,
            "_view_module_version": "1.2.0",
            "grid_template_areas": null,
            "object_position": null,
            "object_fit": null,
            "grid_auto_columns": null,
            "margin": null,
            "display": null,
            "left": null
          }
        },
        "d698e0788720451daa15193330428380": {
          "model_module": "@jupyter-widgets/controls",
          "model_name": "HBoxModel",
          "state": {
            "_view_name": "HBoxView",
            "_dom_classes": [],
            "_model_name": "HBoxModel",
            "_view_module": "@jupyter-widgets/controls",
            "_model_module_version": "1.5.0",
            "_view_count": null,
            "_view_module_version": "1.5.0",
            "box_style": "",
            "layout": "IPY_MODEL_4f9fc2f51ed4474d8b092a5ebb047fae",
            "_model_module": "@jupyter-widgets/controls",
            "children": [
              "IPY_MODEL_b65005fcc561406bb778496114a328d2",
              "IPY_MODEL_24ea53161970405e815c8f10891a2752"
            ]
          }
        },
        "4f9fc2f51ed4474d8b092a5ebb047fae": {
          "model_module": "@jupyter-widgets/base",
          "model_name": "LayoutModel",
          "state": {
            "_view_name": "LayoutView",
            "grid_template_rows": null,
            "right": null,
            "justify_content": null,
            "_view_module": "@jupyter-widgets/base",
            "overflow": null,
            "_model_module_version": "1.2.0",
            "_view_count": null,
            "flex_flow": null,
            "width": null,
            "min_width": null,
            "border": null,
            "align_items": null,
            "bottom": null,
            "_model_module": "@jupyter-widgets/base",
            "top": null,
            "grid_column": null,
            "overflow_y": null,
            "overflow_x": null,
            "grid_auto_flow": null,
            "grid_area": null,
            "grid_template_columns": null,
            "flex": null,
            "_model_name": "LayoutModel",
            "justify_items": null,
            "grid_row": null,
            "max_height": null,
            "align_content": null,
            "visibility": null,
            "align_self": null,
            "height": null,
            "min_height": null,
            "padding": null,
            "grid_auto_rows": null,
            "grid_gap": null,
            "max_width": null,
            "order": null,
            "_view_module_version": "1.2.0",
            "grid_template_areas": null,
            "object_position": null,
            "object_fit": null,
            "grid_auto_columns": null,
            "margin": null,
            "display": null,
            "left": null
          }
        },
        "b65005fcc561406bb778496114a328d2": {
          "model_module": "@jupyter-widgets/controls",
          "model_name": "FloatProgressModel",
          "state": {
            "_view_name": "ProgressView",
            "style": "IPY_MODEL_d57bfa4760354b2296c14dfe448debd5",
            "_dom_classes": [],
            "description": "Downloading: 100%",
            "_model_name": "FloatProgressModel",
            "bar_style": "success",
            "max": 445021143,
            "_view_module": "@jupyter-widgets/controls",
            "_model_module_version": "1.5.0",
            "value": 445021143,
            "_view_count": null,
            "_view_module_version": "1.5.0",
            "orientation": "horizontal",
            "min": 0,
            "description_tooltip": null,
            "_model_module": "@jupyter-widgets/controls",
            "layout": "IPY_MODEL_8fb128e533474967bc72301422cd8c80"
          }
        },
        "24ea53161970405e815c8f10891a2752": {
          "model_module": "@jupyter-widgets/controls",
          "model_name": "HTMLModel",
          "state": {
            "_view_name": "HTMLView",
            "style": "IPY_MODEL_e5e7ba4c95e246b380ff0846647b9ac9",
            "_dom_classes": [],
            "description": "",
            "_model_name": "HTMLModel",
            "placeholder": "​",
            "_view_module": "@jupyter-widgets/controls",
            "_model_module_version": "1.5.0",
            "value": " 445M/445M [00:06&lt;00:00, 70.7MB/s]",
            "_view_count": null,
            "_view_module_version": "1.5.0",
            "description_tooltip": null,
            "_model_module": "@jupyter-widgets/controls",
            "layout": "IPY_MODEL_72019bfdf2214f8da28c694d4e6b9017"
          }
        },
        "d57bfa4760354b2296c14dfe448debd5": {
          "model_module": "@jupyter-widgets/controls",
          "model_name": "ProgressStyleModel",
          "state": {
            "_view_name": "StyleView",
            "_model_name": "ProgressStyleModel",
            "description_width": "initial",
            "_view_module": "@jupyter-widgets/base",
            "_model_module_version": "1.5.0",
            "_view_count": null,
            "_view_module_version": "1.2.0",
            "bar_color": null,
            "_model_module": "@jupyter-widgets/controls"
          }
        },
        "8fb128e533474967bc72301422cd8c80": {
          "model_module": "@jupyter-widgets/base",
          "model_name": "LayoutModel",
          "state": {
            "_view_name": "LayoutView",
            "grid_template_rows": null,
            "right": null,
            "justify_content": null,
            "_view_module": "@jupyter-widgets/base",
            "overflow": null,
            "_model_module_version": "1.2.0",
            "_view_count": null,
            "flex_flow": null,
            "width": null,
            "min_width": null,
            "border": null,
            "align_items": null,
            "bottom": null,
            "_model_module": "@jupyter-widgets/base",
            "top": null,
            "grid_column": null,
            "overflow_y": null,
            "overflow_x": null,
            "grid_auto_flow": null,
            "grid_area": null,
            "grid_template_columns": null,
            "flex": null,
            "_model_name": "LayoutModel",
            "justify_items": null,
            "grid_row": null,
            "max_height": null,
            "align_content": null,
            "visibility": null,
            "align_self": null,
            "height": null,
            "min_height": null,
            "padding": null,
            "grid_auto_rows": null,
            "grid_gap": null,
            "max_width": null,
            "order": null,
            "_view_module_version": "1.2.0",
            "grid_template_areas": null,
            "object_position": null,
            "object_fit": null,
            "grid_auto_columns": null,
            "margin": null,
            "display": null,
            "left": null
          }
        },
        "e5e7ba4c95e246b380ff0846647b9ac9": {
          "model_module": "@jupyter-widgets/controls",
          "model_name": "DescriptionStyleModel",
          "state": {
            "_view_name": "StyleView",
            "_model_name": "DescriptionStyleModel",
            "description_width": "",
            "_view_module": "@jupyter-widgets/base",
            "_model_module_version": "1.5.0",
            "_view_count": null,
            "_view_module_version": "1.2.0",
            "_model_module": "@jupyter-widgets/controls"
          }
        },
        "72019bfdf2214f8da28c694d4e6b9017": {
          "model_module": "@jupyter-widgets/base",
          "model_name": "LayoutModel",
          "state": {
            "_view_name": "LayoutView",
            "grid_template_rows": null,
            "right": null,
            "justify_content": null,
            "_view_module": "@jupyter-widgets/base",
            "overflow": null,
            "_model_module_version": "1.2.0",
            "_view_count": null,
            "flex_flow": null,
            "width": null,
            "min_width": null,
            "border": null,
            "align_items": null,
            "bottom": null,
            "_model_module": "@jupyter-widgets/base",
            "top": null,
            "grid_column": null,
            "overflow_y": null,
            "overflow_x": null,
            "grid_auto_flow": null,
            "grid_area": null,
            "grid_template_columns": null,
            "flex": null,
            "_model_name": "LayoutModel",
            "justify_items": null,
            "grid_row": null,
            "max_height": null,
            "align_content": null,
            "visibility": null,
            "align_self": null,
            "height": null,
            "min_height": null,
            "padding": null,
            "grid_auto_rows": null,
            "grid_gap": null,
            "max_width": null,
            "order": null,
            "_view_module_version": "1.2.0",
            "grid_template_areas": null,
            "object_position": null,
            "object_fit": null,
            "grid_auto_columns": null,
            "margin": null,
            "display": null,
            "left": null
          }
        }
      }
    }
  },
  "cells": [
    {
      "cell_type": "markdown",
      "metadata": {
        "id": "view-in-github",
        "colab_type": "text"
      },
      "source": [
        "<a href=\"https://colab.research.google.com/github/taishi-i/toiro/blob/develop/PyConJP2020/PyConJP2020_Online.ipynb\" target=\"_parent\"><img src=\"https://colab.research.google.com/assets/colab-badge.svg\" alt=\"Open In Colab\"/></a>"
      ]
    },
    {
      "cell_type": "markdown",
      "metadata": {
        "id": "RqcWKdewbUXm",
        "colab_type": "text"
      },
      "source": [
        "# PyConJP 2020：最先端自然言語処理ライブラリの最適な選択と有用な利用方法\n",
        "トークの詳細は[こちら](https://pycon.jp/2020/timetable/?id=203164)です。\n",
        "\n",
        "この notebook では、発表スライドのサンプルコードを実行しています。\n",
        "\n",
        "GPU を利用する場合（BERT モデルを学習する)は **ランタイム→ランタイムのタイプ変更→GPU** をオンにしてください。\n",
        "\n",
        "本発表で説明する機能を全て利用できるよう、次のライブラリをインストールします。"
      ]
    },
    {
      "cell_type": "code",
      "metadata": {
        "id": "DTiZnIN5rAuC",
        "colab_type": "code",
        "colab": {
          "base_uri": "https://localhost:8080/",
          "height": 1000
        },
        "outputId": "819d3cfb-ad4b-46ff-b254-ff4dc60b8926"
      },
      "source": [
        "!pip install toiro[all]"
      ],
      "execution_count": 1,
      "outputs": [
        {
          "output_type": "stream",
          "text": [
            "Collecting toiro[all]\n",
            "\u001b[?25l  Downloading https://files.pythonhosted.org/packages/48/92/7fe694c3877272491f148de2d0d617c6420cc33786d3b7fb9e50a0cf6207/toiro-0.0.6-py3-none-any.whl (625kB)\n",
            "\u001b[K     |████████████████████████████████| 634kB 6.4MB/s \n",
            "\u001b[?25hCollecting py-cpuinfo\n",
            "\u001b[?25l  Downloading https://files.pythonhosted.org/packages/f6/f5/8e6e85ce2e9f6e05040cf0d4e26f43a4718bcc4bce988b433276d4b1a5c1/py-cpuinfo-7.0.0.tar.gz (95kB)\n",
            "\u001b[K     |████████████████████████████████| 102kB 11.6MB/s \n",
            "\u001b[?25hRequirement already satisfied: sklearn in /usr/local/lib/python3.6/dist-packages (from toiro[all]) (0.0)\n",
            "Collecting janome\n",
            "\u001b[?25l  Downloading https://files.pythonhosted.org/packages/a9/ed/b2b072c1d53388931e626ca0816cdb8e03416ad9a440c8d9e0e060859f41/Janome-0.4.0-py2.py3-none-any.whl (19.7MB)\n",
            "\u001b[K     |████████████████████████████████| 19.7MB 7.3MB/s \n",
            "\u001b[?25hRequirement already satisfied: tqdm in /usr/local/lib/python3.6/dist-packages (from toiro[all]) (4.41.1)\n",
            "Requirement already satisfied: pandas in /usr/local/lib/python3.6/dist-packages (from toiro[all]) (1.0.5)\n",
            "Requirement already satisfied: requests in /usr/local/lib/python3.6/dist-packages (from toiro[all]) (2.23.0)\n",
            "Collecting sentencepiece; extra == \"all\"\n",
            "\u001b[?25l  Downloading https://files.pythonhosted.org/packages/d4/a4/d0a884c4300004a78cca907a6ff9a5e9fe4f090f5d95ab341c53d28cbc58/sentencepiece-0.1.91-cp36-cp36m-manylinux1_x86_64.whl (1.1MB)\n",
            "\u001b[K     |████████████████████████████████| 1.1MB 55.8MB/s \n",
            "\u001b[?25hCollecting sudachidict-core; extra == \"all\"\n",
            "  Downloading https://files.pythonhosted.org/packages/c4/8f/38c5bea51bf1c825c8774810d1bdd84f3c0b8e3526f00db954ba940e6191/SudachiDict-core-20200722.tar.gz\n",
            "Collecting ginza; extra == \"all\"\n",
            "  Downloading https://files.pythonhosted.org/packages/99/6e/2d41f14ac730c7cb34421829677f4a1d85e06b459d4542dd618d57280c8c/ginza-4.0.0.tar.gz\n",
            "Collecting mecab-python3<=0.996.5; extra == \"all\"\n",
            "\u001b[?25l  Downloading https://files.pythonhosted.org/packages/18/49/b55a839a77189042960bf96490640c44816073f917d489acbc5d79fa5cc3/mecab_python3-0.996.5-cp36-cp36m-manylinux2010_x86_64.whl (17.1MB)\n",
            "\u001b[K     |████████████████████████████████| 17.1MB 206kB/s \n",
            "\u001b[?25hCollecting sudachipy; extra == \"all\"\n",
            "\u001b[?25l  Downloading https://files.pythonhosted.org/packages/71/18/8531c4a1c904cb24d37a09e7dff3273857ee65e0d0adb62d09c6f5492f5d/SudachiPy-0.4.9.tar.gz (67kB)\n",
            "\u001b[K     |████████████████████████████████| 71kB 11.6MB/s \n",
            "\u001b[?25hCollecting transformers; extra == \"all\"\n",
            "\u001b[?25l  Downloading https://files.pythonhosted.org/packages/27/3c/91ed8f5c4e7ef3227b4119200fc0ed4b4fd965b1f0172021c25701087825/transformers-3.0.2-py3-none-any.whl (769kB)\n",
            "\u001b[K     |████████████████████████████████| 778kB 50.9MB/s \n",
            "\u001b[?25hCollecting catalyst; extra == \"all\"\n",
            "\u001b[?25l  Downloading https://files.pythonhosted.org/packages/94/9a/6a6d944fa7666f12647c17306ea7cd68a7d4d5d1bf0c7f73f59decbd9ba2/catalyst-20.8.2-py2.py3-none-any.whl (441kB)\n",
            "\u001b[K     |████████████████████████████████| 450kB 55.6MB/s \n",
            "\u001b[?25hCollecting spacy>=2.3.0; extra == \"all\"\n",
            "\u001b[?25l  Downloading https://files.pythonhosted.org/packages/10/b5/c7a92c7ce5d4b353b70b4b5b4385687206c8b230ddfe08746ab0fd310a3a/spacy-2.3.2-cp36-cp36m-manylinux1_x86_64.whl (9.9MB)\n",
            "\u001b[K     |████████████████████████████████| 10.0MB 49.7MB/s \n",
            "\u001b[?25hRequirement already satisfied: torch; extra == \"all\" in /usr/local/lib/python3.6/dist-packages (from toiro[all]) (1.6.0+cu101)\n",
            "Collecting pyknp; extra == \"all\"\n",
            "\u001b[?25l  Downloading https://files.pythonhosted.org/packages/1d/0e/93221dc85bd214b87b37bdd56af384b252e882fdb91e39c842a2614a8822/pyknp-0.4.5.zip (43kB)\n",
            "\u001b[K     |████████████████████████████████| 51kB 8.9MB/s \n",
            "\u001b[?25hCollecting nagisa; extra == \"all\"\n",
            "\u001b[?25l  Downloading https://files.pythonhosted.org/packages/4f/c2/f520a4e4ae9c0abf70d5f94149df49f06bcf78fb3a9dd57f57806868129f/nagisa-0.2.7-cp36-cp36m-manylinux1_x86_64.whl (21.5MB)\n",
            "\u001b[K     |████████████████████████████████| 21.5MB 105kB/s \n",
            "\u001b[?25hCollecting kytea; extra == \"all\"\n",
            "\u001b[?25l  Downloading https://files.pythonhosted.org/packages/e6/1e/812461726b3b7c161a1177c9e683db83ed82d2654a26267a65af99716c66/kytea-0.1.5-cp36-cp36m-manylinux2010_x86_64.whl (5.2MB)\n",
            "\u001b[K     |████████████████████████████████| 5.2MB 54.3MB/s \n",
            "\u001b[?25hRequirement already satisfied: scikit-learn in /usr/local/lib/python3.6/dist-packages (from sklearn->toiro[all]) (0.22.2.post1)\n",
            "Requirement already satisfied: python-dateutil>=2.6.1 in /usr/local/lib/python3.6/dist-packages (from pandas->toiro[all]) (2.8.1)\n",
            "Requirement already satisfied: numpy>=1.13.3 in /usr/local/lib/python3.6/dist-packages (from pandas->toiro[all]) (1.18.5)\n",
            "Requirement already satisfied: pytz>=2017.2 in /usr/local/lib/python3.6/dist-packages (from pandas->toiro[all]) (2018.9)\n",
            "Requirement already satisfied: certifi>=2017.4.17 in /usr/local/lib/python3.6/dist-packages (from requests->toiro[all]) (2020.6.20)\n",
            "Requirement already satisfied: idna<3,>=2.5 in /usr/local/lib/python3.6/dist-packages (from requests->toiro[all]) (2.10)\n",
            "Requirement already satisfied: urllib3!=1.25.0,!=1.25.1,<1.26,>=1.21.1 in /usr/local/lib/python3.6/dist-packages (from requests->toiro[all]) (1.24.3)\n",
            "Requirement already satisfied: chardet<4,>=3.0.2 in /usr/local/lib/python3.6/dist-packages (from requests->toiro[all]) (3.0.4)\n",
            "Collecting ja_ginza<4.1.0,>=4.0.0\n",
            "\u001b[?25l  Downloading https://files.pythonhosted.org/packages/89/7d/c8778b5472082da8488b2686cbab3e34ab371fa038c1a712a8d55d8dba2b/ja_ginza-4.0.0.tar.gz (51.5MB)\n",
            "\u001b[K     |████████████████████████████████| 51.5MB 139kB/s \n",
            "\u001b[?25hCollecting sortedcontainers~=2.1.0\n",
            "  Downloading https://files.pythonhosted.org/packages/13/f3/cf85f7c3a2dbd1a515d51e1f1676d971abe41bba6f4ab5443240d9a78e5b/sortedcontainers-2.1.0-py2.py3-none-any.whl\n",
            "Collecting dartsclone~=0.9.0\n",
            "\u001b[?25l  Downloading https://files.pythonhosted.org/packages/6d/34/987a076369ed086ee953e2f0b9ab5ff3e1a682ba4f781678ac5648144896/dartsclone-0.9.0-cp36-cp36m-manylinux1_x86_64.whl (474kB)\n",
            "\u001b[K     |████████████████████████████████| 481kB 56.5MB/s \n",
            "\u001b[?25hRequirement already satisfied: dataclasses; python_version < \"3.7\" in /usr/local/lib/python3.6/dist-packages (from transformers; extra == \"all\"->toiro[all]) (0.7)\n",
            "Collecting sacremoses\n",
            "\u001b[?25l  Downloading https://files.pythonhosted.org/packages/7d/34/09d19aff26edcc8eb2a01bed8e98f13a1537005d31e95233fd48216eed10/sacremoses-0.0.43.tar.gz (883kB)\n",
            "\u001b[K     |████████████████████████████████| 890kB 45.9MB/s \n",
            "\u001b[?25hRequirement already satisfied: regex!=2019.12.17 in /usr/local/lib/python3.6/dist-packages (from transformers; extra == \"all\"->toiro[all]) (2019.12.20)\n",
            "Collecting tokenizers==0.8.1.rc1\n",
            "\u001b[?25l  Downloading https://files.pythonhosted.org/packages/40/d0/30d5f8d221a0ed981a186c8eb986ce1c94e3a6e87f994eae9f4aa5250217/tokenizers-0.8.1rc1-cp36-cp36m-manylinux1_x86_64.whl (3.0MB)\n",
            "\u001b[K     |████████████████████████████████| 3.0MB 33.0MB/s \n",
            "\u001b[?25hRequirement already satisfied: filelock in /usr/local/lib/python3.6/dist-packages (from transformers; extra == \"all\"->toiro[all]) (3.0.12)\n",
            "Requirement already satisfied: packaging in /usr/local/lib/python3.6/dist-packages (from transformers; extra == \"all\"->toiro[all]) (20.4)\n",
            "Requirement already satisfied: PyYAML in /usr/local/lib/python3.6/dist-packages (from catalyst; extra == \"all\"->toiro[all]) (3.13)\n",
            "Collecting tensorboardX\n",
            "\u001b[?25l  Downloading https://files.pythonhosted.org/packages/af/0c/4f41bcd45db376e6fe5c619c01100e9b7531c55791b7244815bac6eac32c/tensorboardX-2.1-py2.py3-none-any.whl (308kB)\n",
            "\u001b[K     |████████████████████████████████| 317kB 54.9MB/s \n",
            "\u001b[?25hCollecting GitPython>=3.1.1\n",
            "\u001b[?25l  Downloading https://files.pythonhosted.org/packages/f9/1e/a45320cab182bf1c8656107b3d4c042e659742822fc6bff150d769a984dd/GitPython-3.1.7-py3-none-any.whl (158kB)\n",
            "\u001b[K     |████████████████████████████████| 163kB 53.1MB/s \n",
            "\u001b[?25hRequirement already satisfied: ipython in /usr/local/lib/python3.6/dist-packages (from catalyst; extra == \"all\"->toiro[all]) (5.5.0)\n",
            "Collecting deprecation\n",
            "  Downloading https://files.pythonhosted.org/packages/02/c3/253a89ee03fc9b9682f1541728eb66db7db22148cd94f89ab22528cd1e1b/deprecation-2.1.0-py2.py3-none-any.whl\n",
            "Requirement already satisfied: matplotlib in /usr/local/lib/python3.6/dist-packages (from catalyst; extra == \"all\"->toiro[all]) (3.2.2)\n",
            "Requirement already satisfied: tensorboard>=1.14.0 in /usr/local/lib/python3.6/dist-packages (from catalyst; extra == \"all\"->toiro[all]) (2.3.0)\n",
            "Requirement already satisfied: plotly>=4.1.0 in /usr/local/lib/python3.6/dist-packages (from catalyst; extra == \"all\"->toiro[all]) (4.4.1)\n",
            "Requirement already satisfied: srsly<1.1.0,>=1.0.2 in /usr/local/lib/python3.6/dist-packages (from spacy>=2.3.0; extra == \"all\"->toiro[all]) (1.0.2)\n",
            "Requirement already satisfied: plac<1.2.0,>=0.9.6 in /usr/local/lib/python3.6/dist-packages (from spacy>=2.3.0; extra == \"all\"->toiro[all]) (1.1.3)\n",
            "Requirement already satisfied: murmurhash<1.1.0,>=0.28.0 in /usr/local/lib/python3.6/dist-packages (from spacy>=2.3.0; extra == \"all\"->toiro[all]) (1.0.2)\n",
            "Requirement already satisfied: setuptools in /usr/local/lib/python3.6/dist-packages (from spacy>=2.3.0; extra == \"all\"->toiro[all]) (49.2.0)\n",
            "Requirement already satisfied: preshed<3.1.0,>=3.0.2 in /usr/local/lib/python3.6/dist-packages (from spacy>=2.3.0; extra == \"all\"->toiro[all]) (3.0.2)\n",
            "Collecting thinc==7.4.1\n",
            "\u001b[?25l  Downloading https://files.pythonhosted.org/packages/10/ae/ef3ae5e93639c0ef8e3eb32e3c18341e511b3c515fcfc603f4b808087651/thinc-7.4.1-cp36-cp36m-manylinux1_x86_64.whl (2.1MB)\n",
            "\u001b[K     |████████████████████████████████| 2.1MB 46.9MB/s \n",
            "\u001b[?25hRequirement already satisfied: catalogue<1.1.0,>=0.0.7 in /usr/local/lib/python3.6/dist-packages (from spacy>=2.3.0; extra == \"all\"->toiro[all]) (1.0.0)\n",
            "Requirement already satisfied: blis<0.5.0,>=0.4.0 in /usr/local/lib/python3.6/dist-packages (from spacy>=2.3.0; extra == \"all\"->toiro[all]) (0.4.1)\n",
            "Requirement already satisfied: wasabi<1.1.0,>=0.4.0 in /usr/local/lib/python3.6/dist-packages (from spacy>=2.3.0; extra == \"all\"->toiro[all]) (0.7.1)\n",
            "Requirement already satisfied: cymem<2.1.0,>=2.0.2 in /usr/local/lib/python3.6/dist-packages (from spacy>=2.3.0; extra == \"all\"->toiro[all]) (2.0.3)\n",
            "Requirement already satisfied: future in /usr/local/lib/python3.6/dist-packages (from torch; extra == \"all\"->toiro[all]) (0.16.0)\n",
            "Requirement already satisfied: six in /usr/local/lib/python3.6/dist-packages (from pyknp; extra == \"all\"->toiro[all]) (1.15.0)\n",
            "Collecting DyNet\n",
            "\u001b[?25l  Downloading https://files.pythonhosted.org/packages/88/f0/01a561a301a8ea9aea1c28f82e108c38cd103964c7a46286ab01757a4092/dyNET-2.1-cp36-cp36m-manylinux1_x86_64.whl (28.1MB)\n",
            "\u001b[K     |████████████████████████████████| 28.1MB 180kB/s \n",
            "\u001b[?25hRequirement already satisfied: joblib>=0.11 in /usr/local/lib/python3.6/dist-packages (from scikit-learn->sklearn->toiro[all]) (0.16.0)\n",
            "Requirement already satisfied: scipy>=0.17.0 in /usr/local/lib/python3.6/dist-packages (from scikit-learn->sklearn->toiro[all]) (1.4.1)\n",
            "Requirement already satisfied: Cython in /usr/local/lib/python3.6/dist-packages (from dartsclone~=0.9.0->sudachipy; extra == \"all\"->toiro[all]) (0.29.21)\n",
            "Requirement already satisfied: click in /usr/local/lib/python3.6/dist-packages (from sacremoses->transformers; extra == \"all\"->toiro[all]) (7.1.2)\n",
            "Requirement already satisfied: pyparsing>=2.0.2 in /usr/local/lib/python3.6/dist-packages (from packaging->transformers; extra == \"all\"->toiro[all]) (2.4.7)\n",
            "Requirement already satisfied: protobuf>=3.8.0 in /usr/local/lib/python3.6/dist-packages (from tensorboardX->catalyst; extra == \"all\"->toiro[all]) (3.12.4)\n",
            "Collecting gitdb<5,>=4.0.1\n",
            "\u001b[?25l  Downloading https://files.pythonhosted.org/packages/48/11/d1800bca0a3bae820b84b7d813ad1eff15a48a64caea9c823fc8c1b119e8/gitdb-4.0.5-py3-none-any.whl (63kB)\n",
            "\u001b[K     |████████████████████████████████| 71kB 10.4MB/s \n",
            "\u001b[?25hRequirement already satisfied: pexpect; sys_platform != \"win32\" in /usr/local/lib/python3.6/dist-packages (from ipython->catalyst; extra == \"all\"->toiro[all]) (4.8.0)\n",
            "Requirement already satisfied: pickleshare in /usr/local/lib/python3.6/dist-packages (from ipython->catalyst; extra == \"all\"->toiro[all]) (0.7.5)\n",
            "Requirement already satisfied: simplegeneric>0.8 in /usr/local/lib/python3.6/dist-packages (from ipython->catalyst; extra == \"all\"->toiro[all]) (0.8.1)\n",
            "Requirement already satisfied: prompt-toolkit<2.0.0,>=1.0.4 in /usr/local/lib/python3.6/dist-packages (from ipython->catalyst; extra == \"all\"->toiro[all]) (1.0.18)\n",
            "Requirement already satisfied: traitlets>=4.2 in /usr/local/lib/python3.6/dist-packages (from ipython->catalyst; extra == \"all\"->toiro[all]) (4.3.3)\n",
            "Requirement already satisfied: pygments in /usr/local/lib/python3.6/dist-packages (from ipython->catalyst; extra == \"all\"->toiro[all]) (2.1.3)\n",
            "Requirement already satisfied: decorator in /usr/local/lib/python3.6/dist-packages (from ipython->catalyst; extra == \"all\"->toiro[all]) (4.4.2)\n",
            "Requirement already satisfied: kiwisolver>=1.0.1 in /usr/local/lib/python3.6/dist-packages (from matplotlib->catalyst; extra == \"all\"->toiro[all]) (1.2.0)\n",
            "Requirement already satisfied: cycler>=0.10 in /usr/local/lib/python3.6/dist-packages (from matplotlib->catalyst; extra == \"all\"->toiro[all]) (0.10.0)\n",
            "Requirement already satisfied: absl-py>=0.4 in /usr/local/lib/python3.6/dist-packages (from tensorboard>=1.14.0->catalyst; extra == \"all\"->toiro[all]) (0.9.0)\n",
            "Requirement already satisfied: markdown>=2.6.8 in /usr/local/lib/python3.6/dist-packages (from tensorboard>=1.14.0->catalyst; extra == \"all\"->toiro[all]) (3.2.2)\n",
            "Requirement already satisfied: tensorboard-plugin-wit>=1.6.0 in /usr/local/lib/python3.6/dist-packages (from tensorboard>=1.14.0->catalyst; extra == \"all\"->toiro[all]) (1.7.0)\n",
            "Requirement already satisfied: wheel>=0.26; python_version >= \"3\" in /usr/local/lib/python3.6/dist-packages (from tensorboard>=1.14.0->catalyst; extra == \"all\"->toiro[all]) (0.34.2)\n",
            "Requirement already satisfied: werkzeug>=0.11.15 in /usr/local/lib/python3.6/dist-packages (from tensorboard>=1.14.0->catalyst; extra == \"all\"->toiro[all]) (1.0.1)\n",
            "Requirement already satisfied: google-auth<2,>=1.6.3 in /usr/local/lib/python3.6/dist-packages (from tensorboard>=1.14.0->catalyst; extra == \"all\"->toiro[all]) (1.17.2)\n",
            "Requirement already satisfied: google-auth-oauthlib<0.5,>=0.4.1 in /usr/local/lib/python3.6/dist-packages (from tensorboard>=1.14.0->catalyst; extra == \"all\"->toiro[all]) (0.4.1)\n",
            "Requirement already satisfied: grpcio>=1.24.3 in /usr/local/lib/python3.6/dist-packages (from tensorboard>=1.14.0->catalyst; extra == \"all\"->toiro[all]) (1.31.0)\n",
            "Requirement already satisfied: retrying>=1.3.3 in /usr/local/lib/python3.6/dist-packages (from plotly>=4.1.0->catalyst; extra == \"all\"->toiro[all]) (1.3.3)\n",
            "Requirement already satisfied: importlib-metadata>=0.20; python_version < \"3.8\" in /usr/local/lib/python3.6/dist-packages (from catalogue<1.1.0,>=0.0.7->spacy>=2.3.0; extra == \"all\"->toiro[all]) (1.7.0)\n",
            "Collecting smmap<4,>=3.0.1\n",
            "  Downloading https://files.pythonhosted.org/packages/b0/9a/4d409a6234eb940e6a78dfdfc66156e7522262f5f2fecca07dc55915952d/smmap-3.0.4-py2.py3-none-any.whl\n",
            "Requirement already satisfied: ptyprocess>=0.5 in /usr/local/lib/python3.6/dist-packages (from pexpect; sys_platform != \"win32\"->ipython->catalyst; extra == \"all\"->toiro[all]) (0.6.0)\n",
            "Requirement already satisfied: wcwidth in /usr/local/lib/python3.6/dist-packages (from prompt-toolkit<2.0.0,>=1.0.4->ipython->catalyst; extra == \"all\"->toiro[all]) (0.2.5)\n",
            "Requirement already satisfied: ipython-genutils in /usr/local/lib/python3.6/dist-packages (from traitlets>=4.2->ipython->catalyst; extra == \"all\"->toiro[all]) (0.2.0)\n",
            "Requirement already satisfied: rsa<5,>=3.1.4; python_version >= \"3\" in /usr/local/lib/python3.6/dist-packages (from google-auth<2,>=1.6.3->tensorboard>=1.14.0->catalyst; extra == \"all\"->toiro[all]) (4.6)\n",
            "Requirement already satisfied: cachetools<5.0,>=2.0.0 in /usr/local/lib/python3.6/dist-packages (from google-auth<2,>=1.6.3->tensorboard>=1.14.0->catalyst; extra == \"all\"->toiro[all]) (4.1.1)\n",
            "Requirement already satisfied: pyasn1-modules>=0.2.1 in /usr/local/lib/python3.6/dist-packages (from google-auth<2,>=1.6.3->tensorboard>=1.14.0->catalyst; extra == \"all\"->toiro[all]) (0.2.8)\n",
            "Requirement already satisfied: requests-oauthlib>=0.7.0 in /usr/local/lib/python3.6/dist-packages (from google-auth-oauthlib<0.5,>=0.4.1->tensorboard>=1.14.0->catalyst; extra == \"all\"->toiro[all]) (1.3.0)\n",
            "Requirement already satisfied: zipp>=0.5 in /usr/local/lib/python3.6/dist-packages (from importlib-metadata>=0.20; python_version < \"3.8\"->catalogue<1.1.0,>=0.0.7->spacy>=2.3.0; extra == \"all\"->toiro[all]) (3.1.0)\n",
            "Requirement already satisfied: pyasn1>=0.1.3 in /usr/local/lib/python3.6/dist-packages (from rsa<5,>=3.1.4; python_version >= \"3\"->google-auth<2,>=1.6.3->tensorboard>=1.14.0->catalyst; extra == \"all\"->toiro[all]) (0.4.8)\n",
            "Requirement already satisfied: oauthlib>=3.0.0 in /usr/local/lib/python3.6/dist-packages (from requests-oauthlib>=0.7.0->google-auth-oauthlib<0.5,>=0.4.1->tensorboard>=1.14.0->catalyst; extra == \"all\"->toiro[all]) (3.1.0)\n",
            "Building wheels for collected packages: py-cpuinfo, sudachidict-core, ginza, sudachipy, pyknp, ja-ginza, sacremoses\n",
            "  Building wheel for py-cpuinfo (setup.py) ... \u001b[?25l\u001b[?25hdone\n",
            "  Created wheel for py-cpuinfo: filename=py_cpuinfo-7.0.0-cp36-none-any.whl size=20069 sha256=bd5970c9545cc4fe3cee66ef218b42e135bf9ea2ae4c47faf30817c335dab4f7\n",
            "  Stored in directory: /root/.cache/pip/wheels/f1/93/7b/127daf0c3a5a49feb2fecd468d508067c733fba5192f726ad1\n",
            "  Building wheel for sudachidict-core (setup.py) ... \u001b[?25l\u001b[?25hdone\n",
            "  Created wheel for sudachidict-core: filename=SudachiDict_core-20200722-cp36-none-any.whl size=71120192 sha256=73d5de593d3907a007b32333afe69cbec92e501beee20c391e649837a15ba782\n",
            "  Stored in directory: /root/.cache/pip/wheels/aa/79/cb/ee2ca7db8ba91560158dd4b1362ca1bcc1622541d476de5145\n",
            "  Building wheel for ginza (setup.py) ... \u001b[?25l\u001b[?25hdone\n",
            "  Created wheel for ginza: filename=ginza-4.0.0-cp36-none-any.whl size=15493 sha256=9727479bdc76eea7dd3c53212b26db0ef20a88f5a43e884bc1d6167ae1a4f565\n",
            "  Stored in directory: /root/.cache/pip/wheels/d1/72/7b/2e2396430fee86a30a88203e5fbe13ffe6417dfa7544bf1d58\n",
            "  Building wheel for sudachipy (setup.py) ... \u001b[?25l\u001b[?25hdone\n",
            "  Created wheel for sudachipy: filename=SudachiPy-0.4.9-cp36-cp36m-linux_x86_64.whl size=870380 sha256=248970861bc038ea5f008e60ebf017a8f95af0a4230441582836ec7a93fff8c2\n",
            "  Stored in directory: /root/.cache/pip/wheels/79/85/b4/bb2fbbf043bc8128a6cbb769604c410dc5ece89c88b7e57de0\n",
            "  Building wheel for pyknp (setup.py) ... \u001b[?25l\u001b[?25hdone\n",
            "  Created wheel for pyknp: filename=pyknp-0.4.5-cp36-none-any.whl size=40419 sha256=4010f743f6e125ce5d73ef546358264c94181001cd781fcae6734007dc9c1e7c\n",
            "  Stored in directory: /root/.cache/pip/wheels/7d/0c/46/495789d5ca85293c2478f5bd81e1204f77f949645cb35bf382\n",
            "  Building wheel for ja-ginza (setup.py) ... \u001b[?25l\u001b[?25hdone\n",
            "  Created wheel for ja-ginza: filename=ja_ginza-4.0.0-cp36-none-any.whl size=51530814 sha256=000c4722b8c494bb9c08ebde717593fee44f4ee2ab738e20aef7cc70da9f6bbb\n",
            "  Stored in directory: /root/.cache/pip/wheels/28/5a/c0/95ac590b39eff99c77d729f284341d15a6903e4011d70ff421\n",
            "  Building wheel for sacremoses (setup.py) ... \u001b[?25l\u001b[?25hdone\n",
            "  Created wheel for sacremoses: filename=sacremoses-0.0.43-cp36-none-any.whl size=893260 sha256=38a33770f52a537c30889c44e0de7093aa22f7b38424bf52d57f6d6af9ecbd1c\n",
            "  Stored in directory: /root/.cache/pip/wheels/29/3c/fd/7ce5c3f0666dab31a50123635e6fb5e19ceb42ce38d4e58f45\n",
            "Successfully built py-cpuinfo sudachidict-core ginza sudachipy pyknp ja-ginza sacremoses\n",
            "Installing collected packages: py-cpuinfo, janome, sentencepiece, sortedcontainers, dartsclone, sudachipy, sudachidict-core, thinc, spacy, ja-ginza, ginza, mecab-python3, sacremoses, tokenizers, transformers, tensorboardX, smmap, gitdb, GitPython, deprecation, catalyst, pyknp, DyNet, nagisa, kytea, toiro\n",
            "  Found existing installation: sortedcontainers 2.2.2\n",
            "    Uninstalling sortedcontainers-2.2.2:\n",
            "      Successfully uninstalled sortedcontainers-2.2.2\n",
            "  Found existing installation: thinc 7.4.0\n",
            "    Uninstalling thinc-7.4.0:\n",
            "      Successfully uninstalled thinc-7.4.0\n",
            "  Found existing installation: spacy 2.2.4\n",
            "    Uninstalling spacy-2.2.4:\n",
            "      Successfully uninstalled spacy-2.2.4\n",
            "Successfully installed DyNet-2.1 GitPython-3.1.7 catalyst-20.8.2 dartsclone-0.9.0 deprecation-2.1.0 ginza-4.0.0 gitdb-4.0.5 ja-ginza-4.0.0 janome-0.4.0 kytea-0.1.5 mecab-python3-0.996.5 nagisa-0.2.7 py-cpuinfo-7.0.0 pyknp-0.4.5 sacremoses-0.0.43 sentencepiece-0.1.91 smmap-3.0.4 sortedcontainers-2.1.0 spacy-2.3.2 sudachidict-core-20200722 sudachipy-0.4.9 tensorboardX-2.1 thinc-7.4.1 toiro-0.0.6 tokenizers-0.8.1rc1 transformers-3.0.2\n"
          ],
          "name": "stdout"
        }
      ]
    },
    {
      "cell_type": "markdown",
      "metadata": {
        "id": "qUGrxu09bsTk",
        "colab_type": "text"
      },
      "source": [
        "# 1. Python を利用した日本語自然言語処理"
      ]
    },
    {
      "cell_type": "markdown",
      "metadata": {
        "id": "361gw4CEb7M1",
        "colab_type": "text"
      },
      "source": [
        "## [Janome](https://github.com/mocobeta/janome) の利用方法\n",
        "\n"
      ]
    },
    {
      "cell_type": "markdown",
      "metadata": {
        "id": "4ucLaZcPd08I",
        "colab_type": "text"
      },
      "source": [
        "インストール方法"
      ]
    },
    {
      "cell_type": "code",
      "metadata": {
        "id": "qkjBYhlkdTgz",
        "colab_type": "code",
        "colab": {
          "base_uri": "https://localhost:8080/",
          "height": 0
        },
        "outputId": "dad4cd77-979c-45ca-d425-62776a101fe7"
      },
      "source": [
        "!pip install Janome"
      ],
      "execution_count": 2,
      "outputs": [
        {
          "output_type": "stream",
          "text": [
            "Requirement already satisfied: Janome in /usr/local/lib/python3.6/dist-packages (0.4.0)\n"
          ],
          "name": "stdout"
        }
      ]
    },
    {
      "cell_type": "markdown",
      "metadata": {
        "id": "cyXiHYzxd78-",
        "colab_type": "text"
      },
      "source": [
        "実装方法"
      ]
    },
    {
      "cell_type": "code",
      "metadata": {
        "id": "ZPNLwOeUeCDG",
        "colab_type": "code",
        "colab": {
          "base_uri": "https://localhost:8080/",
          "height": 0
        },
        "outputId": "25c8828f-dfa0-41e9-8910-992452c060e3"
      },
      "source": [
        "from janome.tokenizer import Tokenizer\n",
        "t = Tokenizer() # Initialize Janome\n",
        "text = \"Python で前処理を実行する\"\n",
        "for token in t.tokenize(text):\n",
        "    print(token)"
      ],
      "execution_count": 3,
      "outputs": [
        {
          "output_type": "stream",
          "text": [
            "Python\t名詞,固有名詞,組織,*,*,*,Python,*,*\n",
            " \t記号,空白,*,*,*,*, ,*,*\n",
            "で\t接続詞,*,*,*,*,*,で,デ,デ\n",
            "前\t接頭詞,名詞接続,*,*,*,*,前,ゼン,ゼン\n",
            "処理\t名詞,サ変接続,*,*,*,*,処理,ショリ,ショリ\n",
            "を\t助詞,格助詞,一般,*,*,*,を,ヲ,ヲ\n",
            "実行\t名詞,サ変接続,*,*,*,*,実行,ジッコウ,ジッコー\n",
            "する\t動詞,自立,*,*,サ変・スル,基本形,する,スル,スル\n"
          ],
          "name": "stdout"
        }
      ]
    },
    {
      "cell_type": "markdown",
      "metadata": {
        "id": "vcQ3_7mgeStj",
        "colab_type": "text"
      },
      "source": [
        "## [mecab-python3](https://github.com/SamuraiT/mecab-python3) の利用方法"
      ]
    },
    {
      "cell_type": "markdown",
      "metadata": {
        "id": "q8foG5lUeofZ",
        "colab_type": "text"
      },
      "source": [
        "インストール方法"
      ]
    },
    {
      "cell_type": "code",
      "metadata": {
        "id": "RmxXehOdeqDF",
        "colab_type": "code",
        "colab": {
          "base_uri": "https://localhost:8080/",
          "height": 0
        },
        "outputId": "c5a289ca-99d7-4b32-f3dc-92fe60e6f832"
      },
      "source": [
        "!pip install mecab-python3==0.996.5"
      ],
      "execution_count": 4,
      "outputs": [
        {
          "output_type": "stream",
          "text": [
            "Requirement already satisfied: mecab-python3==0.996.5 in /usr/local/lib/python3.6/dist-packages (0.996.5)\n"
          ],
          "name": "stdout"
        }
      ]
    },
    {
      "cell_type": "markdown",
      "metadata": {
        "id": "94T57fH4fDpK",
        "colab_type": "text"
      },
      "source": [
        "実装方法"
      ]
    },
    {
      "cell_type": "code",
      "metadata": {
        "id": "mQhWrplsfGKz",
        "colab_type": "code",
        "colab": {
          "base_uri": "https://localhost:8080/",
          "height": 0
        },
        "outputId": "e1ef79fe-ea8e-454d-9178-45d66668d9e8"
      },
      "source": [
        "import MeCab\n",
        "\n",
        "tagger = MeCab.Tagger()\n",
        "text = 'Python で前処理を実行する'\n",
        "print(tagger.parse(text))"
      ],
      "execution_count": 5,
      "outputs": [
        {
          "output_type": "stream",
          "text": [
            "Python\t名詞,一般,*,*,*,*,*\n",
            "で\t助詞,格助詞,一般,*,*,*,で,デ,デ\n",
            "前\t接頭詞,名詞接続,*,*,*,*,前,ゼン,ゼン\n",
            "処理\t名詞,サ変接続,*,*,*,*,処理,ショリ,ショリ\n",
            "を\t助詞,格助詞,一般,*,*,*,を,ヲ,ヲ\n",
            "実行\t名詞,サ変接続,*,*,*,*,実行,ジッコウ,ジッコー\n",
            "する\t動詞,自立,*,*,サ変・スル,基本形,する,スル,スル\n",
            "EOS\n",
            "\n"
          ],
          "name": "stdout"
        }
      ]
    },
    {
      "cell_type": "markdown",
      "metadata": {
        "id": "Tc9fGMvsfUFj",
        "colab_type": "text"
      },
      "source": [
        "## [SudachiPy](https://github.com/WorksApplications/SudachiPy) の利用方法"
      ]
    },
    {
      "cell_type": "markdown",
      "metadata": {
        "id": "YCUVhsxcfac5",
        "colab_type": "text"
      },
      "source": [
        "インストール方法"
      ]
    },
    {
      "cell_type": "code",
      "metadata": {
        "id": "j6vPyu7BfYdG",
        "colab_type": "code",
        "colab": {
          "base_uri": "https://localhost:8080/",
          "height": 0
        },
        "outputId": "61fbb544-fbb2-41fc-c5b2-8fac54cedeff"
      },
      "source": [
        "!pip install sudachipy sudachidict_core"
      ],
      "execution_count": 6,
      "outputs": [
        {
          "output_type": "stream",
          "text": [
            "Requirement already satisfied: sudachipy in /usr/local/lib/python3.6/dist-packages (0.4.9)\n",
            "Requirement already satisfied: sudachidict_core in /usr/local/lib/python3.6/dist-packages (20200722)\n",
            "Requirement already satisfied: dartsclone~=0.9.0 in /usr/local/lib/python3.6/dist-packages (from sudachipy) (0.9.0)\n",
            "Requirement already satisfied: sortedcontainers~=2.1.0 in /usr/local/lib/python3.6/dist-packages (from sudachipy) (2.1.0)\n",
            "Requirement already satisfied: Cython in /usr/local/lib/python3.6/dist-packages (from dartsclone~=0.9.0->sudachipy) (0.29.21)\n"
          ],
          "name": "stdout"
        }
      ]
    },
    {
      "cell_type": "markdown",
      "metadata": {
        "id": "JccB5394fnMz",
        "colab_type": "text"
      },
      "source": [
        "実装方法"
      ]
    },
    {
      "cell_type": "code",
      "metadata": {
        "id": "8h8AkpV2frMF",
        "colab_type": "code",
        "colab": {
          "base_uri": "https://localhost:8080/",
          "height": 0
        },
        "outputId": "7139b1aa-efff-4348-b495-04584334744f"
      },
      "source": [
        "import imp\n",
        "import pkg_resources\n",
        "imp.reload(pkg_resources)\n",
        "\n",
        "from sudachipy import tokenizer\n",
        "from sudachipy import dictionary\n",
        "\n",
        "tokenizer_obj = dictionary.Dictionary().create() # Initialize sudachipy\n",
        "mode = tokenizer.Tokenizer.SplitMode.C # C: 固有表現相当\n",
        "\n",
        "text = \"Python で前処理を実行する\"\n",
        "ms = tokenizer_obj.tokenize(text, mode)\n",
        "for m in ms:\n",
        "    print(m.surface(), m.dictionary_form(), m.reading_form(), m.part_of_speech())"
      ],
      "execution_count": 7,
      "outputs": [
        {
          "output_type": "stream",
          "text": [
            "Python python python ['名詞', '普通名詞', '一般', '*', '*', '*']\n",
            "    キゴウ ['空白', '*', '*', '*', '*', '*']\n",
            "で で デ ['接続詞', '*', '*', '*', '*', '*']\n",
            "前処理 前処理 マエショリ ['名詞', '普通名詞', '一般', '*', '*', '*']\n",
            "を を ヲ ['助詞', '格助詞', '*', '*', '*', '*']\n",
            "実行 実行 ジッコウ ['名詞', '普通名詞', 'サ変可能', '*', '*', '*']\n",
            "する する スル ['動詞', '非自立可能', '*', '*', 'サ行変格', '終止形-一般']\n"
          ],
          "name": "stdout"
        }
      ]
    },
    {
      "cell_type": "markdown",
      "metadata": {
        "id": "zMnX2NI6gUCl",
        "colab_type": "text"
      },
      "source": [
        "## [GiNZA](https://github.com/megagonlabs/ginza) の利用方法"
      ]
    },
    {
      "cell_type": "markdown",
      "metadata": {
        "id": "wfO5i2wIgfWB",
        "colab_type": "text"
      },
      "source": [
        "インストール方法"
      ]
    },
    {
      "cell_type": "code",
      "metadata": {
        "id": "uG77tI_Agj0q",
        "colab_type": "code",
        "colab": {
          "base_uri": "https://localhost:8080/",
          "height": 476
        },
        "outputId": "6e7d7423-b46a-4cef-c3e7-2969f27d7a29"
      },
      "source": [
        "!pip install spacy ginza"
      ],
      "execution_count": 8,
      "outputs": [
        {
          "output_type": "stream",
          "text": [
            "Requirement already satisfied: spacy in /usr/local/lib/python3.6/dist-packages (2.3.2)\n",
            "Requirement already satisfied: ginza in /usr/local/lib/python3.6/dist-packages (4.0.0)\n",
            "Requirement already satisfied: preshed<3.1.0,>=3.0.2 in /usr/local/lib/python3.6/dist-packages (from spacy) (3.0.2)\n",
            "Requirement already satisfied: catalogue<1.1.0,>=0.0.7 in /usr/local/lib/python3.6/dist-packages (from spacy) (1.0.0)\n",
            "Requirement already satisfied: blis<0.5.0,>=0.4.0 in /usr/local/lib/python3.6/dist-packages (from spacy) (0.4.1)\n",
            "Requirement already satisfied: tqdm<5.0.0,>=4.38.0 in /usr/local/lib/python3.6/dist-packages (from spacy) (4.41.1)\n",
            "Requirement already satisfied: setuptools in /usr/local/lib/python3.6/dist-packages (from spacy) (49.2.0)\n",
            "Requirement already satisfied: requests<3.0.0,>=2.13.0 in /usr/local/lib/python3.6/dist-packages (from spacy) (2.23.0)\n",
            "Requirement already satisfied: wasabi<1.1.0,>=0.4.0 in /usr/local/lib/python3.6/dist-packages (from spacy) (0.7.1)\n",
            "Requirement already satisfied: srsly<1.1.0,>=1.0.2 in /usr/local/lib/python3.6/dist-packages (from spacy) (1.0.2)\n",
            "Requirement already satisfied: murmurhash<1.1.0,>=0.28.0 in /usr/local/lib/python3.6/dist-packages (from spacy) (1.0.2)\n",
            "Requirement already satisfied: plac<1.2.0,>=0.9.6 in /usr/local/lib/python3.6/dist-packages (from spacy) (1.1.3)\n",
            "Requirement already satisfied: cymem<2.1.0,>=2.0.2 in /usr/local/lib/python3.6/dist-packages (from spacy) (2.0.3)\n",
            "Requirement already satisfied: thinc==7.4.1 in /usr/local/lib/python3.6/dist-packages (from spacy) (7.4.1)\n",
            "Requirement already satisfied: numpy>=1.15.0 in /usr/local/lib/python3.6/dist-packages (from spacy) (1.18.5)\n",
            "Requirement already satisfied: ja-ginza<4.1.0,>=4.0.0 in /usr/local/lib/python3.6/dist-packages (from ginza) (4.0.0)\n",
            "Requirement already satisfied: SudachiDict-core>=20200330; python_version >= \"3.5\" in /usr/local/lib/python3.6/dist-packages (from ginza) (20200722)\n",
            "Requirement already satisfied: SudachiPy>=0.4.9; python_version >= \"3.5\" in /usr/local/lib/python3.6/dist-packages (from ginza) (0.4.9)\n",
            "Requirement already satisfied: importlib-metadata>=0.20; python_version < \"3.8\" in /usr/local/lib/python3.6/dist-packages (from catalogue<1.1.0,>=0.0.7->spacy) (1.7.0)\n",
            "Requirement already satisfied: urllib3!=1.25.0,!=1.25.1,<1.26,>=1.21.1 in /usr/local/lib/python3.6/dist-packages (from requests<3.0.0,>=2.13.0->spacy) (1.24.3)\n",
            "Requirement already satisfied: chardet<4,>=3.0.2 in /usr/local/lib/python3.6/dist-packages (from requests<3.0.0,>=2.13.0->spacy) (3.0.4)\n",
            "Requirement already satisfied: certifi>=2017.4.17 in /usr/local/lib/python3.6/dist-packages (from requests<3.0.0,>=2.13.0->spacy) (2020.6.20)\n",
            "Requirement already satisfied: idna<3,>=2.5 in /usr/local/lib/python3.6/dist-packages (from requests<3.0.0,>=2.13.0->spacy) (2.10)\n",
            "Requirement already satisfied: sortedcontainers~=2.1.0 in /usr/local/lib/python3.6/dist-packages (from SudachiPy>=0.4.9; python_version >= \"3.5\"->ginza) (2.1.0)\n",
            "Requirement already satisfied: dartsclone~=0.9.0 in /usr/local/lib/python3.6/dist-packages (from SudachiPy>=0.4.9; python_version >= \"3.5\"->ginza) (0.9.0)\n",
            "Requirement already satisfied: zipp>=0.5 in /usr/local/lib/python3.6/dist-packages (from importlib-metadata>=0.20; python_version < \"3.8\"->catalogue<1.1.0,>=0.0.7->spacy) (3.1.0)\n",
            "Requirement already satisfied: Cython in /usr/local/lib/python3.6/dist-packages (from dartsclone~=0.9.0->SudachiPy>=0.4.9; python_version >= \"3.5\"->ginza) (0.29.21)\n"
          ],
          "name": "stdout"
        }
      ]
    },
    {
      "cell_type": "markdown",
      "metadata": {
        "id": "F2DtNXNwghN0",
        "colab_type": "text"
      },
      "source": [
        "実装方法"
      ]
    },
    {
      "cell_type": "code",
      "metadata": {
        "id": "gGSRZKXzgsnV",
        "colab_type": "code",
        "colab": {
          "base_uri": "https://localhost:8080/",
          "height": 119
        },
        "outputId": "11f1c81a-53e1-4d01-ce6c-4d99ca278332"
      },
      "source": [
        "import imp\n",
        "import pkg_resources\n",
        "imp.reload(pkg_resources)\n",
        "\n",
        "import spacy\n",
        "nlp = spacy.load('ja_ginza')\n",
        "text = 'Python で前処理を実行する'\n",
        "tokens = nlp(text)\n",
        "for token in tokens:\n",
        "    print(token, token.tag_,  token.dep_, token.head.i)"
      ],
      "execution_count": 9,
      "outputs": [
        {
          "output_type": "stream",
          "text": [
            "Python 名詞-普通名詞-一般 obl 4\n",
            "で 接続詞 case 0\n",
            "前処理 名詞-普通名詞-一般 obj 4\n",
            "を 助詞-格助詞 case 2\n",
            "実行 名詞-普通名詞-サ変可能 ROOT 4\n",
            "する 動詞-非自立可能 aux 4\n"
          ],
          "name": "stdout"
        }
      ]
    },
    {
      "cell_type": "markdown",
      "metadata": {
        "id": "B4A1ikHPiqzc",
        "colab_type": "text"
      },
      "source": [
        "## [Juman++ v2](https://github.com/ku-nlp/jumanpp) の利用方法（本体のインストールが必要）"
      ]
    },
    {
      "cell_type": "markdown",
      "metadata": {
        "id": "in2ou8m6jBWp",
        "colab_type": "text"
      },
      "source": [
        "インストール方法"
      ]
    },
    {
      "cell_type": "code",
      "metadata": {
        "id": "lof_UiVUjDkU",
        "colab_type": "code",
        "colab": {
          "base_uri": "https://localhost:8080/",
          "height": 0
        },
        "outputId": "f6c0e06d-590a-44a5-fa5f-524e622834d0"
      },
      "source": [
        "pip install pyknp"
      ],
      "execution_count": 10,
      "outputs": [
        {
          "output_type": "stream",
          "text": [
            "Requirement already satisfied: pyknp in /usr/local/lib/python3.6/dist-packages (0.4.5)\n",
            "Requirement already satisfied: six in /usr/local/lib/python3.6/dist-packages (from pyknp) (1.15.0)\n"
          ],
          "name": "stdout"
        }
      ]
    },
    {
      "cell_type": "markdown",
      "metadata": {
        "id": "0Fm2Brw0jFZM",
        "colab_type": "text"
      },
      "source": [
        "実装方法"
      ]
    },
    {
      "cell_type": "code",
      "metadata": {
        "id": "78jj0tozjIZ6",
        "colab_type": "code",
        "colab": {}
      },
      "source": [
        "# from pyknp import Juman\n",
        "# jumanpp = Juman() # default is JUMAN++\n",
        "# text = 'Python で前処理を実行する'\n",
        "# tokens = jumanpp.analysis(text)\n",
        "# for mrph in tokens.mrph_list():\n",
        "#   print(mrph.midasi, mrph.yomi, mrph.genkei, mrph.hinsi, mrph.bunrui, mrph.katuyou1, mrph.katuyou2, mrph.imis, mrph.repname)"
      ],
      "execution_count": 11,
      "outputs": []
    },
    {
      "cell_type": "markdown",
      "metadata": {
        "id": "7iAC_HKmjbCG",
        "colab_type": "text"
      },
      "source": [
        "## [nagisa](https://github.com/taishi-i/nagisa) の利用方法"
      ]
    },
    {
      "cell_type": "markdown",
      "metadata": {
        "id": "XJFuOxf3jk8Z",
        "colab_type": "text"
      },
      "source": [
        "インストール方法"
      ]
    },
    {
      "cell_type": "code",
      "metadata": {
        "id": "-oVdfTWCjo40",
        "colab_type": "code",
        "colab": {
          "base_uri": "https://localhost:8080/",
          "height": 0
        },
        "outputId": "27675009-5b7f-4713-be80-44327b19d1e2"
      },
      "source": [
        "!pip install nagisa"
      ],
      "execution_count": 12,
      "outputs": [
        {
          "output_type": "stream",
          "text": [
            "Requirement already satisfied: nagisa in /usr/local/lib/python3.6/dist-packages (0.2.7)\n",
            "Requirement already satisfied: numpy in /usr/local/lib/python3.6/dist-packages (from nagisa) (1.18.5)\n",
            "Requirement already satisfied: six in /usr/local/lib/python3.6/dist-packages (from nagisa) (1.15.0)\n",
            "Requirement already satisfied: DyNet in /usr/local/lib/python3.6/dist-packages (from nagisa) (2.1)\n",
            "Requirement already satisfied: cython in /usr/local/lib/python3.6/dist-packages (from DyNet->nagisa) (0.29.21)\n"
          ],
          "name": "stdout"
        }
      ]
    },
    {
      "cell_type": "markdown",
      "metadata": {
        "id": "flFDiEiijlQz",
        "colab_type": "text"
      },
      "source": [
        "実装方法"
      ]
    },
    {
      "cell_type": "code",
      "metadata": {
        "id": "Wr8NLD9ZjvzA",
        "colab_type": "code",
        "colab": {
          "base_uri": "https://localhost:8080/",
          "height": 0
        },
        "outputId": "2a37fd47-6c9d-403e-fbce-4037edbe202e"
      },
      "source": [
        "import nagisa\n",
        "text = 'Python で前処理を実行する'\n",
        "tokens = nagisa.tagging(text)\n",
        "print(tokens)\n",
        "print(tokens.words)\n",
        "print(tokens.postags)"
      ],
      "execution_count": 13,
      "outputs": [
        {
          "output_type": "stream",
          "text": [
            "Python/名詞 　/空白 で/助詞 前/名詞 処理/名詞 を/助詞 実行/名詞 する/動詞\n",
            "['Python', '\\u3000', 'で', '前', '処理', 'を', '実行', 'する']\n",
            "['名詞', '空白', '助詞', '名詞', '名詞', '助詞', '名詞', '動詞']\n"
          ],
          "name": "stdout"
        }
      ]
    },
    {
      "cell_type": "markdown",
      "metadata": {
        "colab_type": "text",
        "id": "faVVTrgikFUo"
      },
      "source": [
        "## [KyTea](https://github.com/neubig/kytea) の利用方法（本体のインストールが必要）"
      ]
    },
    {
      "cell_type": "markdown",
      "metadata": {
        "colab_type": "text",
        "id": "VKfXzlCJkFUs"
      },
      "source": [
        "インストール方法"
      ]
    },
    {
      "cell_type": "code",
      "metadata": {
        "colab_type": "code",
        "id": "_3FfuMVskFUu",
        "colab": {
          "base_uri": "https://localhost:8080/",
          "height": 0
        },
        "outputId": "b597c247-86a3-4ddd-d6a7-2044c825bfb7"
      },
      "source": [
        "pip install kytea"
      ],
      "execution_count": 14,
      "outputs": [
        {
          "output_type": "stream",
          "text": [
            "Requirement already satisfied: kytea in /usr/local/lib/python3.6/dist-packages (0.1.5)\n"
          ],
          "name": "stdout"
        }
      ]
    },
    {
      "cell_type": "markdown",
      "metadata": {
        "colab_type": "text",
        "id": "ORC2p2O3kFU8"
      },
      "source": [
        "実装方法"
      ]
    },
    {
      "cell_type": "code",
      "metadata": {
        "colab_type": "code",
        "id": "_YL4EZ-dkFU9",
        "colab": {}
      },
      "source": [
        "# import Mykytea\n",
        "# mk = Mykytea.Mykytea('')\n",
        "# text = 'Python で前処理を実行する'\n",
        "# tokens = mk.getTagsToString(text)\n",
        "# print(tokens)"
      ],
      "execution_count": 15,
      "outputs": []
    },
    {
      "cell_type": "markdown",
      "metadata": {
        "id": "gviuYO6BkspU",
        "colab_type": "text"
      },
      "source": [
        "## [SentencePiece](https://github.com/google/sentencepiece) の利用方法\n"
      ]
    },
    {
      "cell_type": "markdown",
      "metadata": {
        "id": "YfXdKSK4k6A9",
        "colab_type": "text"
      },
      "source": [
        "インストール方法"
      ]
    },
    {
      "cell_type": "code",
      "metadata": {
        "id": "TzPdVB5yk-Xh",
        "colab_type": "code",
        "colab": {
          "base_uri": "https://localhost:8080/",
          "height": 34
        },
        "outputId": "89b05721-9f37-48ac-c9a1-4c1336870d41"
      },
      "source": [
        "!pip install sentencepiece"
      ],
      "execution_count": 16,
      "outputs": [
        {
          "output_type": "stream",
          "text": [
            "Requirement already satisfied: sentencepiece in /usr/local/lib/python3.6/dist-packages (0.1.91)\n"
          ],
          "name": "stdout"
        }
      ]
    },
    {
      "cell_type": "markdown",
      "metadata": {
        "id": "NvsuOnkclEbf",
        "colab_type": "text"
      },
      "source": [
        "モデルのダウンロード"
      ]
    },
    {
      "cell_type": "code",
      "metadata": {
        "id": "PXrjnsBylGz3",
        "colab_type": "code",
        "colab": {
          "base_uri": "https://localhost:8080/",
          "height": 476
        },
        "outputId": "f82d544a-7018-4b86-e965-376360b9afe0"
      },
      "source": [
        "!wget https://github.com/taishi-i/toiro/raw/master/toiro/tokenizers/data/ja.text8.txt.spm.model\n",
        "!wget https://github.com/taishi-i/toiro/blob/master/toiro/tokenizers/data/ja.text8.txt.spm.vocab"
      ],
      "execution_count": 17,
      "outputs": [
        {
          "output_type": "stream",
          "text": [
            "--2020-08-24 18:16:32--  https://github.com/taishi-i/toiro/raw/master/toiro/tokenizers/data/ja.text8.txt.spm.model\n",
            "Resolving github.com (github.com)... 192.30.255.113\n",
            "Connecting to github.com (github.com)|192.30.255.113|:443... connected.\n",
            "HTTP request sent, awaiting response... 302 Found\n",
            "Location: https://raw.githubusercontent.com/taishi-i/toiro/master/toiro/tokenizers/data/ja.text8.txt.spm.model [following]\n",
            "--2020-08-24 18:16:32--  https://raw.githubusercontent.com/taishi-i/toiro/master/toiro/tokenizers/data/ja.text8.txt.spm.model\n",
            "Resolving raw.githubusercontent.com (raw.githubusercontent.com)... 151.101.0.133, 151.101.64.133, 151.101.128.133, ...\n",
            "Connecting to raw.githubusercontent.com (raw.githubusercontent.com)|151.101.0.133|:443... connected.\n",
            "HTTP request sent, awaiting response... 200 OK\n",
            "Length: 352418 (344K) [application/octet-stream]\n",
            "Saving to: ‘ja.text8.txt.spm.model’\n",
            "\n",
            "ja.text8.txt.spm.mo 100%[===================>] 344.16K  --.-KB/s    in 0.03s   \n",
            "\n",
            "2020-08-24 18:16:33 (11.6 MB/s) - ‘ja.text8.txt.spm.model’ saved [352418/352418]\n",
            "\n",
            "--2020-08-24 18:16:33--  https://github.com/taishi-i/toiro/blob/master/toiro/tokenizers/data/ja.text8.txt.spm.vocab\n",
            "Resolving github.com (github.com)... 192.30.255.113\n",
            "Connecting to github.com (github.com)|192.30.255.113|:443... connected.\n",
            "HTTP request sent, awaiting response... 200 OK\n",
            "Length: unspecified [text/html]\n",
            "Saving to: ‘ja.text8.txt.spm.vocab’\n",
            "\n",
            "ja.text8.txt.spm.vo     [ <=>                ]   1.60M  --.-KB/s    in 0.05s   \n",
            "\n",
            "2020-08-24 18:16:33 (33.0 MB/s) - ‘ja.text8.txt.spm.vocab’ saved [1673428]\n",
            "\n"
          ],
          "name": "stdout"
        }
      ]
    },
    {
      "cell_type": "markdown",
      "metadata": {
        "id": "jvR6KKLEk51R",
        "colab_type": "text"
      },
      "source": [
        "実装方法"
      ]
    },
    {
      "cell_type": "code",
      "metadata": {
        "id": "Zkgm8mN2lCw1",
        "colab_type": "code",
        "colab": {
          "base_uri": "https://localhost:8080/",
          "height": 51
        },
        "outputId": "bc6e4403-b1c4-47a6-e395-dea38be2e0fc"
      },
      "source": [
        "import sentencepiece as spm\n",
        "sp = spm.SentencePieceProcessor()\n",
        "sp.load(f\"ja.text8.txt.spm.model\")\n",
        "text = 'Python で前処理を実行する'\n",
        "pieces = sp.encode_as_pieces(text)\n",
        "print(pieces)\n",
        "ids = sp.encode_as_ids(text)\n",
        "print(ids)"
      ],
      "execution_count": 18,
      "outputs": [
        {
          "output_type": "stream",
          "text": [
            "['▁', 'P', 'y', 'th', 'on', '▁', 'で', '前', '処理', 'を', '実行', 'する']\n",
            "[5, 0, 210, 1040, 905, 5, 14, 144, 2828, 7, 3749, 22]\n"
          ],
          "name": "stdout"
        }
      ]
    },
    {
      "cell_type": "markdown",
      "metadata": {
        "id": "tB2kzLdGlu9w",
        "colab_type": "text"
      },
      "source": [
        "## [形態素解析器比較ライブラリ toiro](https://github.com/taishi-i/toiro) の利用方法"
      ]
    },
    {
      "cell_type": "markdown",
      "metadata": {
        "id": "qgZSwmsXl-LQ",
        "colab_type": "text"
      },
      "source": [
        "インストール方法"
      ]
    },
    {
      "cell_type": "code",
      "metadata": {
        "id": "BPUIpDX_l6AN",
        "colab_type": "code",
        "colab": {
          "base_uri": "https://localhost:8080/",
          "height": 785
        },
        "outputId": "281bc8b8-9546-4099-de22-1517b678a082"
      },
      "source": [
        "!pip install toiro[all_tokenizers]"
      ],
      "execution_count": 19,
      "outputs": [
        {
          "output_type": "stream",
          "text": [
            "Requirement already satisfied: toiro[all_tokenizers] in /usr/local/lib/python3.6/dist-packages (0.0.6)\n",
            "Requirement already satisfied: tqdm in /usr/local/lib/python3.6/dist-packages (from toiro[all_tokenizers]) (4.41.1)\n",
            "Requirement already satisfied: sklearn in /usr/local/lib/python3.6/dist-packages (from toiro[all_tokenizers]) (0.0)\n",
            "Requirement already satisfied: janome in /usr/local/lib/python3.6/dist-packages (from toiro[all_tokenizers]) (0.4.0)\n",
            "Requirement already satisfied: requests in /usr/local/lib/python3.6/dist-packages (from toiro[all_tokenizers]) (2.23.0)\n",
            "Requirement already satisfied: pandas in /usr/local/lib/python3.6/dist-packages (from toiro[all_tokenizers]) (1.0.5)\n",
            "Requirement already satisfied: py-cpuinfo in /usr/local/lib/python3.6/dist-packages (from toiro[all_tokenizers]) (7.0.0)\n",
            "Requirement already satisfied: sudachidict-core; extra == \"all_tokenizers\" in /usr/local/lib/python3.6/dist-packages (from toiro[all_tokenizers]) (20200722)\n",
            "Requirement already satisfied: kytea; extra == \"all_tokenizers\" in /usr/local/lib/python3.6/dist-packages (from toiro[all_tokenizers]) (0.1.5)\n",
            "Requirement already satisfied: sentencepiece; extra == \"all_tokenizers\" in /usr/local/lib/python3.6/dist-packages (from toiro[all_tokenizers]) (0.1.91)\n",
            "Requirement already satisfied: nagisa; extra == \"all_tokenizers\" in /usr/local/lib/python3.6/dist-packages (from toiro[all_tokenizers]) (0.2.7)\n",
            "Requirement already satisfied: sudachipy; extra == \"all_tokenizers\" in /usr/local/lib/python3.6/dist-packages (from toiro[all_tokenizers]) (0.4.9)\n",
            "Requirement already satisfied: pyknp; extra == \"all_tokenizers\" in /usr/local/lib/python3.6/dist-packages (from toiro[all_tokenizers]) (0.4.5)\n",
            "Requirement already satisfied: spacy>=2.3.0; extra == \"all_tokenizers\" in /usr/local/lib/python3.6/dist-packages (from toiro[all_tokenizers]) (2.3.2)\n",
            "Requirement already satisfied: mecab-python3<=0.996.5; extra == \"all_tokenizers\" in /usr/local/lib/python3.6/dist-packages (from toiro[all_tokenizers]) (0.996.5)\n",
            "Requirement already satisfied: ginza; extra == \"all_tokenizers\" in /usr/local/lib/python3.6/dist-packages (from toiro[all_tokenizers]) (4.0.0)\n",
            "Requirement already satisfied: scikit-learn in /usr/local/lib/python3.6/dist-packages (from sklearn->toiro[all_tokenizers]) (0.22.2.post1)\n",
            "Requirement already satisfied: urllib3!=1.25.0,!=1.25.1,<1.26,>=1.21.1 in /usr/local/lib/python3.6/dist-packages (from requests->toiro[all_tokenizers]) (1.24.3)\n",
            "Requirement already satisfied: idna<3,>=2.5 in /usr/local/lib/python3.6/dist-packages (from requests->toiro[all_tokenizers]) (2.10)\n",
            "Requirement already satisfied: certifi>=2017.4.17 in /usr/local/lib/python3.6/dist-packages (from requests->toiro[all_tokenizers]) (2020.6.20)\n",
            "Requirement already satisfied: chardet<4,>=3.0.2 in /usr/local/lib/python3.6/dist-packages (from requests->toiro[all_tokenizers]) (3.0.4)\n",
            "Requirement already satisfied: python-dateutil>=2.6.1 in /usr/local/lib/python3.6/dist-packages (from pandas->toiro[all_tokenizers]) (2.8.1)\n",
            "Requirement already satisfied: pytz>=2017.2 in /usr/local/lib/python3.6/dist-packages (from pandas->toiro[all_tokenizers]) (2018.9)\n",
            "Requirement already satisfied: numpy>=1.13.3 in /usr/local/lib/python3.6/dist-packages (from pandas->toiro[all_tokenizers]) (1.18.5)\n",
            "Requirement already satisfied: six in /usr/local/lib/python3.6/dist-packages (from nagisa; extra == \"all_tokenizers\"->toiro[all_tokenizers]) (1.15.0)\n",
            "Requirement already satisfied: DyNet in /usr/local/lib/python3.6/dist-packages (from nagisa; extra == \"all_tokenizers\"->toiro[all_tokenizers]) (2.1)\n",
            "Requirement already satisfied: dartsclone~=0.9.0 in /usr/local/lib/python3.6/dist-packages (from sudachipy; extra == \"all_tokenizers\"->toiro[all_tokenizers]) (0.9.0)\n",
            "Requirement already satisfied: sortedcontainers~=2.1.0 in /usr/local/lib/python3.6/dist-packages (from sudachipy; extra == \"all_tokenizers\"->toiro[all_tokenizers]) (2.1.0)\n",
            "Requirement already satisfied: plac<1.2.0,>=0.9.6 in /usr/local/lib/python3.6/dist-packages (from spacy>=2.3.0; extra == \"all_tokenizers\"->toiro[all_tokenizers]) (1.1.3)\n",
            "Requirement already satisfied: cymem<2.1.0,>=2.0.2 in /usr/local/lib/python3.6/dist-packages (from spacy>=2.3.0; extra == \"all_tokenizers\"->toiro[all_tokenizers]) (2.0.3)\n",
            "Requirement already satisfied: thinc==7.4.1 in /usr/local/lib/python3.6/dist-packages (from spacy>=2.3.0; extra == \"all_tokenizers\"->toiro[all_tokenizers]) (7.4.1)\n",
            "Requirement already satisfied: wasabi<1.1.0,>=0.4.0 in /usr/local/lib/python3.6/dist-packages (from spacy>=2.3.0; extra == \"all_tokenizers\"->toiro[all_tokenizers]) (0.7.1)\n",
            "Requirement already satisfied: preshed<3.1.0,>=3.0.2 in /usr/local/lib/python3.6/dist-packages (from spacy>=2.3.0; extra == \"all_tokenizers\"->toiro[all_tokenizers]) (3.0.2)\n",
            "Requirement already satisfied: setuptools in /usr/local/lib/python3.6/dist-packages (from spacy>=2.3.0; extra == \"all_tokenizers\"->toiro[all_tokenizers]) (49.2.0)\n",
            "Requirement already satisfied: blis<0.5.0,>=0.4.0 in /usr/local/lib/python3.6/dist-packages (from spacy>=2.3.0; extra == \"all_tokenizers\"->toiro[all_tokenizers]) (0.4.1)\n",
            "Requirement already satisfied: srsly<1.1.0,>=1.0.2 in /usr/local/lib/python3.6/dist-packages (from spacy>=2.3.0; extra == \"all_tokenizers\"->toiro[all_tokenizers]) (1.0.2)\n",
            "Requirement already satisfied: murmurhash<1.1.0,>=0.28.0 in /usr/local/lib/python3.6/dist-packages (from spacy>=2.3.0; extra == \"all_tokenizers\"->toiro[all_tokenizers]) (1.0.2)\n",
            "Requirement already satisfied: catalogue<1.1.0,>=0.0.7 in /usr/local/lib/python3.6/dist-packages (from spacy>=2.3.0; extra == \"all_tokenizers\"->toiro[all_tokenizers]) (1.0.0)\n",
            "Requirement already satisfied: ja-ginza<4.1.0,>=4.0.0 in /usr/local/lib/python3.6/dist-packages (from ginza; extra == \"all_tokenizers\"->toiro[all_tokenizers]) (4.0.0)\n",
            "Requirement already satisfied: scipy>=0.17.0 in /usr/local/lib/python3.6/dist-packages (from scikit-learn->sklearn->toiro[all_tokenizers]) (1.4.1)\n",
            "Requirement already satisfied: joblib>=0.11 in /usr/local/lib/python3.6/dist-packages (from scikit-learn->sklearn->toiro[all_tokenizers]) (0.16.0)\n",
            "Requirement already satisfied: cython in /usr/local/lib/python3.6/dist-packages (from DyNet->nagisa; extra == \"all_tokenizers\"->toiro[all_tokenizers]) (0.29.21)\n",
            "Requirement already satisfied: importlib-metadata>=0.20; python_version < \"3.8\" in /usr/local/lib/python3.6/dist-packages (from catalogue<1.1.0,>=0.0.7->spacy>=2.3.0; extra == \"all_tokenizers\"->toiro[all_tokenizers]) (1.7.0)\n",
            "Requirement already satisfied: zipp>=0.5 in /usr/local/lib/python3.6/dist-packages (from importlib-metadata>=0.20; python_version < \"3.8\"->catalogue<1.1.0,>=0.0.7->spacy>=2.3.0; extra == \"all_tokenizers\"->toiro[all_tokenizers]) (3.1.0)\n"
          ],
          "name": "stdout"
        }
      ]
    },
    {
      "cell_type": "markdown",
      "metadata": {
        "id": "zOLGsjhpmAgA",
        "colab_type": "text"
      },
      "source": [
        "実装方法"
      ]
    },
    {
      "cell_type": "code",
      "metadata": {
        "id": "rrspNXK1mCC2",
        "colab_type": "code",
        "colab": {
          "base_uri": "https://localhost:8080/",
          "height": 0
        },
        "outputId": "1d73aac4-fe9e-43a1-f0a0-fddd80dbf33d"
      },
      "source": [
        "from toiro import tokenizers\n",
        "from toiro import datadownloader\n",
        "\n",
        "corpus = 'livedoor_news_corpus'\n",
        "datadownloader.download_corpus(corpus)\n",
        "train_df, dev_df, test_df = datadownloader.load_corpus(corpus)\n",
        "texts = train_df[1]\n",
        "\n",
        "report = tokenizers.compare(texts)\n",
        "print(report)"
      ],
      "execution_count": 20,
      "outputs": [
        {
          "output_type": "stream",
          "text": [
            "PyTorch version 1.6.0+cu101 available.\n",
            "TensorFlow version 2.3.0 available.\n",
            "Downloading ldcc-20140209.tar.gz from https://www.rondhuit.com/download/ldcc-20140209.tar.gz: 31.6MB [00:02, 14.7MB/s]\n",
            "100%|██████████| 5900/5900 [00:00<00:00, 39099.08it/s]\n",
            "  0%|          | 0/5900 [00:00<?, ?it/s]"
          ],
          "name": "stderr"
        },
        {
          "output_type": "stream",
          "text": [
            "[1/7] Tokenizer: mecab-python3\n",
            "[2/7] Tokenizer: janome\n"
          ],
          "name": "stdout"
        },
        {
          "output_type": "stream",
          "text": [
            "100%|██████████| 5900/5900 [00:11<00:00, 522.41it/s]\n",
            "  0%|          | 27/5900 [00:00<00:22, 265.80it/s]"
          ],
          "name": "stderr"
        },
        {
          "output_type": "stream",
          "text": [
            "[3/7] Tokenizer: nagisa\n"
          ],
          "name": "stdout"
        },
        {
          "output_type": "stream",
          "text": [
            "100%|██████████| 5900/5900 [00:22<00:00, 267.07it/s]\n",
            "  1%|          | 58/5900 [00:00<00:10, 579.81it/s]"
          ],
          "name": "stderr"
        },
        {
          "output_type": "stream",
          "text": [
            "[4/7] Tokenizer: sudachipy\n"
          ],
          "name": "stdout"
        },
        {
          "output_type": "stream",
          "text": [
            "100%|██████████| 5900/5900 [00:12<00:00, 473.15it/s]\n",
            "  1%|          | 39/5900 [00:00<00:15, 383.31it/s]"
          ],
          "name": "stderr"
        },
        {
          "output_type": "stream",
          "text": [
            "[5/7] Tokenizer: spacy\n"
          ],
          "name": "stdout"
        },
        {
          "output_type": "stream",
          "text": [
            "100%|██████████| 5900/5900 [00:15<00:00, 374.59it/s]\n",
            "  1%|          | 39/5900 [00:00<00:15, 384.96it/s]"
          ],
          "name": "stderr"
        },
        {
          "output_type": "stream",
          "text": [
            "[6/7] Tokenizer: ginza\n"
          ],
          "name": "stdout"
        },
        {
          "output_type": "stream",
          "text": [
            "100%|██████████| 5900/5900 [00:16<00:00, 360.08it/s]\n",
            "100%|██████████| 5900/5900 [00:00<00:00, 56677.97it/s]"
          ],
          "name": "stderr"
        },
        {
          "output_type": "stream",
          "text": [
            "[7/7] Tokenizer: sentencepiece\n",
            "{'execution_environment': {'python_version': '3.6.9.final.0 (64 bit)', 'arch': 'X86_64', 'brand_raw': 'Intel(R) Xeon(R) CPU @ 2.20GHz', 'count': 2}, 'data': {'number_of_sentences': 5900, 'average_length': 37.54610169491525}, 'mecab-python3': {'elapsed_time': 0.15147662162780762}, 'janome': {'elapsed_time': 11.294330358505249}, 'nagisa': {'elapsed_time': 22.091914892196655}, 'sudachipy': {'elapsed_time': 12.469998598098755}, 'spacy': {'elapsed_time': 15.751247644424438}, 'ginza': {'elapsed_time': 16.386006832122803}, 'sentencepiece': {'elapsed_time': 0.10578584671020508}}\n"
          ],
          "name": "stdout"
        },
        {
          "output_type": "stream",
          "text": [
            "\n"
          ],
          "name": "stderr"
        }
      ]
    },
    {
      "cell_type": "markdown",
      "metadata": {
        "id": "SzaB4Z0TmsEn",
        "colab_type": "text"
      },
      "source": [
        "# 2. 映画レビューを利用したテキスト分類モデルの実装方法"
      ]
    },
    {
      "cell_type": "markdown",
      "metadata": {
        "id": "3FzxDsJ4nBjz",
        "colab_type": "text"
      },
      "source": [
        "## 検証用データセット：Yahoo Movie Reviews"
      ]
    },
    {
      "cell_type": "markdown",
      "metadata": {
        "id": "1dqc3ij5nJil",
        "colab_type": "text"
      },
      "source": [
        "ライブラリのインストール"
      ]
    },
    {
      "cell_type": "code",
      "metadata": {
        "id": "XJ1bqriVnNC3",
        "colab_type": "code",
        "colab": {
          "base_uri": "https://localhost:8080/",
          "height": 0
        },
        "outputId": "b82556e8-da61-46bb-e0b4-05b444812f96"
      },
      "source": [
        "!pip install toiro"
      ],
      "execution_count": 21,
      "outputs": [
        {
          "output_type": "stream",
          "text": [
            "Requirement already satisfied: toiro in /usr/local/lib/python3.6/dist-packages (0.0.6)\n",
            "Requirement already satisfied: tqdm in /usr/local/lib/python3.6/dist-packages (from toiro) (4.41.1)\n",
            "Requirement already satisfied: py-cpuinfo in /usr/local/lib/python3.6/dist-packages (from toiro) (7.0.0)\n",
            "Requirement already satisfied: requests in /usr/local/lib/python3.6/dist-packages (from toiro) (2.23.0)\n",
            "Requirement already satisfied: pandas in /usr/local/lib/python3.6/dist-packages (from toiro) (1.0.5)\n",
            "Requirement already satisfied: janome in /usr/local/lib/python3.6/dist-packages (from toiro) (0.4.0)\n",
            "Requirement already satisfied: sklearn in /usr/local/lib/python3.6/dist-packages (from toiro) (0.0)\n",
            "Requirement already satisfied: idna<3,>=2.5 in /usr/local/lib/python3.6/dist-packages (from requests->toiro) (2.10)\n",
            "Requirement already satisfied: chardet<4,>=3.0.2 in /usr/local/lib/python3.6/dist-packages (from requests->toiro) (3.0.4)\n",
            "Requirement already satisfied: urllib3!=1.25.0,!=1.25.1,<1.26,>=1.21.1 in /usr/local/lib/python3.6/dist-packages (from requests->toiro) (1.24.3)\n",
            "Requirement already satisfied: certifi>=2017.4.17 in /usr/local/lib/python3.6/dist-packages (from requests->toiro) (2020.6.20)\n",
            "Requirement already satisfied: pytz>=2017.2 in /usr/local/lib/python3.6/dist-packages (from pandas->toiro) (2018.9)\n",
            "Requirement already satisfied: numpy>=1.13.3 in /usr/local/lib/python3.6/dist-packages (from pandas->toiro) (1.18.5)\n",
            "Requirement already satisfied: python-dateutil>=2.6.1 in /usr/local/lib/python3.6/dist-packages (from pandas->toiro) (2.8.1)\n",
            "Requirement already satisfied: scikit-learn in /usr/local/lib/python3.6/dist-packages (from sklearn->toiro) (0.22.2.post1)\n",
            "Requirement already satisfied: six>=1.5 in /usr/local/lib/python3.6/dist-packages (from python-dateutil>=2.6.1->pandas->toiro) (1.15.0)\n",
            "Requirement already satisfied: joblib>=0.11 in /usr/local/lib/python3.6/dist-packages (from scikit-learn->sklearn->toiro) (0.16.0)\n",
            "Requirement already satisfied: scipy>=0.17.0 in /usr/local/lib/python3.6/dist-packages (from scikit-learn->sklearn->toiro) (1.4.1)\n"
          ],
          "name": "stdout"
        }
      ]
    },
    {
      "cell_type": "markdown",
      "metadata": {
        "id": "iBHhD91hnR1Y",
        "colab_type": "text"
      },
      "source": [
        "コーパスのダウンロード"
      ]
    },
    {
      "cell_type": "code",
      "metadata": {
        "id": "SDwTooOLnTld",
        "colab_type": "code",
        "colab": {
          "base_uri": "https://localhost:8080/",
          "height": 0
        },
        "outputId": "0564f864-3900-4571-a22f-9c7508c2dcaa"
      },
      "source": [
        "from toiro import datadownloader\n",
        "corpus = 'yahoo_movie_reviews'\n",
        "datadownloader.download_corpus(corpus)\n",
        "train_df, dev_df, test_df = datadownloader.load_corpus(corpus, n=12500)\n",
        "print(train_df)"
      ],
      "execution_count": 22,
      "outputs": [
        {
          "output_type": "stream",
          "text": [
            "Downloading yahoo-movie-reviews.json.tar.gz from https://media.githubusercontent.com/media/dennybritz/sentiment-analysis/master/data/yahoo-movie-reviews.json.tar.gz: 100%|██████████| 37.6M/37.6M [00:00<00:00, 79.6MB/s]\n"
          ],
          "name": "stderr"
        },
        {
          "output_type": "stream",
          "text": [
            "      0                                                  1\n",
            "0     0  笠原郁(榮倉奈々)は、高校時代に助けてくれた図書隊員の“王子様”に憧れて入隊する。顔を憶えて...\n",
            "1     0  原作を読んでいないので、映画を見た批評です。出会い系サイトでの出会い現代社会ではそういったネ...\n",
            "2     0                             CGは相当すごいが筋や演出は期待はずれかな。\n",
            "3     0  「ギャグを散りばめるのはいいけど、一本筋くらい通せよ。真面目なとこは真面目に、笑わせるとこは...\n",
            "4     0  一体、この映画に感動し涙を流した観客は、この映画の何処に感動したのだろうか？史実としての大東...\n",
            "...  ..                                                ...\n",
            "9995  1  今となればちょっと鮮度は落ちたけど、話題になったので一度は見ておきたいなーという方が多いと思...\n",
            "9996  1  前作の「京都大火編」が助走といえるほど、本作は最初から最後までアクションが満載です。原作を全...\n",
            "9997  0           腐れ反日思想の腐った駄作。恥を知れ！クズのボケが。ゴキブリがウヨウヨ気持ち悪い。\n",
            "9998  1  人の集中力は、90分しか持たないと聞いたことがある。騙し騙しでがんばっても、せいぜい2時間が...\n",
            "9999  1  これまで観た映画の中で最も恐ろしい映画だ。ホラー映画（嫌いだからほとんど観たことはない）とは...\n",
            "\n",
            "[10000 rows x 2 columns]\n"
          ],
          "name": "stdout"
        }
      ]
    },
    {
      "cell_type": "markdown",
      "metadata": {
        "id": "k3miAgq3nuG3",
        "colab_type": "text"
      },
      "source": [
        "## [scikit-learn](https://github.com/scikit-learn/scikit-learn) の利用方法\n"
      ]
    },
    {
      "cell_type": "markdown",
      "metadata": {
        "id": "02r5U_JVoNDr",
        "colab_type": "text"
      },
      "source": [
        "インストール方法"
      ]
    },
    {
      "cell_type": "code",
      "metadata": {
        "id": "N3gcYAvfoLQJ",
        "colab_type": "code",
        "colab": {
          "base_uri": "https://localhost:8080/",
          "height": 85
        },
        "outputId": "115900e7-c00c-4309-94d3-a3e7e40caae3"
      },
      "source": [
        "!pip install scikit-learn"
      ],
      "execution_count": 23,
      "outputs": [
        {
          "output_type": "stream",
          "text": [
            "Requirement already satisfied: scikit-learn in /usr/local/lib/python3.6/dist-packages (0.22.2.post1)\n",
            "Requirement already satisfied: scipy>=0.17.0 in /usr/local/lib/python3.6/dist-packages (from scikit-learn) (1.4.1)\n",
            "Requirement already satisfied: numpy>=1.11.0 in /usr/local/lib/python3.6/dist-packages (from scikit-learn) (1.18.5)\n",
            "Requirement already satisfied: joblib>=0.11 in /usr/local/lib/python3.6/dist-packages (from scikit-learn) (0.16.0)\n"
          ],
          "name": "stdout"
        }
      ]
    },
    {
      "cell_type": "markdown",
      "metadata": {
        "id": "Zs2AgcyBoujc",
        "colab_type": "text"
      },
      "source": [
        "コーパスダウンロード用ライブラリのインストール"
      ]
    },
    {
      "cell_type": "code",
      "metadata": {
        "id": "sCXaDfzDox0T",
        "colab_type": "code",
        "colab": {
          "base_uri": "https://localhost:8080/",
          "height": 323
        },
        "outputId": "fa2029ed-b8f4-4100-8c99-3474afd89c07"
      },
      "source": [
        "!pip install toiro"
      ],
      "execution_count": 24,
      "outputs": [
        {
          "output_type": "stream",
          "text": [
            "Requirement already satisfied: toiro in /usr/local/lib/python3.6/dist-packages (0.0.6)\n",
            "Requirement already satisfied: py-cpuinfo in /usr/local/lib/python3.6/dist-packages (from toiro) (7.0.0)\n",
            "Requirement already satisfied: pandas in /usr/local/lib/python3.6/dist-packages (from toiro) (1.0.5)\n",
            "Requirement already satisfied: tqdm in /usr/local/lib/python3.6/dist-packages (from toiro) (4.41.1)\n",
            "Requirement already satisfied: sklearn in /usr/local/lib/python3.6/dist-packages (from toiro) (0.0)\n",
            "Requirement already satisfied: requests in /usr/local/lib/python3.6/dist-packages (from toiro) (2.23.0)\n",
            "Requirement already satisfied: janome in /usr/local/lib/python3.6/dist-packages (from toiro) (0.4.0)\n",
            "Requirement already satisfied: python-dateutil>=2.6.1 in /usr/local/lib/python3.6/dist-packages (from pandas->toiro) (2.8.1)\n",
            "Requirement already satisfied: numpy>=1.13.3 in /usr/local/lib/python3.6/dist-packages (from pandas->toiro) (1.18.5)\n",
            "Requirement already satisfied: pytz>=2017.2 in /usr/local/lib/python3.6/dist-packages (from pandas->toiro) (2018.9)\n",
            "Requirement already satisfied: scikit-learn in /usr/local/lib/python3.6/dist-packages (from sklearn->toiro) (0.22.2.post1)\n",
            "Requirement already satisfied: urllib3!=1.25.0,!=1.25.1,<1.26,>=1.21.1 in /usr/local/lib/python3.6/dist-packages (from requests->toiro) (1.24.3)\n",
            "Requirement already satisfied: certifi>=2017.4.17 in /usr/local/lib/python3.6/dist-packages (from requests->toiro) (2020.6.20)\n",
            "Requirement already satisfied: chardet<4,>=3.0.2 in /usr/local/lib/python3.6/dist-packages (from requests->toiro) (3.0.4)\n",
            "Requirement already satisfied: idna<3,>=2.5 in /usr/local/lib/python3.6/dist-packages (from requests->toiro) (2.10)\n",
            "Requirement already satisfied: six>=1.5 in /usr/local/lib/python3.6/dist-packages (from python-dateutil>=2.6.1->pandas->toiro) (1.15.0)\n",
            "Requirement already satisfied: scipy>=0.17.0 in /usr/local/lib/python3.6/dist-packages (from scikit-learn->sklearn->toiro) (1.4.1)\n",
            "Requirement already satisfied: joblib>=0.11 in /usr/local/lib/python3.6/dist-packages (from scikit-learn->sklearn->toiro) (0.16.0)\n"
          ],
          "name": "stdout"
        }
      ]
    },
    {
      "cell_type": "markdown",
      "metadata": {
        "id": "xdJmYlkloZ4i",
        "colab_type": "text"
      },
      "source": [
        "実装方法"
      ]
    },
    {
      "cell_type": "code",
      "metadata": {
        "id": "U7ef4Oawoc6J",
        "colab_type": "code",
        "colab": {
          "base_uri": "https://localhost:8080/",
          "height": 187
        },
        "outputId": "df8373aa-3d20-4442-9cf7-da5865b96f21"
      },
      "source": [
        "from toiro import tokenizers\n",
        "from toiro import datadownloader\n",
        "from sklearn.feature_extraction.text import TfidfVectorizer\n",
        "\n",
        "corpus = 'yahoo_movie_reviews'\n",
        "train_df, dev_df, test_df = datadownloader.load_corpus(corpus, n=12500)\n",
        "tokenize_janome = tokenizers.tokenize_janome\n",
        "tfidf_extracter = TfidfVectorizer(ngram_range=(1, 2), tokenizer=tokenize_janome, max_df=0.9, min_df=3, sublinear_tf=1)\n",
        "train_texts = train_df[1]\n",
        "train_X = tfidf_extracter.fit_transform(train_texts)\n",
        "\n",
        "text = \"とても良い作品でした。\"\n",
        "x = tfidf_extracter.transform([text])\n",
        "print(x.toarray())\n",
        "print(x)"
      ],
      "execution_count": 25,
      "outputs": [
        {
          "output_type": "stream",
          "text": [
            "[[0. 0. 0. ... 0. 0. 0.]]\n",
            "  (0, 82076)\t0.514308329463325\n",
            "  (0, 82033)\t0.28160641839600237\n",
            "  (0, 55430)\t0.38687226972136557\n",
            "  (0, 55412)\t0.19207036483503126\n",
            "  (0, 26101)\t0.5550955457160239\n",
            "  (0, 26030)\t0.28642855817395746\n",
            "  (0, 23958)\t0.1805941673948253\n",
            "  (0, 23957)\t0.18013775937766935\n",
            "  (0, 18920)\t0.11994723745704498\n"
          ],
          "name": "stdout"
        }
      ]
    },
    {
      "cell_type": "markdown",
      "metadata": {
        "id": "UAIZcfDdo_BD",
        "colab_type": "text"
      },
      "source": [
        "## [toiro](https://github.com/taishi-i/toiro) によるテキスト文書モデル（SVM）の学習"
      ]
    },
    {
      "cell_type": "markdown",
      "metadata": {
        "id": "4wysy91DpJ00",
        "colab_type": "text"
      },
      "source": [
        "インストール方法"
      ]
    },
    {
      "cell_type": "code",
      "metadata": {
        "id": "byZSDE8JpQu0",
        "colab_type": "code",
        "colab": {
          "base_uri": "https://localhost:8080/",
          "height": 0
        },
        "outputId": "9ca135b9-9723-41ca-9de6-c46c0b845082"
      },
      "source": [
        "!pip install toiro\n",
        "!pip install mecab-python3==0.996.5"
      ],
      "execution_count": 26,
      "outputs": [
        {
          "output_type": "stream",
          "text": [
            "Requirement already satisfied: toiro in /usr/local/lib/python3.6/dist-packages (0.0.6)\n",
            "Requirement already satisfied: requests in /usr/local/lib/python3.6/dist-packages (from toiro) (2.23.0)\n",
            "Requirement already satisfied: py-cpuinfo in /usr/local/lib/python3.6/dist-packages (from toiro) (7.0.0)\n",
            "Requirement already satisfied: tqdm in /usr/local/lib/python3.6/dist-packages (from toiro) (4.41.1)\n",
            "Requirement already satisfied: pandas in /usr/local/lib/python3.6/dist-packages (from toiro) (1.0.5)\n",
            "Requirement already satisfied: sklearn in /usr/local/lib/python3.6/dist-packages (from toiro) (0.0)\n",
            "Requirement already satisfied: janome in /usr/local/lib/python3.6/dist-packages (from toiro) (0.4.0)\n",
            "Requirement already satisfied: certifi>=2017.4.17 in /usr/local/lib/python3.6/dist-packages (from requests->toiro) (2020.6.20)\n",
            "Requirement already satisfied: idna<3,>=2.5 in /usr/local/lib/python3.6/dist-packages (from requests->toiro) (2.10)\n",
            "Requirement already satisfied: urllib3!=1.25.0,!=1.25.1,<1.26,>=1.21.1 in /usr/local/lib/python3.6/dist-packages (from requests->toiro) (1.24.3)\n",
            "Requirement already satisfied: chardet<4,>=3.0.2 in /usr/local/lib/python3.6/dist-packages (from requests->toiro) (3.0.4)\n",
            "Requirement already satisfied: python-dateutil>=2.6.1 in /usr/local/lib/python3.6/dist-packages (from pandas->toiro) (2.8.1)\n",
            "Requirement already satisfied: numpy>=1.13.3 in /usr/local/lib/python3.6/dist-packages (from pandas->toiro) (1.18.5)\n",
            "Requirement already satisfied: pytz>=2017.2 in /usr/local/lib/python3.6/dist-packages (from pandas->toiro) (2018.9)\n",
            "Requirement already satisfied: scikit-learn in /usr/local/lib/python3.6/dist-packages (from sklearn->toiro) (0.22.2.post1)\n",
            "Requirement already satisfied: six>=1.5 in /usr/local/lib/python3.6/dist-packages (from python-dateutil>=2.6.1->pandas->toiro) (1.15.0)\n",
            "Requirement already satisfied: scipy>=0.17.0 in /usr/local/lib/python3.6/dist-packages (from scikit-learn->sklearn->toiro) (1.4.1)\n",
            "Requirement already satisfied: joblib>=0.11 in /usr/local/lib/python3.6/dist-packages (from scikit-learn->sklearn->toiro) (0.16.0)\n",
            "Requirement already satisfied: mecab-python3==0.996.5 in /usr/local/lib/python3.6/dist-packages (0.996.5)\n"
          ],
          "name": "stdout"
        }
      ]
    },
    {
      "cell_type": "markdown",
      "metadata": {
        "id": "X7XN48tspJkL",
        "colab_type": "text"
      },
      "source": [
        "実装方法"
      ]
    },
    {
      "cell_type": "code",
      "metadata": {
        "id": "tLydXlBnpGRp",
        "colab_type": "code",
        "colab": {
          "base_uri": "https://localhost:8080/",
          "height": 0
        },
        "outputId": "ec2b9f16-bf73-4222-98a5-6d468e70a836"
      },
      "source": [
        "from toiro import classifiers\n",
        "from toiro import datadownloader\n",
        "\n",
        "corpus = 'yahoo_movie_reviews'\n",
        "train_df, dev_df, test_df = datadownloader.load_corpus(corpus, n=12500)\n",
        "model = classifiers.SVMClassificationModel(tokenizer='mecab-python3')                                                                                                                                   \n",
        "model.fit(train_df, dev_df)\n",
        "\n",
        "text = \"とても良い作品でした。\"                                                                                            \n",
        "pred_y = model.predict(text)\n",
        "print(pred_y)"
      ],
      "execution_count": 27,
      "outputs": [
        {
          "output_type": "stream",
          "text": [
            "1\n"
          ],
          "name": "stdout"
        }
      ]
    },
    {
      "cell_type": "markdown",
      "metadata": {
        "id": "axBuyT4hpjg8",
        "colab_type": "text"
      },
      "source": [
        "## [Transformers](https://github.com/huggingface/transformers) の利用方法"
      ]
    },
    {
      "cell_type": "markdown",
      "metadata": {
        "id": "FH2I5BAHpuCm",
        "colab_type": "text"
      },
      "source": [
        "インストール方法"
      ]
    },
    {
      "cell_type": "code",
      "metadata": {
        "id": "UyM1Cx7OpvnX",
        "colab_type": "code",
        "colab": {
          "base_uri": "https://localhost:8080/",
          "height": 0
        },
        "outputId": "521a9e36-15b9-4c0f-8664-6e7608dd1a25"
      },
      "source": [
        "!pip install torch transformers"
      ],
      "execution_count": 28,
      "outputs": [
        {
          "output_type": "stream",
          "text": [
            "Requirement already satisfied: torch in /usr/local/lib/python3.6/dist-packages (1.6.0+cu101)\n",
            "Requirement already satisfied: transformers in /usr/local/lib/python3.6/dist-packages (3.0.2)\n",
            "Requirement already satisfied: numpy in /usr/local/lib/python3.6/dist-packages (from torch) (1.18.5)\n",
            "Requirement already satisfied: future in /usr/local/lib/python3.6/dist-packages (from torch) (0.16.0)\n",
            "Requirement already satisfied: sentencepiece!=0.1.92 in /usr/local/lib/python3.6/dist-packages (from transformers) (0.1.91)\n",
            "Requirement already satisfied: regex!=2019.12.17 in /usr/local/lib/python3.6/dist-packages (from transformers) (2019.12.20)\n",
            "Requirement already satisfied: requests in /usr/local/lib/python3.6/dist-packages (from transformers) (2.23.0)\n",
            "Requirement already satisfied: dataclasses; python_version < \"3.7\" in /usr/local/lib/python3.6/dist-packages (from transformers) (0.7)\n",
            "Requirement already satisfied: filelock in /usr/local/lib/python3.6/dist-packages (from transformers) (3.0.12)\n",
            "Requirement already satisfied: tqdm>=4.27 in /usr/local/lib/python3.6/dist-packages (from transformers) (4.41.1)\n",
            "Requirement already satisfied: sacremoses in /usr/local/lib/python3.6/dist-packages (from transformers) (0.0.43)\n",
            "Requirement already satisfied: packaging in /usr/local/lib/python3.6/dist-packages (from transformers) (20.4)\n",
            "Requirement already satisfied: tokenizers==0.8.1.rc1 in /usr/local/lib/python3.6/dist-packages (from transformers) (0.8.1rc1)\n",
            "Requirement already satisfied: urllib3!=1.25.0,!=1.25.1,<1.26,>=1.21.1 in /usr/local/lib/python3.6/dist-packages (from requests->transformers) (1.24.3)\n",
            "Requirement already satisfied: certifi>=2017.4.17 in /usr/local/lib/python3.6/dist-packages (from requests->transformers) (2020.6.20)\n",
            "Requirement already satisfied: chardet<4,>=3.0.2 in /usr/local/lib/python3.6/dist-packages (from requests->transformers) (3.0.4)\n",
            "Requirement already satisfied: idna<3,>=2.5 in /usr/local/lib/python3.6/dist-packages (from requests->transformers) (2.10)\n",
            "Requirement already satisfied: click in /usr/local/lib/python3.6/dist-packages (from sacremoses->transformers) (7.1.2)\n",
            "Requirement already satisfied: six in /usr/local/lib/python3.6/dist-packages (from sacremoses->transformers) (1.15.0)\n",
            "Requirement already satisfied: joblib in /usr/local/lib/python3.6/dist-packages (from sacremoses->transformers) (0.16.0)\n",
            "Requirement already satisfied: pyparsing>=2.0.2 in /usr/local/lib/python3.6/dist-packages (from packaging->transformers) (2.4.7)\n"
          ],
          "name": "stdout"
        }
      ]
    },
    {
      "cell_type": "markdown",
      "metadata": {
        "id": "0-Jm2kfWp3ey",
        "colab_type": "text"
      },
      "source": [
        "実装方法"
      ]
    },
    {
      "cell_type": "code",
      "metadata": {
        "id": "GetrLxwDp5VZ",
        "colab_type": "code",
        "colab": {
          "base_uri": "https://localhost:8080/",
          "height": 0,
          "referenced_widgets": [
            "14eb02a2ed8e4902bd8b508358549438",
            "c31ffd0252f146fbbcdfaa27cdd1b4a7",
            "89a52bc45c114ccbaf4c9bcb75cc7408",
            "c4c80c828462470f8688a0093454c086",
            "6e2cc447e0264fcab4af9c19dd900cb8",
            "0f26b7581f0b43e597aaa678f64e497e",
            "e476630c9c2148408459c5ea8ab3afac",
            "4d5ae6e9b6334b869e08d9fc631a0679",
            "ff8c7d2efe5046b998329517e9a948f2",
            "cf7860e732344bdf8d1c08ff8c95447c",
            "f12b3fe4d2bd4f81903ac85a014b94f1",
            "d9ee034d948046538a29d513f6b7388c",
            "e0a500067c714b89b9098e27935ee896",
            "725091f418604226958b966a2f31dac6",
            "c7d22f9b79f04da1a49583c62d21b592",
            "4e0aeb5018d54dd78703f19a6e1397f6",
            "d698e0788720451daa15193330428380",
            "4f9fc2f51ed4474d8b092a5ebb047fae",
            "b65005fcc561406bb778496114a328d2",
            "24ea53161970405e815c8f10891a2752",
            "d57bfa4760354b2296c14dfe448debd5",
            "8fb128e533474967bc72301422cd8c80",
            "e5e7ba4c95e246b380ff0846647b9ac9",
            "72019bfdf2214f8da28c694d4e6b9017"
          ]
        },
        "outputId": "d32ae271-c271-4039-edff-a9ab88be6b22"
      },
      "source": [
        "import torch                                                                    \n",
        "\n",
        "from transformers.tokenization_bert_japanese import BertJapaneseTokenizer          \n",
        "from transformers import BertModel                                                                                                                    \n",
        "\n",
        "model_name = \"cl-tohoku/bert-base-japanese-whole-word-masking\"                  \n",
        "tokenizer = BertJapaneseTokenizer.from_pretrained(model_name)                   \n",
        "model = BertModel.from_pretrained(model_name)                                                        \n",
        "input_batch = [\"とても良い作品でした。\"]                                                                                                                      \n",
        "encoded_data = tokenizer.batch_encode_plus(input_batch, pad_to_max_length=True, add_special_tokens=True)                                                                \n",
        "input_ids = torch.tensor(encoded_data[\"input_ids\"])                             \n",
        "outputs = model(input_ids)                                                      \n",
        "last_hidden_states = outputs[0]                                                 \n",
        "sentence_vec = last_hidden_states[:, 0, :]\n",
        "print(sentence_vec)"
      ],
      "execution_count": 29,
      "outputs": [
        {
          "output_type": "stream",
          "text": [
            "Lock 139765597706504 acquired on /root/.cache/torch/transformers/72ee6ecba54b20bba483760db4f23b836f27a6afda54ede38c488e8514bb3705.5fac9da4d8565963664ed9744688dc7008ff5ec4045f604e9515896f9fe46d9c.lock\n",
            "https://s3.amazonaws.com/models.huggingface.co/bert/cl-tohoku/bert-base-japanese-whole-word-masking/vocab.txt not found in cache or force_download set to True, downloading to /root/.cache/torch/transformers/tmpj2x902wb\n"
          ],
          "name": "stderr"
        },
        {
          "output_type": "display_data",
          "data": {
            "application/vnd.jupyter.widget-view+json": {
              "model_id": "14eb02a2ed8e4902bd8b508358549438",
              "version_minor": 0,
              "version_major": 2
            },
            "text/plain": [
              "HBox(children=(FloatProgress(value=0.0, description='Downloading', max=257706.0, style=ProgressStyle(descripti…"
            ]
          },
          "metadata": {
            "tags": []
          }
        },
        {
          "output_type": "stream",
          "text": [
            "storing https://s3.amazonaws.com/models.huggingface.co/bert/cl-tohoku/bert-base-japanese-whole-word-masking/vocab.txt in cache at /root/.cache/torch/transformers/72ee6ecba54b20bba483760db4f23b836f27a6afda54ede38c488e8514bb3705.5fac9da4d8565963664ed9744688dc7008ff5ec4045f604e9515896f9fe46d9c\n",
            "creating metadata file for /root/.cache/torch/transformers/72ee6ecba54b20bba483760db4f23b836f27a6afda54ede38c488e8514bb3705.5fac9da4d8565963664ed9744688dc7008ff5ec4045f604e9515896f9fe46d9c\n",
            "Lock 139765597706504 released on /root/.cache/torch/transformers/72ee6ecba54b20bba483760db4f23b836f27a6afda54ede38c488e8514bb3705.5fac9da4d8565963664ed9744688dc7008ff5ec4045f604e9515896f9fe46d9c.lock\n",
            "loading file https://s3.amazonaws.com/models.huggingface.co/bert/cl-tohoku/bert-base-japanese-whole-word-masking/vocab.txt from cache at /root/.cache/torch/transformers/72ee6ecba54b20bba483760db4f23b836f27a6afda54ede38c488e8514bb3705.5fac9da4d8565963664ed9744688dc7008ff5ec4045f604e9515896f9fe46d9c\n"
          ],
          "name": "stderr"
        },
        {
          "output_type": "stream",
          "text": [
            "\n"
          ],
          "name": "stdout"
        },
        {
          "output_type": "stream",
          "text": [
            "Lock 139765597707288 acquired on /root/.cache/torch/transformers/c96f5e731b9f4dc2e8263336947ec74b6f93917c0b9db6e9cf974a8a945dd313.48bc8d0b377948cc990335b8cccbcce084039c1b792bea3d0da671abfc6a3fe5.lock\n",
            "https://s3.amazonaws.com/models.huggingface.co/bert/cl-tohoku/bert-base-japanese-whole-word-masking/config.json not found in cache or force_download set to True, downloading to /root/.cache/torch/transformers/tmpzcagfo4z\n"
          ],
          "name": "stderr"
        },
        {
          "output_type": "display_data",
          "data": {
            "application/vnd.jupyter.widget-view+json": {
              "model_id": "ff8c7d2efe5046b998329517e9a948f2",
              "version_minor": 0,
              "version_major": 2
            },
            "text/plain": [
              "HBox(children=(FloatProgress(value=0.0, description='Downloading', max=433.0, style=ProgressStyle(description_…"
            ]
          },
          "metadata": {
            "tags": []
          }
        },
        {
          "output_type": "stream",
          "text": [
            "storing https://s3.amazonaws.com/models.huggingface.co/bert/cl-tohoku/bert-base-japanese-whole-word-masking/config.json in cache at /root/.cache/torch/transformers/c96f5e731b9f4dc2e8263336947ec74b6f93917c0b9db6e9cf974a8a945dd313.48bc8d0b377948cc990335b8cccbcce084039c1b792bea3d0da671abfc6a3fe5\n",
            "creating metadata file for /root/.cache/torch/transformers/c96f5e731b9f4dc2e8263336947ec74b6f93917c0b9db6e9cf974a8a945dd313.48bc8d0b377948cc990335b8cccbcce084039c1b792bea3d0da671abfc6a3fe5\n",
            "Lock 139765597707288 released on /root/.cache/torch/transformers/c96f5e731b9f4dc2e8263336947ec74b6f93917c0b9db6e9cf974a8a945dd313.48bc8d0b377948cc990335b8cccbcce084039c1b792bea3d0da671abfc6a3fe5.lock\n",
            "loading configuration file https://s3.amazonaws.com/models.huggingface.co/bert/cl-tohoku/bert-base-japanese-whole-word-masking/config.json from cache at /root/.cache/torch/transformers/c96f5e731b9f4dc2e8263336947ec74b6f93917c0b9db6e9cf974a8a945dd313.48bc8d0b377948cc990335b8cccbcce084039c1b792bea3d0da671abfc6a3fe5\n",
            "Model config BertConfig {\n",
            "  \"architectures\": [\n",
            "    \"BertForMaskedLM\"\n",
            "  ],\n",
            "  \"attention_probs_dropout_prob\": 0.1,\n",
            "  \"gradient_checkpointing\": false,\n",
            "  \"hidden_act\": \"gelu\",\n",
            "  \"hidden_dropout_prob\": 0.1,\n",
            "  \"hidden_size\": 768,\n",
            "  \"initializer_range\": 0.02,\n",
            "  \"intermediate_size\": 3072,\n",
            "  \"layer_norm_eps\": 1e-12,\n",
            "  \"max_position_embeddings\": 512,\n",
            "  \"model_type\": \"bert\",\n",
            "  \"num_attention_heads\": 12,\n",
            "  \"num_hidden_layers\": 12,\n",
            "  \"pad_token_id\": 0,\n",
            "  \"type_vocab_size\": 2,\n",
            "  \"vocab_size\": 32000\n",
            "}\n",
            "\n"
          ],
          "name": "stderr"
        },
        {
          "output_type": "stream",
          "text": [
            "\n"
          ],
          "name": "stdout"
        },
        {
          "output_type": "stream",
          "text": [
            "Lock 139765597707904 acquired on /root/.cache/torch/transformers/4801b91bfd2de0a4478e02e4a2404e982bd3d6773bc2935eea468f9c644fb593.fbee186ac33c194356f35147fe415d5392623f762cc279e97cecc31b90238cb3.lock\n",
            "https://cdn.huggingface.co/cl-tohoku/bert-base-japanese-whole-word-masking/pytorch_model.bin not found in cache or force_download set to True, downloading to /root/.cache/torch/transformers/tmpyk8zhb6m\n"
          ],
          "name": "stderr"
        },
        {
          "output_type": "display_data",
          "data": {
            "application/vnd.jupyter.widget-view+json": {
              "model_id": "d698e0788720451daa15193330428380",
              "version_minor": 0,
              "version_major": 2
            },
            "text/plain": [
              "HBox(children=(FloatProgress(value=0.0, description='Downloading', max=445021143.0, style=ProgressStyle(descri…"
            ]
          },
          "metadata": {
            "tags": []
          }
        },
        {
          "output_type": "stream",
          "text": [
            "storing https://cdn.huggingface.co/cl-tohoku/bert-base-japanese-whole-word-masking/pytorch_model.bin in cache at /root/.cache/torch/transformers/4801b91bfd2de0a4478e02e4a2404e982bd3d6773bc2935eea468f9c644fb593.fbee186ac33c194356f35147fe415d5392623f762cc279e97cecc31b90238cb3\n",
            "creating metadata file for /root/.cache/torch/transformers/4801b91bfd2de0a4478e02e4a2404e982bd3d6773bc2935eea468f9c644fb593.fbee186ac33c194356f35147fe415d5392623f762cc279e97cecc31b90238cb3\n",
            "Lock 139765597707904 released on /root/.cache/torch/transformers/4801b91bfd2de0a4478e02e4a2404e982bd3d6773bc2935eea468f9c644fb593.fbee186ac33c194356f35147fe415d5392623f762cc279e97cecc31b90238cb3.lock\n",
            "loading weights file https://cdn.huggingface.co/cl-tohoku/bert-base-japanese-whole-word-masking/pytorch_model.bin from cache at /root/.cache/torch/transformers/4801b91bfd2de0a4478e02e4a2404e982bd3d6773bc2935eea468f9c644fb593.fbee186ac33c194356f35147fe415d5392623f762cc279e97cecc31b90238cb3\n"
          ],
          "name": "stderr"
        },
        {
          "output_type": "stream",
          "text": [
            "\n"
          ],
          "name": "stdout"
        },
        {
          "output_type": "stream",
          "text": [
            "All model checkpoint weights were used when initializing BertModel.\n",
            "\n",
            "All the weights of BertModel were initialized from the model checkpoint at cl-tohoku/bert-base-japanese-whole-word-masking.\n",
            "If your task is similar to the task the model of the ckeckpoint was trained on, you can already use BertModel for predictions without further training.\n"
          ],
          "name": "stderr"
        },
        {
          "output_type": "stream",
          "text": [
            "tensor([[ 2.6584e-01,  1.5733e-02, -5.5184e-01, -2.6881e-01, -3.3179e-01,\n",
            "          3.7371e-01, -5.9107e-02, -2.2306e-01,  4.1955e-01, -5.0272e-01,\n",
            "         -5.1751e-01, -1.0767e-01,  1.1715e-02,  4.1104e-01,  3.6833e-01,\n",
            "          8.5412e-01, -1.4727e-03,  3.8684e-01, -2.3235e-01, -5.9253e-01,\n",
            "          7.5186e-01, -6.9910e-01, -8.3287e-01,  3.9897e-01, -4.2666e-02,\n",
            "         -3.5826e-01,  4.5544e-02, -4.8805e-01, -1.6543e-02, -4.3459e-02,\n",
            "          2.5553e-01,  7.1770e-02, -5.0605e-01, -6.4106e-01,  2.5535e-01,\n",
            "         -2.2166e-01,  9.8571e-02, -1.3150e-01,  4.7107e-01, -1.2239e+00,\n",
            "          4.3229e-01,  2.3325e-01, -7.4172e-01,  4.9757e-01,  4.4506e-01,\n",
            "          3.7730e-02,  3.7232e-01,  5.0082e-01,  3.1939e-01,  8.3069e-03,\n",
            "          7.7963e-01,  3.7240e-01,  4.2830e-02, -4.9044e-01,  2.6482e-01,\n",
            "          1.8851e-01, -2.1430e-02,  2.7918e-01, -2.3981e-01,  2.3239e-01,\n",
            "          1.0654e-02, -1.6651e-01, -7.4854e-01,  1.5518e-02, -1.0087e-01,\n",
            "         -5.2183e-01, -5.3295e-01, -3.4331e-01, -1.1776e-01,  3.3825e-01,\n",
            "         -9.5448e-03, -5.4918e-01,  1.3025e-01,  5.9471e-04,  2.3341e-01,\n",
            "          1.7532e-01, -2.8769e-01,  2.8178e-02,  2.3448e-01,  1.3521e-02,\n",
            "         -6.6631e-02, -5.1864e-01, -1.5953e-01, -6.0617e-02, -1.0468e-01,\n",
            "          7.2803e-02, -1.9553e-01,  1.6465e-01, -4.9253e-01,  1.1051e+00,\n",
            "         -1.0558e+00,  6.6904e-01,  4.1411e-01,  1.7583e-01,  4.1238e-01,\n",
            "          1.1818e-01,  2.6010e-01,  7.6081e-01,  1.2332e-01,  6.9039e-01,\n",
            "          5.2596e-01, -1.3329e-01, -6.8359e-01,  4.1157e-01,  9.0555e-02,\n",
            "          7.5179e-01,  3.3041e-01,  2.9036e-02,  9.5927e-01,  2.4901e-01,\n",
            "         -7.5000e-01,  4.2927e-02, -2.0235e-01, -4.3449e-01,  3.4197e-01,\n",
            "         -3.2192e-01,  6.6705e-01, -5.6471e-01, -3.4373e-01, -1.1235e-01,\n",
            "          2.4931e-01,  4.2422e-02,  6.4367e-01,  2.5189e-01, -3.5504e-01,\n",
            "          4.2379e-01,  1.0042e+00, -9.3410e-02, -9.2333e-01,  2.0297e-02,\n",
            "         -4.7216e-01, -1.0712e-01,  5.1901e-01,  1.1322e-01,  1.7577e-01,\n",
            "         -3.2009e-01,  1.5124e-01, -3.0062e-01, -5.2374e-02, -7.6166e-02,\n",
            "         -4.7070e-01,  2.7415e-01,  6.1012e-02,  2.0501e-01,  2.2078e-01,\n",
            "         -2.8420e-01,  5.2731e-01, -3.7381e-01, -5.3276e-01, -4.6017e-01,\n",
            "         -9.4419e-01, -6.2037e-01, -4.2606e-02,  1.7352e-01,  2.3244e-01,\n",
            "         -4.3372e-01, -4.2027e-01,  9.8337e-01,  2.4255e-01, -5.9969e-01,\n",
            "         -4.9269e-01,  1.1304e+00, -5.5982e-01,  2.4113e-01, -2.0443e-01,\n",
            "          9.2209e-01, -1.4565e-01,  8.6453e-02,  1.3746e-01, -8.1186e-01,\n",
            "          5.9504e-02,  8.6442e-02, -2.7136e-01, -1.5038e-02, -5.2366e-02,\n",
            "          3.3059e-01, -4.0359e-01,  3.8022e-01, -6.3935e-01,  4.8630e-01,\n",
            "          5.7044e-01, -4.1163e-01,  6.5859e-02, -1.5864e-01,  2.8083e-01,\n",
            "          4.4045e-01,  2.1979e-02,  1.7306e-02,  4.9849e-01,  1.1631e-01,\n",
            "         -1.1998e-01,  1.2702e+00,  1.3196e-01,  3.6114e-01,  2.7937e-01,\n",
            "         -3.1242e-01, -3.1984e-01, -5.5898e-02,  1.7961e-01,  1.4294e-01,\n",
            "          3.0775e-01,  1.2007e-01,  5.6897e-02, -1.4341e-01,  1.3684e-01,\n",
            "          4.3487e-01, -1.1501e-01, -1.0110e-01, -1.3580e-01, -1.2285e-01,\n",
            "         -1.9015e-01, -2.3262e-02, -2.9068e-01,  6.8887e-01,  7.7067e-01,\n",
            "          3.9394e-01,  5.3055e-02,  3.8857e-01,  2.8403e-01,  4.3732e-01,\n",
            "         -1.8307e-01, -6.9074e-01,  1.1235e-01, -7.0436e-01, -1.4732e-01,\n",
            "         -3.2423e-01, -1.7048e-01,  3.2004e-01, -6.6608e-01,  4.6918e-01,\n",
            "          8.0709e-02, -4.3515e-02, -4.9095e-02, -5.4110e-01,  2.6418e-01,\n",
            "          6.3844e-01,  1.0367e-01,  4.3855e-01,  4.9042e-01, -9.2678e-01,\n",
            "          2.3903e-01,  2.4005e-01, -4.8867e-02, -9.5313e-01,  7.4246e-02,\n",
            "         -3.3294e-01, -1.3028e-01,  4.9891e-01, -6.5376e-02,  5.6724e-01,\n",
            "          1.9025e-01, -6.5401e-01,  1.3751e-01,  4.5356e-01,  2.3177e-01,\n",
            "          5.2025e-01,  2.4201e-01,  4.0238e-01, -1.7955e-01,  3.6197e-01,\n",
            "         -6.1524e-01,  3.5312e-01, -4.0999e-01, -7.7128e-01, -7.1149e-01,\n",
            "         -6.2204e-02, -9.1038e-02, -4.2602e-01,  5.9516e-01, -2.8339e-01,\n",
            "          3.2337e-01,  1.0222e-01,  2.2607e-01, -1.8456e-01,  7.2016e-03,\n",
            "          5.1067e-03, -1.0881e-01, -3.1053e-01, -2.6878e-01, -3.1947e-01,\n",
            "         -7.3845e-01, -2.9260e-01, -7.4040e-02, -6.2915e-01,  7.6104e-01,\n",
            "          5.6897e-02, -1.1295e-02, -2.4420e-01,  4.7946e-01, -3.7943e-02,\n",
            "         -5.9186e-01, -5.4609e-01,  5.1922e-01, -4.7467e-01, -1.9077e-01,\n",
            "         -1.9599e-01, -7.4807e-02,  4.4231e-01, -2.7467e-01,  1.8502e-01,\n",
            "         -4.2306e-01, -9.2732e-02,  3.8346e-01, -3.9819e-01, -1.7574e-01,\n",
            "          3.3645e-01, -2.2748e-01,  6.3314e-01,  5.1642e-02, -8.5284e-01,\n",
            "         -3.6620e-01,  4.9216e-01,  2.2474e-01, -4.5570e-01,  2.6106e-01,\n",
            "         -1.4799e-01,  2.6367e-01, -8.1694e-02,  1.5217e-01,  3.0707e-01,\n",
            "          3.9942e-01, -3.6480e-01,  9.3660e-02, -7.0220e-01,  3.2472e-01,\n",
            "          2.3364e-01,  2.9743e-02, -2.5697e-01, -6.3549e-01, -8.8681e-01,\n",
            "         -3.9662e-01,  5.0749e-01, -3.4442e-01,  1.1144e-01, -3.9284e-01,\n",
            "          2.9495e-01, -1.0154e+00,  3.3185e-01,  5.4172e-01, -3.3523e-01,\n",
            "         -6.1145e-01, -3.1906e-01,  3.7127e-01, -4.3603e-01,  5.0968e-01,\n",
            "          5.5215e-01,  1.3117e-01, -2.2834e-01,  7.9802e-01, -2.0912e-01,\n",
            "         -1.3853e-01,  7.8698e-01,  9.7033e-01, -6.3638e-01,  5.4297e-02,\n",
            "          1.1717e-01,  3.2043e-02, -5.5214e-01, -5.2320e-01, -4.1669e-01,\n",
            "          3.3796e-01, -1.5959e-01,  6.1336e-01, -6.3099e-01,  3.6027e-01,\n",
            "          4.2144e-01, -2.6867e-01,  2.3782e-01,  1.0332e-01,  1.8177e-01,\n",
            "          9.7251e-02,  2.2515e-01,  2.4667e-01, -1.8689e-01, -7.2737e-02,\n",
            "          3.2743e-01,  3.8549e-01,  8.0252e-01,  5.5544e-01, -1.7685e-01,\n",
            "         -2.6623e-02,  4.0736e-01,  2.3944e-01,  1.4319e-01, -4.4557e-01,\n",
            "         -7.2753e-01, -1.2532e+00,  1.8874e-01,  1.1061e+00, -1.0457e+00,\n",
            "          1.1943e-01, -1.8347e-01,  1.0848e-01,  2.6404e-01, -1.2998e+00,\n",
            "         -2.4000e-01,  5.5309e-01, -4.9960e-01,  1.4576e-01,  1.2221e-01,\n",
            "         -1.5858e-01, -5.8060e-01, -2.6025e-02,  3.6728e-01,  1.1014e+00,\n",
            "         -4.1421e-01,  5.0047e-02,  5.2132e-01, -2.9645e-01,  2.2610e-01,\n",
            "         -5.7373e-01,  4.2024e-01, -4.9334e-01, -1.0319e-01,  5.4356e-01,\n",
            "          4.1258e-01,  2.9024e-01, -1.0188e-01, -2.9694e-01, -4.9228e-01,\n",
            "          1.4674e-01,  6.1171e-02, -1.2068e-01, -8.0556e-02, -2.9224e-01,\n",
            "         -1.6483e-01, -1.5371e-01,  4.0281e-01,  2.5018e-01, -1.2145e+00,\n",
            "          2.0430e-01, -7.7428e-02,  2.1749e-01, -7.0430e-02,  4.8282e-01,\n",
            "          3.8161e-01, -2.3962e-02, -2.6751e-02, -3.6323e-01,  1.2932e-02,\n",
            "          6.6712e-02,  3.0178e-02, -7.4319e-01,  2.4417e-01,  2.8952e-01,\n",
            "          2.4734e-01, -7.7682e-02, -3.3118e-01, -3.1142e-01, -3.5005e-01,\n",
            "          2.1457e-02, -3.6390e-01,  5.9518e-01,  1.3111e-01, -5.4746e-02,\n",
            "         -1.6280e-01,  1.0568e-01, -9.1767e-01, -5.2011e-01,  4.2778e-01,\n",
            "          9.8176e-02,  4.3703e-01, -4.6113e-01,  1.2961e-01,  8.9567e-02,\n",
            "         -3.8286e-01, -2.2415e-01,  3.1577e-01,  4.1019e-01, -1.9022e-01,\n",
            "          1.9923e-01,  1.4501e+00,  3.0467e-01,  2.6525e-01,  2.6536e-01,\n",
            "         -2.6695e-01,  6.1787e-01,  3.3287e-01, -2.0716e-01,  2.4853e-01,\n",
            "          1.4737e-01,  5.5801e-01,  2.5770e-01,  3.4098e-01,  3.2938e-01,\n",
            "          2.1654e-01,  2.2306e-01, -1.0217e-02,  2.0234e-01,  3.9685e-01,\n",
            "          1.9296e-01,  1.0925e-01, -3.0244e-01, -6.7551e-01, -2.4984e-04,\n",
            "          5.1523e-01,  3.2453e-01, -3.3214e-01,  2.7574e-01,  3.4901e-01,\n",
            "          9.9908e-02, -2.4089e-01, -2.3124e-01, -2.0188e-01,  2.1834e-02,\n",
            "         -4.0078e-01, -8.6828e-01, -3.5262e-01,  1.7690e-01,  8.8230e-03,\n",
            "         -2.1144e-01, -2.2725e-01, -2.2381e-01,  2.6289e-01, -8.1224e-01,\n",
            "         -3.8381e-01, -1.3736e-01,  3.4506e-01,  1.7694e-01, -5.7166e-02,\n",
            "          3.1595e-01, -3.8534e-01, -3.2664e-01, -1.1470e-01,  2.5900e-01,\n",
            "          1.6945e-02,  3.9313e-02, -1.2513e-01,  1.1821e-01,  1.5612e-01,\n",
            "          3.8223e-01,  4.7082e-02,  3.5671e-01, -2.2153e-01, -5.1591e-01,\n",
            "          3.3124e-01, -2.7472e-01, -8.2658e-02,  6.5481e-01, -5.1983e-02,\n",
            "         -1.3598e-01,  3.0750e-01,  4.0540e-01,  3.6240e-03,  7.6017e-02,\n",
            "          1.3787e-01, -1.0374e-01, -2.1679e-01,  1.9606e-01, -2.4653e-01,\n",
            "          3.1254e-01, -2.3646e-01,  3.1838e-01,  3.6216e-01, -1.6824e-01,\n",
            "          2.4760e-01,  3.3863e-01,  2.6193e-01,  2.9818e-01,  3.0446e-01,\n",
            "          3.6489e-01, -1.0382e+00, -5.5033e-01,  1.5927e-02, -5.3250e-01,\n",
            "          9.8618e-02,  3.0493e-01, -1.3786e-01, -2.9887e-01, -1.3784e-01,\n",
            "          1.3265e-01, -2.4720e-01, -3.8107e-01, -2.1480e-01,  4.9104e-01,\n",
            "          6.1605e-01,  4.7509e-01, -2.6308e-01, -4.8199e-03,  3.5669e-01,\n",
            "          4.8048e-01,  4.1777e-01, -5.5052e-01, -9.0465e-01,  1.0298e-01,\n",
            "         -3.3966e-01, -2.9219e-02, -4.3375e-01, -3.1051e-01, -2.9564e-01,\n",
            "          4.2141e-01,  4.9572e-01,  2.4606e-01, -7.6511e-01, -5.6312e-01,\n",
            "          3.1470e-01, -6.8322e-02, -2.7183e-01,  1.7696e-01,  2.8537e-01,\n",
            "          2.7815e-01,  3.7128e-02, -6.7293e-01, -1.1243e-01,  1.7838e-01,\n",
            "          3.8285e-02,  1.5997e-01,  4.1060e-02,  5.0163e-01,  2.0098e-01,\n",
            "          3.0115e-02, -7.3674e-02, -9.5289e-02, -3.1916e-01,  4.5423e-01,\n",
            "          3.9340e-01, -1.7205e-01,  9.4231e+00,  6.2113e-01, -1.1799e-02,\n",
            "          6.2525e-02,  6.6206e-01, -9.9332e-01, -2.2292e-02, -1.3507e-01,\n",
            "         -8.2956e-02, -4.8008e-01, -5.4458e-01,  7.8263e-01, -4.9763e-01,\n",
            "          6.2328e-01, -4.2190e-01, -1.6790e-01, -1.9091e-01,  5.7081e-01,\n",
            "          3.4342e-01, -4.8290e-01, -1.0500e+00, -6.9913e-01, -2.8510e-01,\n",
            "         -7.7243e-01,  2.7351e-01,  3.2794e-01,  7.8163e-01,  7.3042e-01,\n",
            "          8.1814e-03, -4.0063e-01, -7.7834e-02, -8.0266e-01,  3.2726e-01,\n",
            "          1.2663e-01, -5.4078e-01,  6.3839e-01, -1.5292e-01, -1.0767e+00,\n",
            "          2.5370e-02, -5.4070e-02, -3.8045e-01,  2.7779e-01,  5.9921e-02,\n",
            "         -2.4765e-01,  3.4842e-01, -1.5633e+00, -5.7589e-01,  7.6880e-01,\n",
            "          8.6290e-02,  1.2515e-01,  1.0816e-01,  2.9385e-02,  2.0593e-02,\n",
            "          3.1139e-01,  1.0479e-01, -2.9355e-02,  1.6472e-01,  5.3812e-02,\n",
            "          5.1076e-01, -5.9471e-02, -5.2827e-01,  1.3283e-01, -2.2516e-01,\n",
            "          9.6237e-01, -4.6973e-01, -7.3671e-01,  5.3730e-01, -3.9080e-01,\n",
            "          3.1944e-01, -8.1077e-02, -2.1904e-01, -6.7247e-01, -1.5909e-01,\n",
            "         -1.4414e-01, -5.5234e-01, -2.1992e-01, -2.7821e-01,  5.9072e-01,\n",
            "         -5.5561e-01, -1.2515e-01,  7.6232e-01, -1.2384e-01,  1.9280e-01,\n",
            "         -3.6371e-01, -4.3413e-01, -8.8198e-02,  1.1069e-01,  2.4314e-01,\n",
            "          3.0905e-01, -6.2364e-01, -9.1079e-01,  2.0408e-01,  5.8376e-01,\n",
            "         -1.9593e-01, -4.3643e-01, -8.7352e-02, -1.5071e-01, -5.3055e-01,\n",
            "          8.8033e-01, -6.1199e-01, -5.2064e-02, -1.1993e-01, -4.9568e-01,\n",
            "          1.9096e-01,  1.7571e-01, -4.3982e-01, -1.4129e-01, -1.9573e-01,\n",
            "         -2.2094e-01,  2.6666e-01, -6.6099e-01, -1.0301e+00,  6.8065e-01,\n",
            "          3.1621e-01, -2.1729e-01,  3.8379e-01, -1.2528e-01, -2.6148e-01,\n",
            "         -4.8816e-01, -6.9434e-03,  1.9782e-01, -1.3871e-01,  2.3245e-01,\n",
            "          3.2546e-01,  8.6336e-01,  3.9124e-01, -7.0409e-01, -6.0906e-02,\n",
            "          1.7236e-01, -1.9721e-01, -2.2350e-02,  1.3014e-03,  2.8033e-01,\n",
            "         -1.6450e-02,  2.1028e-01,  1.2323e-01, -4.6503e-01, -1.8691e-01,\n",
            "          1.3622e-01,  1.8496e-01,  3.2169e-01, -2.6979e-01,  1.9778e-01,\n",
            "         -2.1847e-01,  4.2509e-01,  1.3465e-01, -8.7461e-01,  5.6933e-01,\n",
            "         -7.2362e-01, -3.2066e-02, -4.8776e-01]], grad_fn=<SliceBackward>)\n"
          ],
          "name": "stdout"
        }
      ]
    },
    {
      "cell_type": "markdown",
      "metadata": {
        "colab_type": "text",
        "id": "9xUn7f9lqcSe"
      },
      "source": [
        "## [toiro](https://github.com/taishi-i/toiro) によるテキスト文書モデル（BERT）の学習"
      ]
    },
    {
      "cell_type": "markdown",
      "metadata": {
        "id": "EphH0mkhqgA1",
        "colab_type": "text"
      },
      "source": [
        "インストール方法"
      ]
    },
    {
      "cell_type": "code",
      "metadata": {
        "id": "q-PKPKU_qnDs",
        "colab_type": "code",
        "colab": {
          "base_uri": "https://localhost:8080/",
          "height": 1000
        },
        "outputId": "801e33d7-1620-4961-c011-2930d4126ecb"
      },
      "source": [
        "!pip install toiro[all]"
      ],
      "execution_count": 30,
      "outputs": [
        {
          "output_type": "stream",
          "text": [
            "Requirement already satisfied: toiro[all] in /usr/local/lib/python3.6/dist-packages (0.0.6)\n",
            "Requirement already satisfied: sklearn in /usr/local/lib/python3.6/dist-packages (from toiro[all]) (0.0)\n",
            "Requirement already satisfied: janome in /usr/local/lib/python3.6/dist-packages (from toiro[all]) (0.4.0)\n",
            "Requirement already satisfied: py-cpuinfo in /usr/local/lib/python3.6/dist-packages (from toiro[all]) (7.0.0)\n",
            "Requirement already satisfied: requests in /usr/local/lib/python3.6/dist-packages (from toiro[all]) (2.23.0)\n",
            "Requirement already satisfied: tqdm in /usr/local/lib/python3.6/dist-packages (from toiro[all]) (4.41.1)\n",
            "Requirement already satisfied: pandas in /usr/local/lib/python3.6/dist-packages (from toiro[all]) (1.0.5)\n",
            "Requirement already satisfied: nagisa; extra == \"all\" in /usr/local/lib/python3.6/dist-packages (from toiro[all]) (0.2.7)\n",
            "Requirement already satisfied: catalyst; extra == \"all\" in /usr/local/lib/python3.6/dist-packages (from toiro[all]) (20.8.2)\n",
            "Requirement already satisfied: sudachipy; extra == \"all\" in /usr/local/lib/python3.6/dist-packages (from toiro[all]) (0.4.9)\n",
            "Requirement already satisfied: sentencepiece; extra == \"all\" in /usr/local/lib/python3.6/dist-packages (from toiro[all]) (0.1.91)\n",
            "Requirement already satisfied: ginza; extra == \"all\" in /usr/local/lib/python3.6/dist-packages (from toiro[all]) (4.0.0)\n",
            "Requirement already satisfied: kytea; extra == \"all\" in /usr/local/lib/python3.6/dist-packages (from toiro[all]) (0.1.5)\n",
            "Requirement already satisfied: pyknp; extra == \"all\" in /usr/local/lib/python3.6/dist-packages (from toiro[all]) (0.4.5)\n",
            "Requirement already satisfied: transformers; extra == \"all\" in /usr/local/lib/python3.6/dist-packages (from toiro[all]) (3.0.2)\n",
            "Requirement already satisfied: spacy>=2.3.0; extra == \"all\" in /usr/local/lib/python3.6/dist-packages (from toiro[all]) (2.3.2)\n",
            "Requirement already satisfied: sudachidict-core; extra == \"all\" in /usr/local/lib/python3.6/dist-packages (from toiro[all]) (20200722)\n",
            "Requirement already satisfied: mecab-python3<=0.996.5; extra == \"all\" in /usr/local/lib/python3.6/dist-packages (from toiro[all]) (0.996.5)\n",
            "Requirement already satisfied: torch; extra == \"all\" in /usr/local/lib/python3.6/dist-packages (from toiro[all]) (1.6.0+cu101)\n",
            "Requirement already satisfied: scikit-learn in /usr/local/lib/python3.6/dist-packages (from sklearn->toiro[all]) (0.22.2.post1)\n",
            "Requirement already satisfied: certifi>=2017.4.17 in /usr/local/lib/python3.6/dist-packages (from requests->toiro[all]) (2020.6.20)\n",
            "Requirement already satisfied: idna<3,>=2.5 in /usr/local/lib/python3.6/dist-packages (from requests->toiro[all]) (2.10)\n",
            "Requirement already satisfied: urllib3!=1.25.0,!=1.25.1,<1.26,>=1.21.1 in /usr/local/lib/python3.6/dist-packages (from requests->toiro[all]) (1.24.3)\n",
            "Requirement already satisfied: chardet<4,>=3.0.2 in /usr/local/lib/python3.6/dist-packages (from requests->toiro[all]) (3.0.4)\n",
            "Requirement already satisfied: numpy>=1.13.3 in /usr/local/lib/python3.6/dist-packages (from pandas->toiro[all]) (1.18.5)\n",
            "Requirement already satisfied: pytz>=2017.2 in /usr/local/lib/python3.6/dist-packages (from pandas->toiro[all]) (2018.9)\n",
            "Requirement already satisfied: python-dateutil>=2.6.1 in /usr/local/lib/python3.6/dist-packages (from pandas->toiro[all]) (2.8.1)\n",
            "Requirement already satisfied: six in /usr/local/lib/python3.6/dist-packages (from nagisa; extra == \"all\"->toiro[all]) (1.15.0)\n",
            "Requirement already satisfied: DyNet in /usr/local/lib/python3.6/dist-packages (from nagisa; extra == \"all\"->toiro[all]) (2.1)\n",
            "Requirement already satisfied: packaging in /usr/local/lib/python3.6/dist-packages (from catalyst; extra == \"all\"->toiro[all]) (20.4)\n",
            "Requirement already satisfied: tensorboardX in /usr/local/lib/python3.6/dist-packages (from catalyst; extra == \"all\"->toiro[all]) (2.1)\n",
            "Requirement already satisfied: deprecation in /usr/local/lib/python3.6/dist-packages (from catalyst; extra == \"all\"->toiro[all]) (2.1.0)\n",
            "Requirement already satisfied: matplotlib in /usr/local/lib/python3.6/dist-packages (from catalyst; extra == \"all\"->toiro[all]) (3.2.2)\n",
            "Requirement already satisfied: PyYAML in /usr/local/lib/python3.6/dist-packages (from catalyst; extra == \"all\"->toiro[all]) (3.13)\n",
            "Requirement already satisfied: ipython in /usr/local/lib/python3.6/dist-packages (from catalyst; extra == \"all\"->toiro[all]) (5.5.0)\n",
            "Requirement already satisfied: tensorboard>=1.14.0 in /usr/local/lib/python3.6/dist-packages (from catalyst; extra == \"all\"->toiro[all]) (2.3.0)\n",
            "Requirement already satisfied: plotly>=4.1.0 in /usr/local/lib/python3.6/dist-packages (from catalyst; extra == \"all\"->toiro[all]) (4.4.1)\n",
            "Requirement already satisfied: GitPython>=3.1.1 in /usr/local/lib/python3.6/dist-packages (from catalyst; extra == \"all\"->toiro[all]) (3.1.7)\n",
            "Requirement already satisfied: dartsclone~=0.9.0 in /usr/local/lib/python3.6/dist-packages (from sudachipy; extra == \"all\"->toiro[all]) (0.9.0)\n",
            "Requirement already satisfied: sortedcontainers~=2.1.0 in /usr/local/lib/python3.6/dist-packages (from sudachipy; extra == \"all\"->toiro[all]) (2.1.0)\n",
            "Requirement already satisfied: ja-ginza<4.1.0,>=4.0.0 in /usr/local/lib/python3.6/dist-packages (from ginza; extra == \"all\"->toiro[all]) (4.0.0)\n",
            "Requirement already satisfied: tokenizers==0.8.1.rc1 in /usr/local/lib/python3.6/dist-packages (from transformers; extra == \"all\"->toiro[all]) (0.8.1rc1)\n",
            "Requirement already satisfied: sacremoses in /usr/local/lib/python3.6/dist-packages (from transformers; extra == \"all\"->toiro[all]) (0.0.43)\n",
            "Requirement already satisfied: dataclasses; python_version < \"3.7\" in /usr/local/lib/python3.6/dist-packages (from transformers; extra == \"all\"->toiro[all]) (0.7)\n",
            "Requirement already satisfied: regex!=2019.12.17 in /usr/local/lib/python3.6/dist-packages (from transformers; extra == \"all\"->toiro[all]) (2019.12.20)\n",
            "Requirement already satisfied: filelock in /usr/local/lib/python3.6/dist-packages (from transformers; extra == \"all\"->toiro[all]) (3.0.12)\n",
            "Requirement already satisfied: catalogue<1.1.0,>=0.0.7 in /usr/local/lib/python3.6/dist-packages (from spacy>=2.3.0; extra == \"all\"->toiro[all]) (1.0.0)\n",
            "Requirement already satisfied: srsly<1.1.0,>=1.0.2 in /usr/local/lib/python3.6/dist-packages (from spacy>=2.3.0; extra == \"all\"->toiro[all]) (1.0.2)\n",
            "Requirement already satisfied: preshed<3.1.0,>=3.0.2 in /usr/local/lib/python3.6/dist-packages (from spacy>=2.3.0; extra == \"all\"->toiro[all]) (3.0.2)\n",
            "Requirement already satisfied: thinc==7.4.1 in /usr/local/lib/python3.6/dist-packages (from spacy>=2.3.0; extra == \"all\"->toiro[all]) (7.4.1)\n",
            "Requirement already satisfied: setuptools in /usr/local/lib/python3.6/dist-packages (from spacy>=2.3.0; extra == \"all\"->toiro[all]) (49.2.0)\n",
            "Requirement already satisfied: blis<0.5.0,>=0.4.0 in /usr/local/lib/python3.6/dist-packages (from spacy>=2.3.0; extra == \"all\"->toiro[all]) (0.4.1)\n",
            "Requirement already satisfied: murmurhash<1.1.0,>=0.28.0 in /usr/local/lib/python3.6/dist-packages (from spacy>=2.3.0; extra == \"all\"->toiro[all]) (1.0.2)\n",
            "Requirement already satisfied: wasabi<1.1.0,>=0.4.0 in /usr/local/lib/python3.6/dist-packages (from spacy>=2.3.0; extra == \"all\"->toiro[all]) (0.7.1)\n",
            "Requirement already satisfied: cymem<2.1.0,>=2.0.2 in /usr/local/lib/python3.6/dist-packages (from spacy>=2.3.0; extra == \"all\"->toiro[all]) (2.0.3)\n",
            "Requirement already satisfied: plac<1.2.0,>=0.9.6 in /usr/local/lib/python3.6/dist-packages (from spacy>=2.3.0; extra == \"all\"->toiro[all]) (1.1.3)\n",
            "Requirement already satisfied: future in /usr/local/lib/python3.6/dist-packages (from torch; extra == \"all\"->toiro[all]) (0.16.0)\n",
            "Requirement already satisfied: scipy>=0.17.0 in /usr/local/lib/python3.6/dist-packages (from scikit-learn->sklearn->toiro[all]) (1.4.1)\n",
            "Requirement already satisfied: joblib>=0.11 in /usr/local/lib/python3.6/dist-packages (from scikit-learn->sklearn->toiro[all]) (0.16.0)\n",
            "Requirement already satisfied: cython in /usr/local/lib/python3.6/dist-packages (from DyNet->nagisa; extra == \"all\"->toiro[all]) (0.29.21)\n",
            "Requirement already satisfied: pyparsing>=2.0.2 in /usr/local/lib/python3.6/dist-packages (from packaging->catalyst; extra == \"all\"->toiro[all]) (2.4.7)\n",
            "Requirement already satisfied: protobuf>=3.8.0 in /usr/local/lib/python3.6/dist-packages (from tensorboardX->catalyst; extra == \"all\"->toiro[all]) (3.12.4)\n",
            "Requirement already satisfied: cycler>=0.10 in /usr/local/lib/python3.6/dist-packages (from matplotlib->catalyst; extra == \"all\"->toiro[all]) (0.10.0)\n",
            "Requirement already satisfied: kiwisolver>=1.0.1 in /usr/local/lib/python3.6/dist-packages (from matplotlib->catalyst; extra == \"all\"->toiro[all]) (1.2.0)\n",
            "Requirement already satisfied: pexpect; sys_platform != \"win32\" in /usr/local/lib/python3.6/dist-packages (from ipython->catalyst; extra == \"all\"->toiro[all]) (4.8.0)\n",
            "Requirement already satisfied: decorator in /usr/local/lib/python3.6/dist-packages (from ipython->catalyst; extra == \"all\"->toiro[all]) (4.4.2)\n",
            "Requirement already satisfied: prompt-toolkit<2.0.0,>=1.0.4 in /usr/local/lib/python3.6/dist-packages (from ipython->catalyst; extra == \"all\"->toiro[all]) (1.0.18)\n",
            "Requirement already satisfied: pickleshare in /usr/local/lib/python3.6/dist-packages (from ipython->catalyst; extra == \"all\"->toiro[all]) (0.7.5)\n",
            "Requirement already satisfied: traitlets>=4.2 in /usr/local/lib/python3.6/dist-packages (from ipython->catalyst; extra == \"all\"->toiro[all]) (4.3.3)\n",
            "Requirement already satisfied: simplegeneric>0.8 in /usr/local/lib/python3.6/dist-packages (from ipython->catalyst; extra == \"all\"->toiro[all]) (0.8.1)\n",
            "Requirement already satisfied: pygments in /usr/local/lib/python3.6/dist-packages (from ipython->catalyst; extra == \"all\"->toiro[all]) (2.1.3)\n",
            "Requirement already satisfied: absl-py>=0.4 in /usr/local/lib/python3.6/dist-packages (from tensorboard>=1.14.0->catalyst; extra == \"all\"->toiro[all]) (0.9.0)\n",
            "Requirement already satisfied: google-auth-oauthlib<0.5,>=0.4.1 in /usr/local/lib/python3.6/dist-packages (from tensorboard>=1.14.0->catalyst; extra == \"all\"->toiro[all]) (0.4.1)\n",
            "Requirement already satisfied: wheel>=0.26; python_version >= \"3\" in /usr/local/lib/python3.6/dist-packages (from tensorboard>=1.14.0->catalyst; extra == \"all\"->toiro[all]) (0.34.2)\n",
            "Requirement already satisfied: tensorboard-plugin-wit>=1.6.0 in /usr/local/lib/python3.6/dist-packages (from tensorboard>=1.14.0->catalyst; extra == \"all\"->toiro[all]) (1.7.0)\n",
            "Requirement already satisfied: markdown>=2.6.8 in /usr/local/lib/python3.6/dist-packages (from tensorboard>=1.14.0->catalyst; extra == \"all\"->toiro[all]) (3.2.2)\n",
            "Requirement already satisfied: grpcio>=1.24.3 in /usr/local/lib/python3.6/dist-packages (from tensorboard>=1.14.0->catalyst; extra == \"all\"->toiro[all]) (1.31.0)\n",
            "Requirement already satisfied: google-auth<2,>=1.6.3 in /usr/local/lib/python3.6/dist-packages (from tensorboard>=1.14.0->catalyst; extra == \"all\"->toiro[all]) (1.17.2)\n",
            "Requirement already satisfied: werkzeug>=0.11.15 in /usr/local/lib/python3.6/dist-packages (from tensorboard>=1.14.0->catalyst; extra == \"all\"->toiro[all]) (1.0.1)\n",
            "Requirement already satisfied: retrying>=1.3.3 in /usr/local/lib/python3.6/dist-packages (from plotly>=4.1.0->catalyst; extra == \"all\"->toiro[all]) (1.3.3)\n",
            "Requirement already satisfied: gitdb<5,>=4.0.1 in /usr/local/lib/python3.6/dist-packages (from GitPython>=3.1.1->catalyst; extra == \"all\"->toiro[all]) (4.0.5)\n",
            "Requirement already satisfied: click in /usr/local/lib/python3.6/dist-packages (from sacremoses->transformers; extra == \"all\"->toiro[all]) (7.1.2)\n",
            "Requirement already satisfied: importlib-metadata>=0.20; python_version < \"3.8\" in /usr/local/lib/python3.6/dist-packages (from catalogue<1.1.0,>=0.0.7->spacy>=2.3.0; extra == \"all\"->toiro[all]) (1.7.0)\n",
            "Requirement already satisfied: ptyprocess>=0.5 in /usr/local/lib/python3.6/dist-packages (from pexpect; sys_platform != \"win32\"->ipython->catalyst; extra == \"all\"->toiro[all]) (0.6.0)\n",
            "Requirement already satisfied: wcwidth in /usr/local/lib/python3.6/dist-packages (from prompt-toolkit<2.0.0,>=1.0.4->ipython->catalyst; extra == \"all\"->toiro[all]) (0.2.5)\n",
            "Requirement already satisfied: ipython-genutils in /usr/local/lib/python3.6/dist-packages (from traitlets>=4.2->ipython->catalyst; extra == \"all\"->toiro[all]) (0.2.0)\n",
            "Requirement already satisfied: requests-oauthlib>=0.7.0 in /usr/local/lib/python3.6/dist-packages (from google-auth-oauthlib<0.5,>=0.4.1->tensorboard>=1.14.0->catalyst; extra == \"all\"->toiro[all]) (1.3.0)\n",
            "Requirement already satisfied: pyasn1-modules>=0.2.1 in /usr/local/lib/python3.6/dist-packages (from google-auth<2,>=1.6.3->tensorboard>=1.14.0->catalyst; extra == \"all\"->toiro[all]) (0.2.8)\n",
            "Requirement already satisfied: cachetools<5.0,>=2.0.0 in /usr/local/lib/python3.6/dist-packages (from google-auth<2,>=1.6.3->tensorboard>=1.14.0->catalyst; extra == \"all\"->toiro[all]) (4.1.1)\n",
            "Requirement already satisfied: rsa<5,>=3.1.4; python_version >= \"3\" in /usr/local/lib/python3.6/dist-packages (from google-auth<2,>=1.6.3->tensorboard>=1.14.0->catalyst; extra == \"all\"->toiro[all]) (4.6)\n",
            "Requirement already satisfied: smmap<4,>=3.0.1 in /usr/local/lib/python3.6/dist-packages (from gitdb<5,>=4.0.1->GitPython>=3.1.1->catalyst; extra == \"all\"->toiro[all]) (3.0.4)\n",
            "Requirement already satisfied: zipp>=0.5 in /usr/local/lib/python3.6/dist-packages (from importlib-metadata>=0.20; python_version < \"3.8\"->catalogue<1.1.0,>=0.0.7->spacy>=2.3.0; extra == \"all\"->toiro[all]) (3.1.0)\n",
            "Requirement already satisfied: oauthlib>=3.0.0 in /usr/local/lib/python3.6/dist-packages (from requests-oauthlib>=0.7.0->google-auth-oauthlib<0.5,>=0.4.1->tensorboard>=1.14.0->catalyst; extra == \"all\"->toiro[all]) (3.1.0)\n",
            "Requirement already satisfied: pyasn1<0.5.0,>=0.4.6 in /usr/local/lib/python3.6/dist-packages (from pyasn1-modules>=0.2.1->google-auth<2,>=1.6.3->tensorboard>=1.14.0->catalyst; extra == \"all\"->toiro[all]) (0.4.8)\n"
          ],
          "name": "stdout"
        }
      ]
    },
    {
      "cell_type": "markdown",
      "metadata": {
        "id": "vypHsXFiqlZz",
        "colab_type": "text"
      },
      "source": [
        "実装方法"
      ]
    },
    {
      "cell_type": "code",
      "metadata": {
        "id": "zjjCVlMoqxNw",
        "colab_type": "code",
        "colab": {
          "base_uri": "https://localhost:8080/",
          "height": 1000
        },
        "outputId": "6b1f6d60-505d-4de1-dfc9-06c477100aad"
      },
      "source": [
        "from toiro import classifiers\n",
        "from toiro import datadownloader\n",
        "\n",
        "corpus = 'yahoo_movie_reviews'\n",
        "train_df, dev_df, test_df = datadownloader.load_corpus(corpus, n=12500)\n",
        "model = classifiers.BERTClassificationModel()                                                                                                                                   \n",
        "model.fit(train_df, dev_df, verbose=True)\n",
        "text = \"とても良い作品でした。\"                                                                                            \n",
        "pred_y = model.predict(text)\n",
        "print(pred_y)"
      ],
      "execution_count": 31,
      "outputs": [
        {
          "output_type": "stream",
          "text": [
            "loading configuration file https://s3.amazonaws.com/models.huggingface.co/bert/cl-tohoku/bert-base-japanese-whole-word-masking/config.json from cache at /root/.cache/torch/transformers/c96f5e731b9f4dc2e8263336947ec74b6f93917c0b9db6e9cf974a8a945dd313.48bc8d0b377948cc990335b8cccbcce084039c1b792bea3d0da671abfc6a3fe5\n",
            "Model config BertConfig {\n",
            "  \"architectures\": [\n",
            "    \"BertForMaskedLM\"\n",
            "  ],\n",
            "  \"attention_probs_dropout_prob\": 0.1,\n",
            "  \"gradient_checkpointing\": false,\n",
            "  \"hidden_act\": \"gelu\",\n",
            "  \"hidden_dropout_prob\": 0.1,\n",
            "  \"hidden_size\": 768,\n",
            "  \"initializer_range\": 0.02,\n",
            "  \"intermediate_size\": 3072,\n",
            "  \"layer_norm_eps\": 1e-12,\n",
            "  \"max_position_embeddings\": 512,\n",
            "  \"model_type\": \"bert\",\n",
            "  \"num_attention_heads\": 12,\n",
            "  \"num_hidden_layers\": 12,\n",
            "  \"pad_token_id\": 0,\n",
            "  \"type_vocab_size\": 2,\n",
            "  \"vocab_size\": 32000\n",
            "}\n",
            "\n",
            "loading file https://s3.amazonaws.com/models.huggingface.co/bert/cl-tohoku/bert-base-japanese-whole-word-masking/vocab.txt from cache at /root/.cache/torch/transformers/72ee6ecba54b20bba483760db4f23b836f27a6afda54ede38c488e8514bb3705.5fac9da4d8565963664ed9744688dc7008ff5ec4045f604e9515896f9fe46d9c\n",
            "loading configuration file https://s3.amazonaws.com/models.huggingface.co/bert/cl-tohoku/bert-base-japanese-whole-word-masking/config.json from cache at /root/.cache/torch/transformers/c96f5e731b9f4dc2e8263336947ec74b6f93917c0b9db6e9cf974a8a945dd313.48bc8d0b377948cc990335b8cccbcce084039c1b792bea3d0da671abfc6a3fe5\n",
            "Model config BertConfig {\n",
            "  \"architectures\": [\n",
            "    \"BertForMaskedLM\"\n",
            "  ],\n",
            "  \"attention_probs_dropout_prob\": 0.1,\n",
            "  \"gradient_checkpointing\": false,\n",
            "  \"hidden_act\": \"gelu\",\n",
            "  \"hidden_dropout_prob\": 0.1,\n",
            "  \"hidden_size\": 768,\n",
            "  \"initializer_range\": 0.02,\n",
            "  \"intermediate_size\": 3072,\n",
            "  \"layer_norm_eps\": 1e-12,\n",
            "  \"max_position_embeddings\": 512,\n",
            "  \"model_type\": \"bert\",\n",
            "  \"num_attention_heads\": 12,\n",
            "  \"num_hidden_layers\": 12,\n",
            "  \"pad_token_id\": 0,\n",
            "  \"type_vocab_size\": 2,\n",
            "  \"vocab_size\": 32000\n",
            "}\n",
            "\n",
            "loading weights file https://cdn.huggingface.co/cl-tohoku/bert-base-japanese-whole-word-masking/pytorch_model.bin from cache at /root/.cache/torch/transformers/4801b91bfd2de0a4478e02e4a2404e982bd3d6773bc2935eea468f9c644fb593.fbee186ac33c194356f35147fe415d5392623f762cc279e97cecc31b90238cb3\n",
            "All model checkpoint weights were used when initializing BertModel.\n",
            "\n",
            "All the weights of BertModel were initialized from the model checkpoint at cl-tohoku/bert-base-japanese-whole-word-masking.\n",
            "If your task is similar to the task the model of the ckeckpoint was trained on, you can already use BertModel for predictions without further training.\n"
          ],
          "name": "stderr"
        },
        {
          "output_type": "stream",
          "text": [
            "[2020-08-24 18:31:15,343] \n",
            "1/1 * Epoch 1 (_base): lr=5.000e-05 | momentum=0.9000\n",
            "1/1 * Epoch 1 (train): accuracy01=0.8506 | loss=0.3400\n",
            "1/1 * Epoch 1 (valid): accuracy01=0.8912 | loss=0.2837\n"
          ],
          "name": "stdout"
        },
        {
          "output_type": "stream",
          "text": [
            "\n",
            "1/1 * Epoch 1 (_base): lr=5.000e-05 | momentum=0.9000\n",
            "1/1 * Epoch 1 (train): accuracy01=0.8506 | loss=0.3400\n",
            "1/1 * Epoch 1 (valid): accuracy01=0.8912 | loss=0.2837\n"
          ],
          "name": "stderr"
        },
        {
          "output_type": "stream",
          "text": [
            "1\n"
          ],
          "name": "stdout"
        }
      ]
    }
  ]
}