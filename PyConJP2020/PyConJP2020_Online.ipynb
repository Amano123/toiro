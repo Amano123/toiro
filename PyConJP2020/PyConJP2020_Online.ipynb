{
  "nbformat": 4,
  "nbformat_minor": 0,
  "metadata": {
    "colab": {
      "name": "PyConJP2020_Online.ipynb",
      "provenance": [],
      "toc_visible": true,
      "authorship_tag": "ABX9TyNMnXmK97pgskXeSXBFHm05",
      "include_colab_link": true
    },
    "kernelspec": {
      "name": "python3",
      "display_name": "Python 3"
    },
    "accelerator": "GPU",
    "widgets": {
      "application/vnd.jupyter.widget-state+json": {
        "5f341434233f451295b1fad1506b20b3": {
          "model_module": "@jupyter-widgets/controls",
          "model_name": "HBoxModel",
          "state": {
            "_view_name": "HBoxView",
            "_dom_classes": [],
            "_model_name": "HBoxModel",
            "_view_module": "@jupyter-widgets/controls",
            "_model_module_version": "1.5.0",
            "_view_count": null,
            "_view_module_version": "1.5.0",
            "box_style": "",
            "layout": "IPY_MODEL_4b6d89272063491ea0e2007999bccbf6",
            "_model_module": "@jupyter-widgets/controls",
            "children": [
              "IPY_MODEL_6d1812fa28da4b64906e1a30bb6e1232",
              "IPY_MODEL_ac38fd84a4a74f72ba1e847dac11ad20"
            ]
          }
        },
        "4b6d89272063491ea0e2007999bccbf6": {
          "model_module": "@jupyter-widgets/base",
          "model_name": "LayoutModel",
          "state": {
            "_view_name": "LayoutView",
            "grid_template_rows": null,
            "right": null,
            "justify_content": null,
            "_view_module": "@jupyter-widgets/base",
            "overflow": null,
            "_model_module_version": "1.2.0",
            "_view_count": null,
            "flex_flow": null,
            "width": null,
            "min_width": null,
            "border": null,
            "align_items": null,
            "bottom": null,
            "_model_module": "@jupyter-widgets/base",
            "top": null,
            "grid_column": null,
            "overflow_y": null,
            "overflow_x": null,
            "grid_auto_flow": null,
            "grid_area": null,
            "grid_template_columns": null,
            "flex": null,
            "_model_name": "LayoutModel",
            "justify_items": null,
            "grid_row": null,
            "max_height": null,
            "align_content": null,
            "visibility": null,
            "align_self": null,
            "height": null,
            "min_height": null,
            "padding": null,
            "grid_auto_rows": null,
            "grid_gap": null,
            "max_width": null,
            "order": null,
            "_view_module_version": "1.2.0",
            "grid_template_areas": null,
            "object_position": null,
            "object_fit": null,
            "grid_auto_columns": null,
            "margin": null,
            "display": null,
            "left": null
          }
        },
        "6d1812fa28da4b64906e1a30bb6e1232": {
          "model_module": "@jupyter-widgets/controls",
          "model_name": "FloatProgressModel",
          "state": {
            "_view_name": "ProgressView",
            "style": "IPY_MODEL_ab30b1735a904e1d8bae9bfb92963d64",
            "_dom_classes": [],
            "description": "Downloading: 100%",
            "_model_name": "FloatProgressModel",
            "bar_style": "success",
            "max": 257706,
            "_view_module": "@jupyter-widgets/controls",
            "_model_module_version": "1.5.0",
            "value": 257706,
            "_view_count": null,
            "_view_module_version": "1.5.0",
            "orientation": "horizontal",
            "min": 0,
            "description_tooltip": null,
            "_model_module": "@jupyter-widgets/controls",
            "layout": "IPY_MODEL_e6280118e5e647d2b2082c0bd69d3937"
          }
        },
        "ac38fd84a4a74f72ba1e847dac11ad20": {
          "model_module": "@jupyter-widgets/controls",
          "model_name": "HTMLModel",
          "state": {
            "_view_name": "HTMLView",
            "style": "IPY_MODEL_b7d97b7dfa03477eb23f4d52ddbef4ff",
            "_dom_classes": [],
            "description": "",
            "_model_name": "HTMLModel",
            "placeholder": "​",
            "_view_module": "@jupyter-widgets/controls",
            "_model_module_version": "1.5.0",
            "value": " 258k/258k [00:00&lt;00:00, 616kB/s]",
            "_view_count": null,
            "_view_module_version": "1.5.0",
            "description_tooltip": null,
            "_model_module": "@jupyter-widgets/controls",
            "layout": "IPY_MODEL_a2592d8e85484200872620ced91cae54"
          }
        },
        "ab30b1735a904e1d8bae9bfb92963d64": {
          "model_module": "@jupyter-widgets/controls",
          "model_name": "ProgressStyleModel",
          "state": {
            "_view_name": "StyleView",
            "_model_name": "ProgressStyleModel",
            "description_width": "initial",
            "_view_module": "@jupyter-widgets/base",
            "_model_module_version": "1.5.0",
            "_view_count": null,
            "_view_module_version": "1.2.0",
            "bar_color": null,
            "_model_module": "@jupyter-widgets/controls"
          }
        },
        "e6280118e5e647d2b2082c0bd69d3937": {
          "model_module": "@jupyter-widgets/base",
          "model_name": "LayoutModel",
          "state": {
            "_view_name": "LayoutView",
            "grid_template_rows": null,
            "right": null,
            "justify_content": null,
            "_view_module": "@jupyter-widgets/base",
            "overflow": null,
            "_model_module_version": "1.2.0",
            "_view_count": null,
            "flex_flow": null,
            "width": null,
            "min_width": null,
            "border": null,
            "align_items": null,
            "bottom": null,
            "_model_module": "@jupyter-widgets/base",
            "top": null,
            "grid_column": null,
            "overflow_y": null,
            "overflow_x": null,
            "grid_auto_flow": null,
            "grid_area": null,
            "grid_template_columns": null,
            "flex": null,
            "_model_name": "LayoutModel",
            "justify_items": null,
            "grid_row": null,
            "max_height": null,
            "align_content": null,
            "visibility": null,
            "align_self": null,
            "height": null,
            "min_height": null,
            "padding": null,
            "grid_auto_rows": null,
            "grid_gap": null,
            "max_width": null,
            "order": null,
            "_view_module_version": "1.2.0",
            "grid_template_areas": null,
            "object_position": null,
            "object_fit": null,
            "grid_auto_columns": null,
            "margin": null,
            "display": null,
            "left": null
          }
        },
        "b7d97b7dfa03477eb23f4d52ddbef4ff": {
          "model_module": "@jupyter-widgets/controls",
          "model_name": "DescriptionStyleModel",
          "state": {
            "_view_name": "StyleView",
            "_model_name": "DescriptionStyleModel",
            "description_width": "",
            "_view_module": "@jupyter-widgets/base",
            "_model_module_version": "1.5.0",
            "_view_count": null,
            "_view_module_version": "1.2.0",
            "_model_module": "@jupyter-widgets/controls"
          }
        },
        "a2592d8e85484200872620ced91cae54": {
          "model_module": "@jupyter-widgets/base",
          "model_name": "LayoutModel",
          "state": {
            "_view_name": "LayoutView",
            "grid_template_rows": null,
            "right": null,
            "justify_content": null,
            "_view_module": "@jupyter-widgets/base",
            "overflow": null,
            "_model_module_version": "1.2.0",
            "_view_count": null,
            "flex_flow": null,
            "width": null,
            "min_width": null,
            "border": null,
            "align_items": null,
            "bottom": null,
            "_model_module": "@jupyter-widgets/base",
            "top": null,
            "grid_column": null,
            "overflow_y": null,
            "overflow_x": null,
            "grid_auto_flow": null,
            "grid_area": null,
            "grid_template_columns": null,
            "flex": null,
            "_model_name": "LayoutModel",
            "justify_items": null,
            "grid_row": null,
            "max_height": null,
            "align_content": null,
            "visibility": null,
            "align_self": null,
            "height": null,
            "min_height": null,
            "padding": null,
            "grid_auto_rows": null,
            "grid_gap": null,
            "max_width": null,
            "order": null,
            "_view_module_version": "1.2.0",
            "grid_template_areas": null,
            "object_position": null,
            "object_fit": null,
            "grid_auto_columns": null,
            "margin": null,
            "display": null,
            "left": null
          }
        },
        "7e02ae62945843c3ba8a2f937ea809cc": {
          "model_module": "@jupyter-widgets/controls",
          "model_name": "HBoxModel",
          "state": {
            "_view_name": "HBoxView",
            "_dom_classes": [],
            "_model_name": "HBoxModel",
            "_view_module": "@jupyter-widgets/controls",
            "_model_module_version": "1.5.0",
            "_view_count": null,
            "_view_module_version": "1.5.0",
            "box_style": "",
            "layout": "IPY_MODEL_15537c066c844822a56f2c3c3c0bd696",
            "_model_module": "@jupyter-widgets/controls",
            "children": [
              "IPY_MODEL_c03f3dc4fadd415c8c4fef50c5cc6e78",
              "IPY_MODEL_399fe2b342f741e3b56af458b3519853"
            ]
          }
        },
        "15537c066c844822a56f2c3c3c0bd696": {
          "model_module": "@jupyter-widgets/base",
          "model_name": "LayoutModel",
          "state": {
            "_view_name": "LayoutView",
            "grid_template_rows": null,
            "right": null,
            "justify_content": null,
            "_view_module": "@jupyter-widgets/base",
            "overflow": null,
            "_model_module_version": "1.2.0",
            "_view_count": null,
            "flex_flow": null,
            "width": null,
            "min_width": null,
            "border": null,
            "align_items": null,
            "bottom": null,
            "_model_module": "@jupyter-widgets/base",
            "top": null,
            "grid_column": null,
            "overflow_y": null,
            "overflow_x": null,
            "grid_auto_flow": null,
            "grid_area": null,
            "grid_template_columns": null,
            "flex": null,
            "_model_name": "LayoutModel",
            "justify_items": null,
            "grid_row": null,
            "max_height": null,
            "align_content": null,
            "visibility": null,
            "align_self": null,
            "height": null,
            "min_height": null,
            "padding": null,
            "grid_auto_rows": null,
            "grid_gap": null,
            "max_width": null,
            "order": null,
            "_view_module_version": "1.2.0",
            "grid_template_areas": null,
            "object_position": null,
            "object_fit": null,
            "grid_auto_columns": null,
            "margin": null,
            "display": null,
            "left": null
          }
        },
        "c03f3dc4fadd415c8c4fef50c5cc6e78": {
          "model_module": "@jupyter-widgets/controls",
          "model_name": "FloatProgressModel",
          "state": {
            "_view_name": "ProgressView",
            "style": "IPY_MODEL_c46685ed030944b7a8260f3044d1b080",
            "_dom_classes": [],
            "description": "Downloading: 100%",
            "_model_name": "FloatProgressModel",
            "bar_style": "success",
            "max": 433,
            "_view_module": "@jupyter-widgets/controls",
            "_model_module_version": "1.5.0",
            "value": 433,
            "_view_count": null,
            "_view_module_version": "1.5.0",
            "orientation": "horizontal",
            "min": 0,
            "description_tooltip": null,
            "_model_module": "@jupyter-widgets/controls",
            "layout": "IPY_MODEL_957d934ca814466cb773eb3f093c469a"
          }
        },
        "399fe2b342f741e3b56af458b3519853": {
          "model_module": "@jupyter-widgets/controls",
          "model_name": "HTMLModel",
          "state": {
            "_view_name": "HTMLView",
            "style": "IPY_MODEL_5ebfc27ea7be47b29bffb23529934f2d",
            "_dom_classes": [],
            "description": "",
            "_model_name": "HTMLModel",
            "placeholder": "​",
            "_view_module": "@jupyter-widgets/controls",
            "_model_module_version": "1.5.0",
            "value": " 433/433 [00:07&lt;00:00, 61.3B/s]",
            "_view_count": null,
            "_view_module_version": "1.5.0",
            "description_tooltip": null,
            "_model_module": "@jupyter-widgets/controls",
            "layout": "IPY_MODEL_7a7b6e23277344429d9e5fa465b6b302"
          }
        },
        "c46685ed030944b7a8260f3044d1b080": {
          "model_module": "@jupyter-widgets/controls",
          "model_name": "ProgressStyleModel",
          "state": {
            "_view_name": "StyleView",
            "_model_name": "ProgressStyleModel",
            "description_width": "initial",
            "_view_module": "@jupyter-widgets/base",
            "_model_module_version": "1.5.0",
            "_view_count": null,
            "_view_module_version": "1.2.0",
            "bar_color": null,
            "_model_module": "@jupyter-widgets/controls"
          }
        },
        "957d934ca814466cb773eb3f093c469a": {
          "model_module": "@jupyter-widgets/base",
          "model_name": "LayoutModel",
          "state": {
            "_view_name": "LayoutView",
            "grid_template_rows": null,
            "right": null,
            "justify_content": null,
            "_view_module": "@jupyter-widgets/base",
            "overflow": null,
            "_model_module_version": "1.2.0",
            "_view_count": null,
            "flex_flow": null,
            "width": null,
            "min_width": null,
            "border": null,
            "align_items": null,
            "bottom": null,
            "_model_module": "@jupyter-widgets/base",
            "top": null,
            "grid_column": null,
            "overflow_y": null,
            "overflow_x": null,
            "grid_auto_flow": null,
            "grid_area": null,
            "grid_template_columns": null,
            "flex": null,
            "_model_name": "LayoutModel",
            "justify_items": null,
            "grid_row": null,
            "max_height": null,
            "align_content": null,
            "visibility": null,
            "align_self": null,
            "height": null,
            "min_height": null,
            "padding": null,
            "grid_auto_rows": null,
            "grid_gap": null,
            "max_width": null,
            "order": null,
            "_view_module_version": "1.2.0",
            "grid_template_areas": null,
            "object_position": null,
            "object_fit": null,
            "grid_auto_columns": null,
            "margin": null,
            "display": null,
            "left": null
          }
        },
        "5ebfc27ea7be47b29bffb23529934f2d": {
          "model_module": "@jupyter-widgets/controls",
          "model_name": "DescriptionStyleModel",
          "state": {
            "_view_name": "StyleView",
            "_model_name": "DescriptionStyleModel",
            "description_width": "",
            "_view_module": "@jupyter-widgets/base",
            "_model_module_version": "1.5.0",
            "_view_count": null,
            "_view_module_version": "1.2.0",
            "_model_module": "@jupyter-widgets/controls"
          }
        },
        "7a7b6e23277344429d9e5fa465b6b302": {
          "model_module": "@jupyter-widgets/base",
          "model_name": "LayoutModel",
          "state": {
            "_view_name": "LayoutView",
            "grid_template_rows": null,
            "right": null,
            "justify_content": null,
            "_view_module": "@jupyter-widgets/base",
            "overflow": null,
            "_model_module_version": "1.2.0",
            "_view_count": null,
            "flex_flow": null,
            "width": null,
            "min_width": null,
            "border": null,
            "align_items": null,
            "bottom": null,
            "_model_module": "@jupyter-widgets/base",
            "top": null,
            "grid_column": null,
            "overflow_y": null,
            "overflow_x": null,
            "grid_auto_flow": null,
            "grid_area": null,
            "grid_template_columns": null,
            "flex": null,
            "_model_name": "LayoutModel",
            "justify_items": null,
            "grid_row": null,
            "max_height": null,
            "align_content": null,
            "visibility": null,
            "align_self": null,
            "height": null,
            "min_height": null,
            "padding": null,
            "grid_auto_rows": null,
            "grid_gap": null,
            "max_width": null,
            "order": null,
            "_view_module_version": "1.2.0",
            "grid_template_areas": null,
            "object_position": null,
            "object_fit": null,
            "grid_auto_columns": null,
            "margin": null,
            "display": null,
            "left": null
          }
        },
        "51b9495a8fe0456c905d4c4187177022": {
          "model_module": "@jupyter-widgets/controls",
          "model_name": "HBoxModel",
          "state": {
            "_view_name": "HBoxView",
            "_dom_classes": [],
            "_model_name": "HBoxModel",
            "_view_module": "@jupyter-widgets/controls",
            "_model_module_version": "1.5.0",
            "_view_count": null,
            "_view_module_version": "1.5.0",
            "box_style": "",
            "layout": "IPY_MODEL_c2e5a2cd27ec43cca16b477cb40a29b9",
            "_model_module": "@jupyter-widgets/controls",
            "children": [
              "IPY_MODEL_8e799e3c17534946b7fd7161e46a92ed",
              "IPY_MODEL_dca3b8c6035b454a85319a347945ff9c"
            ]
          }
        },
        "c2e5a2cd27ec43cca16b477cb40a29b9": {
          "model_module": "@jupyter-widgets/base",
          "model_name": "LayoutModel",
          "state": {
            "_view_name": "LayoutView",
            "grid_template_rows": null,
            "right": null,
            "justify_content": null,
            "_view_module": "@jupyter-widgets/base",
            "overflow": null,
            "_model_module_version": "1.2.0",
            "_view_count": null,
            "flex_flow": null,
            "width": null,
            "min_width": null,
            "border": null,
            "align_items": null,
            "bottom": null,
            "_model_module": "@jupyter-widgets/base",
            "top": null,
            "grid_column": null,
            "overflow_y": null,
            "overflow_x": null,
            "grid_auto_flow": null,
            "grid_area": null,
            "grid_template_columns": null,
            "flex": null,
            "_model_name": "LayoutModel",
            "justify_items": null,
            "grid_row": null,
            "max_height": null,
            "align_content": null,
            "visibility": null,
            "align_self": null,
            "height": null,
            "min_height": null,
            "padding": null,
            "grid_auto_rows": null,
            "grid_gap": null,
            "max_width": null,
            "order": null,
            "_view_module_version": "1.2.0",
            "grid_template_areas": null,
            "object_position": null,
            "object_fit": null,
            "grid_auto_columns": null,
            "margin": null,
            "display": null,
            "left": null
          }
        },
        "8e799e3c17534946b7fd7161e46a92ed": {
          "model_module": "@jupyter-widgets/controls",
          "model_name": "FloatProgressModel",
          "state": {
            "_view_name": "ProgressView",
            "style": "IPY_MODEL_78c0c7d7fbfe4eddbbc4fb3306d2088a",
            "_dom_classes": [],
            "description": "Downloading: 100%",
            "_model_name": "FloatProgressModel",
            "bar_style": "success",
            "max": 445021143,
            "_view_module": "@jupyter-widgets/controls",
            "_model_module_version": "1.5.0",
            "value": 445021143,
            "_view_count": null,
            "_view_module_version": "1.5.0",
            "orientation": "horizontal",
            "min": 0,
            "description_tooltip": null,
            "_model_module": "@jupyter-widgets/controls",
            "layout": "IPY_MODEL_9762bb45839342068a093db23035ec17"
          }
        },
        "dca3b8c6035b454a85319a347945ff9c": {
          "model_module": "@jupyter-widgets/controls",
          "model_name": "HTMLModel",
          "state": {
            "_view_name": "HTMLView",
            "style": "IPY_MODEL_d64737bd118d4ce78d6aa3efa97d51b6",
            "_dom_classes": [],
            "description": "",
            "_model_name": "HTMLModel",
            "placeholder": "​",
            "_view_module": "@jupyter-widgets/controls",
            "_model_module_version": "1.5.0",
            "value": " 445M/445M [00:06&lt;00:00, 64.4MB/s]",
            "_view_count": null,
            "_view_module_version": "1.5.0",
            "description_tooltip": null,
            "_model_module": "@jupyter-widgets/controls",
            "layout": "IPY_MODEL_fd59400519cb422a8db7641bcb418990"
          }
        },
        "78c0c7d7fbfe4eddbbc4fb3306d2088a": {
          "model_module": "@jupyter-widgets/controls",
          "model_name": "ProgressStyleModel",
          "state": {
            "_view_name": "StyleView",
            "_model_name": "ProgressStyleModel",
            "description_width": "initial",
            "_view_module": "@jupyter-widgets/base",
            "_model_module_version": "1.5.0",
            "_view_count": null,
            "_view_module_version": "1.2.0",
            "bar_color": null,
            "_model_module": "@jupyter-widgets/controls"
          }
        },
        "9762bb45839342068a093db23035ec17": {
          "model_module": "@jupyter-widgets/base",
          "model_name": "LayoutModel",
          "state": {
            "_view_name": "LayoutView",
            "grid_template_rows": null,
            "right": null,
            "justify_content": null,
            "_view_module": "@jupyter-widgets/base",
            "overflow": null,
            "_model_module_version": "1.2.0",
            "_view_count": null,
            "flex_flow": null,
            "width": null,
            "min_width": null,
            "border": null,
            "align_items": null,
            "bottom": null,
            "_model_module": "@jupyter-widgets/base",
            "top": null,
            "grid_column": null,
            "overflow_y": null,
            "overflow_x": null,
            "grid_auto_flow": null,
            "grid_area": null,
            "grid_template_columns": null,
            "flex": null,
            "_model_name": "LayoutModel",
            "justify_items": null,
            "grid_row": null,
            "max_height": null,
            "align_content": null,
            "visibility": null,
            "align_self": null,
            "height": null,
            "min_height": null,
            "padding": null,
            "grid_auto_rows": null,
            "grid_gap": null,
            "max_width": null,
            "order": null,
            "_view_module_version": "1.2.0",
            "grid_template_areas": null,
            "object_position": null,
            "object_fit": null,
            "grid_auto_columns": null,
            "margin": null,
            "display": null,
            "left": null
          }
        },
        "d64737bd118d4ce78d6aa3efa97d51b6": {
          "model_module": "@jupyter-widgets/controls",
          "model_name": "DescriptionStyleModel",
          "state": {
            "_view_name": "StyleView",
            "_model_name": "DescriptionStyleModel",
            "description_width": "",
            "_view_module": "@jupyter-widgets/base",
            "_model_module_version": "1.5.0",
            "_view_count": null,
            "_view_module_version": "1.2.0",
            "_model_module": "@jupyter-widgets/controls"
          }
        },
        "fd59400519cb422a8db7641bcb418990": {
          "model_module": "@jupyter-widgets/base",
          "model_name": "LayoutModel",
          "state": {
            "_view_name": "LayoutView",
            "grid_template_rows": null,
            "right": null,
            "justify_content": null,
            "_view_module": "@jupyter-widgets/base",
            "overflow": null,
            "_model_module_version": "1.2.0",
            "_view_count": null,
            "flex_flow": null,
            "width": null,
            "min_width": null,
            "border": null,
            "align_items": null,
            "bottom": null,
            "_model_module": "@jupyter-widgets/base",
            "top": null,
            "grid_column": null,
            "overflow_y": null,
            "overflow_x": null,
            "grid_auto_flow": null,
            "grid_area": null,
            "grid_template_columns": null,
            "flex": null,
            "_model_name": "LayoutModel",
            "justify_items": null,
            "grid_row": null,
            "max_height": null,
            "align_content": null,
            "visibility": null,
            "align_self": null,
            "height": null,
            "min_height": null,
            "padding": null,
            "grid_auto_rows": null,
            "grid_gap": null,
            "max_width": null,
            "order": null,
            "_view_module_version": "1.2.0",
            "grid_template_areas": null,
            "object_position": null,
            "object_fit": null,
            "grid_auto_columns": null,
            "margin": null,
            "display": null,
            "left": null
          }
        }
      }
    }
  },
  "cells": [
    {
      "cell_type": "markdown",
      "metadata": {
        "id": "view-in-github",
        "colab_type": "text"
      },
      "source": [
        "<a href=\"https://colab.research.google.com/github/taishi-i/toiro/blob/develop/PyConJP2020/PyConJP2020_Online.ipynb\" target=\"_parent\"><img src=\"https://colab.research.google.com/assets/colab-badge.svg\" alt=\"Open In Colab\"/></a>"
      ]
    },
    {
      "cell_type": "markdown",
      "metadata": {
        "id": "RqcWKdewbUXm",
        "colab_type": "text"
      },
      "source": [
        "<p align=\"center\"><img width=\"40%\" src=\"https://github.com/taishi-i/toiro/blob/develop/PyConJP2020/PyConJP2020_Online.png?raw=1\" /></p>\n",
        "\n",
        "# 最先端自然言語処理ライブラリの最適な選択と有用な利用方法\n",
        "\n",
        "- 発表スケジュール: 2020/08/29 14:50-15:20 (30min)\n",
        "- 発表詳細: https://pycon.jp/2020/timetable/?id=203164\n",
        "- 発表スライド（Speaker Deck）: https://speakerdeck.com/taishii/pycon-jp-2020/\n",
        "\n",
        "この notebook では、発表スライドのサンプルコードを実行します。\n",
        "\n",
        "※ GPU を利用する場合（BERT モデルを学習する）は **ランタイム→ランタイムのタイプ変更→GPU** をオンにしてください。\n",
        "\n",
        "まずは、実行に必要なライブラリをインストールするため、次の pip install を実行します。"
      ]
    },
    {
      "cell_type": "code",
      "metadata": {
        "id": "DTiZnIN5rAuC",
        "colab_type": "code",
        "colab": {}
      },
      "source": [
        "!pip install toiro[all]"
      ],
      "execution_count": null,
      "outputs": []
    },
    {
      "cell_type": "markdown",
      "metadata": {
        "id": "qUGrxu09bsTk",
        "colab_type": "text"
      },
      "source": [
        "# 1. Python を利用した日本語自然言語処理"
      ]
    },
    {
      "cell_type": "markdown",
      "metadata": {
        "id": "361gw4CEb7M1",
        "colab_type": "text"
      },
      "source": [
        "## [Janome](https://github.com/mocobeta/janome) の利用方法\n",
        "\n"
      ]
    },
    {
      "cell_type": "markdown",
      "metadata": {
        "id": "4ucLaZcPd08I",
        "colab_type": "text"
      },
      "source": [
        "インストール方法"
      ]
    },
    {
      "cell_type": "code",
      "metadata": {
        "id": "qkjBYhlkdTgz",
        "colab_type": "code",
        "colab": {}
      },
      "source": [
        "!pip install Janome"
      ],
      "execution_count": null,
      "outputs": []
    },
    {
      "cell_type": "markdown",
      "metadata": {
        "id": "cyXiHYzxd78-",
        "colab_type": "text"
      },
      "source": [
        "実装方法"
      ]
    },
    {
      "cell_type": "code",
      "metadata": {
        "id": "ZPNLwOeUeCDG",
        "colab_type": "code",
        "colab": {
          "base_uri": "https://localhost:8080/",
          "height": 153
        },
        "outputId": "dc79ab7d-58f4-43ec-d757-a0977235dbb4"
      },
      "source": [
        "from janome.tokenizer import Tokenizer\n",
        "t = Tokenizer() # Initialize Janome\n",
        "text = \"Python で前処理を実行する\"\n",
        "for token in t.tokenize(text):\n",
        "    print(token)"
      ],
      "execution_count": 3,
      "outputs": [
        {
          "output_type": "stream",
          "text": [
            "Python\t名詞,固有名詞,組織,*,*,*,Python,*,*\n",
            " \t記号,空白,*,*,*,*, ,*,*\n",
            "で\t接続詞,*,*,*,*,*,で,デ,デ\n",
            "前\t接頭詞,名詞接続,*,*,*,*,前,ゼン,ゼン\n",
            "処理\t名詞,サ変接続,*,*,*,*,処理,ショリ,ショリ\n",
            "を\t助詞,格助詞,一般,*,*,*,を,ヲ,ヲ\n",
            "実行\t名詞,サ変接続,*,*,*,*,実行,ジッコウ,ジッコー\n",
            "する\t動詞,自立,*,*,サ変・スル,基本形,する,スル,スル\n"
          ],
          "name": "stdout"
        }
      ]
    },
    {
      "cell_type": "markdown",
      "metadata": {
        "id": "vcQ3_7mgeStj",
        "colab_type": "text"
      },
      "source": [
        "## [mecab-python3](https://github.com/SamuraiT/mecab-python3) の利用方法"
      ]
    },
    {
      "cell_type": "markdown",
      "metadata": {
        "id": "q8foG5lUeofZ",
        "colab_type": "text"
      },
      "source": [
        "インストール方法"
      ]
    },
    {
      "cell_type": "code",
      "metadata": {
        "id": "RmxXehOdeqDF",
        "colab_type": "code",
        "colab": {}
      },
      "source": [
        "!pip install mecab-python3==0.996.5"
      ],
      "execution_count": null,
      "outputs": []
    },
    {
      "cell_type": "markdown",
      "metadata": {
        "id": "94T57fH4fDpK",
        "colab_type": "text"
      },
      "source": [
        "実装方法"
      ]
    },
    {
      "cell_type": "code",
      "metadata": {
        "id": "mQhWrplsfGKz",
        "colab_type": "code",
        "colab": {
          "base_uri": "https://localhost:8080/",
          "height": 170
        },
        "outputId": "ff38e811-cea8-4d3b-b15d-985a8ba789f4"
      },
      "source": [
        "import MeCab\n",
        "\n",
        "tagger = MeCab.Tagger()\n",
        "text = 'Python で前処理を実行する'\n",
        "print(tagger.parse(text))"
      ],
      "execution_count": 5,
      "outputs": [
        {
          "output_type": "stream",
          "text": [
            "Python\t名詞,一般,*,*,*,*,*\n",
            "で\t助詞,格助詞,一般,*,*,*,で,デ,デ\n",
            "前\t接頭詞,名詞接続,*,*,*,*,前,ゼン,ゼン\n",
            "処理\t名詞,サ変接続,*,*,*,*,処理,ショリ,ショリ\n",
            "を\t助詞,格助詞,一般,*,*,*,を,ヲ,ヲ\n",
            "実行\t名詞,サ変接続,*,*,*,*,実行,ジッコウ,ジッコー\n",
            "する\t動詞,自立,*,*,サ変・スル,基本形,する,スル,スル\n",
            "EOS\n",
            "\n"
          ],
          "name": "stdout"
        }
      ]
    },
    {
      "cell_type": "markdown",
      "metadata": {
        "id": "Tc9fGMvsfUFj",
        "colab_type": "text"
      },
      "source": [
        "## [SudachiPy](https://github.com/WorksApplications/SudachiPy) の利用方法"
      ]
    },
    {
      "cell_type": "markdown",
      "metadata": {
        "id": "YCUVhsxcfac5",
        "colab_type": "text"
      },
      "source": [
        "インストール方法"
      ]
    },
    {
      "cell_type": "code",
      "metadata": {
        "id": "j6vPyu7BfYdG",
        "colab_type": "code",
        "colab": {}
      },
      "source": [
        "!pip install sudachipy sudachidict_core"
      ],
      "execution_count": null,
      "outputs": []
    },
    {
      "cell_type": "markdown",
      "metadata": {
        "id": "JccB5394fnMz",
        "colab_type": "text"
      },
      "source": [
        "実装方法"
      ]
    },
    {
      "cell_type": "code",
      "metadata": {
        "id": "8h8AkpV2frMF",
        "colab_type": "code",
        "colab": {
          "base_uri": "https://localhost:8080/",
          "height": 136
        },
        "outputId": "b571fbf9-8959-4035-fd67-0f6375f94674"
      },
      "source": [
        "import imp\n",
        "import pkg_resources\n",
        "imp.reload(pkg_resources)\n",
        "\n",
        "from sudachipy import tokenizer\n",
        "from sudachipy import dictionary\n",
        "\n",
        "tokenizer_obj = dictionary.Dictionary().create() # Initialize sudachipy\n",
        "mode = tokenizer.Tokenizer.SplitMode.C # C: 固有表現相当\n",
        "\n",
        "text = \"Python で前処理を実行する\"\n",
        "ms = tokenizer_obj.tokenize(text, mode)\n",
        "for m in ms:\n",
        "    print(m.surface(), m.dictionary_form(), m.reading_form(), m.part_of_speech())"
      ],
      "execution_count": 7,
      "outputs": [
        {
          "output_type": "stream",
          "text": [
            "Python python python ['名詞', '普通名詞', '一般', '*', '*', '*']\n",
            "    キゴウ ['空白', '*', '*', '*', '*', '*']\n",
            "で で デ ['接続詞', '*', '*', '*', '*', '*']\n",
            "前処理 前処理 マエショリ ['名詞', '普通名詞', '一般', '*', '*', '*']\n",
            "を を ヲ ['助詞', '格助詞', '*', '*', '*', '*']\n",
            "実行 実行 ジッコウ ['名詞', '普通名詞', 'サ変可能', '*', '*', '*']\n",
            "する する スル ['動詞', '非自立可能', '*', '*', 'サ行変格', '終止形-一般']\n"
          ],
          "name": "stdout"
        }
      ]
    },
    {
      "cell_type": "markdown",
      "metadata": {
        "id": "zMnX2NI6gUCl",
        "colab_type": "text"
      },
      "source": [
        "## [GiNZA](https://github.com/megagonlabs/ginza) の利用方法"
      ]
    },
    {
      "cell_type": "markdown",
      "metadata": {
        "id": "wfO5i2wIgfWB",
        "colab_type": "text"
      },
      "source": [
        "インストール方法"
      ]
    },
    {
      "cell_type": "code",
      "metadata": {
        "id": "uG77tI_Agj0q",
        "colab_type": "code",
        "colab": {}
      },
      "source": [
        "!pip install spacy ginza"
      ],
      "execution_count": null,
      "outputs": []
    },
    {
      "cell_type": "markdown",
      "metadata": {
        "id": "F2DtNXNwghN0",
        "colab_type": "text"
      },
      "source": [
        "実装方法"
      ]
    },
    {
      "cell_type": "code",
      "metadata": {
        "id": "gGSRZKXzgsnV",
        "colab_type": "code",
        "colab": {
          "base_uri": "https://localhost:8080/",
          "height": 119
        },
        "outputId": "23b0b23f-e692-4399-b574-fd9d38467044"
      },
      "source": [
        "import imp\n",
        "import pkg_resources\n",
        "imp.reload(pkg_resources)\n",
        "\n",
        "import spacy\n",
        "nlp = spacy.load('ja_ginza')\n",
        "text = 'Python で前処理を実行する'\n",
        "tokens = nlp(text)\n",
        "for token in tokens:\n",
        "    print(token, token.tag_,  token.dep_, token.head.i)"
      ],
      "execution_count": 9,
      "outputs": [
        {
          "output_type": "stream",
          "text": [
            "Python 名詞-普通名詞-一般 obl 4\n",
            "で 接続詞 case 0\n",
            "前処理 名詞-普通名詞-一般 obj 4\n",
            "を 助詞-格助詞 case 2\n",
            "実行 名詞-普通名詞-サ変可能 ROOT 4\n",
            "する 動詞-非自立可能 aux 4\n"
          ],
          "name": "stdout"
        }
      ]
    },
    {
      "cell_type": "markdown",
      "metadata": {
        "id": "7iAC_HKmjbCG",
        "colab_type": "text"
      },
      "source": [
        "## [nagisa](https://github.com/taishi-i/nagisa) の利用方法"
      ]
    },
    {
      "cell_type": "markdown",
      "metadata": {
        "id": "XJFuOxf3jk8Z",
        "colab_type": "text"
      },
      "source": [
        "インストール方法"
      ]
    },
    {
      "cell_type": "code",
      "metadata": {
        "id": "-oVdfTWCjo40",
        "colab_type": "code",
        "colab": {}
      },
      "source": [
        "!pip install nagisa"
      ],
      "execution_count": null,
      "outputs": []
    },
    {
      "cell_type": "markdown",
      "metadata": {
        "id": "flFDiEiijlQz",
        "colab_type": "text"
      },
      "source": [
        "実装方法"
      ]
    },
    {
      "cell_type": "code",
      "metadata": {
        "id": "Wr8NLD9ZjvzA",
        "colab_type": "code",
        "colab": {
          "base_uri": "https://localhost:8080/",
          "height": 68
        },
        "outputId": "dfd01e21-428d-4e9a-e9e3-84ce3368f5cb"
      },
      "source": [
        "import nagisa\n",
        "text = 'Python で前処理を実行する'\n",
        "tokens = nagisa.tagging(text)\n",
        "print(tokens)\n",
        "print(tokens.words)\n",
        "print(tokens.postags)"
      ],
      "execution_count": 11,
      "outputs": [
        {
          "output_type": "stream",
          "text": [
            "Python/名詞 　/空白 で/助詞 前/名詞 処理/名詞 を/助詞 実行/名詞 する/動詞\n",
            "['Python', '\\u3000', 'で', '前', '処理', 'を', '実行', 'する']\n",
            "['名詞', '空白', '助詞', '名詞', '名詞', '助詞', '名詞', '動詞']\n"
          ],
          "name": "stdout"
        }
      ]
    },
    {
      "cell_type": "markdown",
      "metadata": {
        "id": "gviuYO6BkspU",
        "colab_type": "text"
      },
      "source": [
        "## [SentencePiece](https://github.com/google/sentencepiece) の利用方法\n"
      ]
    },
    {
      "cell_type": "markdown",
      "metadata": {
        "id": "YfXdKSK4k6A9",
        "colab_type": "text"
      },
      "source": [
        "インストール方法"
      ]
    },
    {
      "cell_type": "code",
      "metadata": {
        "id": "TzPdVB5yk-Xh",
        "colab_type": "code",
        "colab": {}
      },
      "source": [
        "!pip install sentencepiece"
      ],
      "execution_count": null,
      "outputs": []
    },
    {
      "cell_type": "markdown",
      "metadata": {
        "id": "NvsuOnkclEbf",
        "colab_type": "text"
      },
      "source": [
        "モデルのダウンロード"
      ]
    },
    {
      "cell_type": "code",
      "metadata": {
        "id": "PXrjnsBylGz3",
        "colab_type": "code",
        "colab": {}
      },
      "source": [
        "!wget https://github.com/taishi-i/toiro/raw/master/toiro/tokenizers/data/ja.text8.txt.spm.model\n",
        "!wget https://github.com/taishi-i/toiro/blob/master/toiro/tokenizers/data/ja.text8.txt.spm.vocab"
      ],
      "execution_count": null,
      "outputs": []
    },
    {
      "cell_type": "markdown",
      "metadata": {
        "id": "jvR6KKLEk51R",
        "colab_type": "text"
      },
      "source": [
        "実装方法"
      ]
    },
    {
      "cell_type": "code",
      "metadata": {
        "id": "Zkgm8mN2lCw1",
        "colab_type": "code",
        "colab": {
          "base_uri": "https://localhost:8080/",
          "height": 51
        },
        "outputId": "0e4a1b24-eefa-4138-ab4d-9af4524877e2"
      },
      "source": [
        "import sentencepiece as spm\n",
        "sp = spm.SentencePieceProcessor()\n",
        "sp.load(f\"ja.text8.txt.spm.model\")\n",
        "text = 'Python で前処理を実行する'\n",
        "pieces = sp.encode_as_pieces(text)\n",
        "print(pieces)\n",
        "ids = sp.encode_as_ids(text)\n",
        "print(ids)"
      ],
      "execution_count": 14,
      "outputs": [
        {
          "output_type": "stream",
          "text": [
            "['▁', 'P', 'y', 'th', 'on', '▁', 'で', '前', '処理', 'を', '実行', 'する']\n",
            "[5, 0, 210, 1040, 905, 5, 14, 144, 2828, 7, 3749, 22]\n"
          ],
          "name": "stdout"
        }
      ]
    },
    {
      "cell_type": "markdown",
      "metadata": {
        "colab_type": "text",
        "id": "faVVTrgikFUo"
      },
      "source": [
        "## [KyTea](https://github.com/neubig/kytea) の利用方法（本体のインストールが必要）"
      ]
    },
    {
      "cell_type": "markdown",
      "metadata": {
        "colab_type": "text",
        "id": "VKfXzlCJkFUs"
      },
      "source": [
        "インストール方法"
      ]
    },
    {
      "cell_type": "code",
      "metadata": {
        "colab_type": "code",
        "id": "_3FfuMVskFUu",
        "colab": {}
      },
      "source": [
        "pip install kytea"
      ],
      "execution_count": null,
      "outputs": []
    },
    {
      "cell_type": "markdown",
      "metadata": {
        "colab_type": "text",
        "id": "ORC2p2O3kFU8"
      },
      "source": [
        "実装方法"
      ]
    },
    {
      "cell_type": "code",
      "metadata": {
        "colab_type": "code",
        "id": "_YL4EZ-dkFU9",
        "colab": {}
      },
      "source": [
        "# import Mykytea\n",
        "# mk = Mykytea.Mykytea('')\n",
        "# text = 'Python で前処理を実行する'\n",
        "# tokens = mk.getTagsToString(text)\n",
        "# print(tokens)"
      ],
      "execution_count": 16,
      "outputs": []
    },
    {
      "cell_type": "markdown",
      "metadata": {
        "id": "B4A1ikHPiqzc",
        "colab_type": "text"
      },
      "source": [
        "## [Juman++ v2](https://github.com/ku-nlp/jumanpp) の利用方法（本体のインストールが必要）"
      ]
    },
    {
      "cell_type": "markdown",
      "metadata": {
        "id": "in2ou8m6jBWp",
        "colab_type": "text"
      },
      "source": [
        "インストール方法"
      ]
    },
    {
      "cell_type": "code",
      "metadata": {
        "id": "lof_UiVUjDkU",
        "colab_type": "code",
        "colab": {}
      },
      "source": [
        "pip install pyknp"
      ],
      "execution_count": null,
      "outputs": []
    },
    {
      "cell_type": "markdown",
      "metadata": {
        "id": "0Fm2Brw0jFZM",
        "colab_type": "text"
      },
      "source": [
        "実装方法"
      ]
    },
    {
      "cell_type": "code",
      "metadata": {
        "id": "78jj0tozjIZ6",
        "colab_type": "code",
        "colab": {}
      },
      "source": [
        "# from pyknp import Juman\n",
        "# jumanpp = Juman() # default is JUMAN++\n",
        "# text = 'Python で前処理を実行する'\n",
        "# tokens = jumanpp.analysis(text)\n",
        "# for mrph in tokens.mrph_list():\n",
        "#   print(mrph.midasi, mrph.yomi, mrph.genkei, mrph.hinsi, mrph.bunrui, mrph.katuyou1, mrph.katuyou2, mrph.imis, mrph.repname)"
      ],
      "execution_count": 18,
      "outputs": []
    },
    {
      "cell_type": "markdown",
      "metadata": {
        "id": "tB2kzLdGlu9w",
        "colab_type": "text"
      },
      "source": [
        "## [形態素解析器比較ライブラリ toiro](https://github.com/taishi-i/toiro) の利用方法"
      ]
    },
    {
      "cell_type": "markdown",
      "metadata": {
        "id": "qgZSwmsXl-LQ",
        "colab_type": "text"
      },
      "source": [
        "インストール方法"
      ]
    },
    {
      "cell_type": "code",
      "metadata": {
        "id": "BPUIpDX_l6AN",
        "colab_type": "code",
        "colab": {}
      },
      "source": [
        "!pip install toiro[all_tokenizers]"
      ],
      "execution_count": null,
      "outputs": []
    },
    {
      "cell_type": "markdown",
      "metadata": {
        "id": "zOLGsjhpmAgA",
        "colab_type": "text"
      },
      "source": [
        "実装方法"
      ]
    },
    {
      "cell_type": "code",
      "metadata": {
        "id": "rrspNXK1mCC2",
        "colab_type": "code",
        "colab": {
          "base_uri": "https://localhost:8080/",
          "height": 343
        },
        "outputId": "946c7e8e-5039-490f-f989-a72b656a0e1e"
      },
      "source": [
        "from toiro import tokenizers\n",
        "from toiro import datadownloader\n",
        "\n",
        "corpus = 'livedoor_news_corpus'\n",
        "datadownloader.download_corpus(corpus)\n",
        "train_df, dev_df, test_df = datadownloader.load_corpus(corpus)\n",
        "texts = train_df[1]\n",
        "\n",
        "report = tokenizers.compare(texts)\n",
        "print(report)"
      ],
      "execution_count": 20,
      "outputs": [
        {
          "output_type": "stream",
          "text": [
            "PyTorch version 1.6.0+cu101 available.\n",
            "TensorFlow version 2.3.0 available.\n",
            "Downloading ldcc-20140209.tar.gz from https://www.rondhuit.com/download/ldcc-20140209.tar.gz: 31.6MB [00:06, 5.19MB/s]\n",
            "100%|██████████| 5900/5900 [00:00<00:00, 43776.15it/s]\n",
            "  0%|          | 0/5900 [00:00<?, ?it/s]"
          ],
          "name": "stderr"
        },
        {
          "output_type": "stream",
          "text": [
            "[1/7] Tokenizer: mecab-python3\n",
            "[2/7] Tokenizer: janome\n"
          ],
          "name": "stdout"
        },
        {
          "output_type": "stream",
          "text": [
            "100%|██████████| 5900/5900 [00:12<00:00, 488.81it/s]\n",
            "  0%|          | 25/5900 [00:00<00:23, 246.77it/s]"
          ],
          "name": "stderr"
        },
        {
          "output_type": "stream",
          "text": [
            "[3/7] Tokenizer: nagisa\n"
          ],
          "name": "stdout"
        },
        {
          "output_type": "stream",
          "text": [
            "100%|██████████| 5900/5900 [00:23<00:00, 252.16it/s]\n",
            "  1%|          | 53/5900 [00:00<00:11, 523.12it/s]"
          ],
          "name": "stderr"
        },
        {
          "output_type": "stream",
          "text": [
            "[4/7] Tokenizer: sudachipy\n"
          ],
          "name": "stdout"
        },
        {
          "output_type": "stream",
          "text": [
            "100%|██████████| 5900/5900 [00:13<00:00, 428.29it/s]\n",
            "  1%|          | 39/5900 [00:00<00:15, 387.60it/s]"
          ],
          "name": "stderr"
        },
        {
          "output_type": "stream",
          "text": [
            "[5/7] Tokenizer: spacy\n"
          ],
          "name": "stdout"
        },
        {
          "output_type": "stream",
          "text": [
            "100%|██████████| 5900/5900 [00:16<00:00, 351.37it/s]\n",
            "  1%|          | 37/5900 [00:00<00:16, 365.74it/s]"
          ],
          "name": "stderr"
        },
        {
          "output_type": "stream",
          "text": [
            "[6/7] Tokenizer: ginza\n"
          ],
          "name": "stdout"
        },
        {
          "output_type": "stream",
          "text": [
            "100%|██████████| 5900/5900 [00:17<00:00, 336.85it/s]\n",
            "100%|██████████| 5900/5900 [00:00<00:00, 57115.67it/s]"
          ],
          "name": "stderr"
        },
        {
          "output_type": "stream",
          "text": [
            "[7/7] Tokenizer: sentencepiece\n",
            "{'execution_environment': {'python_version': '3.6.9.final.0 (64 bit)', 'arch': 'X86_64', 'brand_raw': 'Intel(R) Xeon(R) CPU @ 2.00GHz', 'count': 2}, 'data': {'number_of_sentences': 5900, 'average_length': 37.56135593220339}, 'mecab-python3': {'elapsed_time': 0.1383678913116455}, 'janome': {'elapsed_time': 12.070675373077393}, 'nagisa': {'elapsed_time': 23.39819049835205}, 'sudachipy': {'elapsed_time': 13.77612829208374}, 'spacy': {'elapsed_time': 16.7920880317688}, 'ginza': {'elapsed_time': 17.515549898147583}, 'sentencepiece': {'elapsed_time': 0.10472822189331055}}\n"
          ],
          "name": "stdout"
        },
        {
          "output_type": "stream",
          "text": [
            "\n"
          ],
          "name": "stderr"
        }
      ]
    },
    {
      "cell_type": "markdown",
      "metadata": {
        "id": "SzaB4Z0TmsEn",
        "colab_type": "text"
      },
      "source": [
        "# 2. 映画のユーザーレビューを利用したテキスト分類モデルの実装"
      ]
    },
    {
      "cell_type": "markdown",
      "metadata": {
        "id": "3FzxDsJ4nBjz",
        "colab_type": "text"
      },
      "source": [
        "## 検証用データセット：Yahoo Movie Reviews"
      ]
    },
    {
      "cell_type": "markdown",
      "metadata": {
        "id": "1dqc3ij5nJil",
        "colab_type": "text"
      },
      "source": [
        "ライブラリのインストール"
      ]
    },
    {
      "cell_type": "code",
      "metadata": {
        "id": "XJ1bqriVnNC3",
        "colab_type": "code",
        "colab": {}
      },
      "source": [
        "!pip install toiro"
      ],
      "execution_count": null,
      "outputs": []
    },
    {
      "cell_type": "markdown",
      "metadata": {
        "id": "iBHhD91hnR1Y",
        "colab_type": "text"
      },
      "source": [
        "コーパスのダウンロード"
      ]
    },
    {
      "cell_type": "code",
      "metadata": {
        "id": "SDwTooOLnTld",
        "colab_type": "code",
        "colab": {
          "base_uri": "https://localhost:8080/",
          "height": 292
        },
        "outputId": "74379e28-0787-454e-fdd7-24b01222c782"
      },
      "source": [
        "from toiro import datadownloader\n",
        "corpus = 'yahoo_movie_reviews'\n",
        "datadownloader.download_corpus(corpus)\n",
        "train_df, dev_df, test_df = datadownloader.load_corpus(corpus, n=12500)\n",
        "print(train_df)"
      ],
      "execution_count": 22,
      "outputs": [
        {
          "output_type": "stream",
          "text": [
            "Downloading yahoo-movie-reviews.json.tar.gz from https://media.githubusercontent.com/media/dennybritz/sentiment-analysis/master/data/yahoo-movie-reviews.json.tar.gz: 100%|██████████| 37.6M/37.6M [00:00<00:00, 114MB/s] \n"
          ],
          "name": "stderr"
        },
        {
          "output_type": "stream",
          "text": [
            "      0                                                  1\n",
            "0     0  笠原郁(榮倉奈々)は、高校時代に助けてくれた図書隊員の“王子様”に憧れて入隊する。顔を憶えて...\n",
            "1     0  原作を読んでいないので、映画を見た批評です。出会い系サイトでの出会い現代社会ではそういったネ...\n",
            "2     0                             CGは相当すごいが筋や演出は期待はずれかな。\n",
            "3     0  「ギャグを散りばめるのはいいけど、一本筋くらい通せよ。真面目なとこは真面目に、笑わせるとこは...\n",
            "4     0  一体、この映画に感動し涙を流した観客は、この映画の何処に感動したのだろうか？史実としての大東...\n",
            "...  ..                                                ...\n",
            "9995  1  今となればちょっと鮮度は落ちたけど、話題になったので一度は見ておきたいなーという方が多いと思...\n",
            "9996  1  前作の「京都大火編」が助走といえるほど、本作は最初から最後までアクションが満載です。原作を全...\n",
            "9997  0           腐れ反日思想の腐った駄作。恥を知れ！クズのボケが。ゴキブリがウヨウヨ気持ち悪い。\n",
            "9998  1  人の集中力は、90分しか持たないと聞いたことがある。騙し騙しでがんばっても、せいぜい2時間が...\n",
            "9999  1  これまで観た映画の中で最も恐ろしい映画だ。ホラー映画（嫌いだからほとんど観たことはない）とは...\n",
            "\n",
            "[10000 rows x 2 columns]\n"
          ],
          "name": "stdout"
        }
      ]
    },
    {
      "cell_type": "markdown",
      "metadata": {
        "id": "k3miAgq3nuG3",
        "colab_type": "text"
      },
      "source": [
        "## [scikit-learn](https://github.com/scikit-learn/scikit-learn) の利用方法\n"
      ]
    },
    {
      "cell_type": "markdown",
      "metadata": {
        "id": "02r5U_JVoNDr",
        "colab_type": "text"
      },
      "source": [
        "インストール方法"
      ]
    },
    {
      "cell_type": "code",
      "metadata": {
        "id": "N3gcYAvfoLQJ",
        "colab_type": "code",
        "colab": {}
      },
      "source": [
        "!pip install scikit-learn"
      ],
      "execution_count": null,
      "outputs": []
    },
    {
      "cell_type": "markdown",
      "metadata": {
        "id": "Zs2AgcyBoujc",
        "colab_type": "text"
      },
      "source": [
        "コーパスダウンロード用ライブラリのインストール"
      ]
    },
    {
      "cell_type": "code",
      "metadata": {
        "id": "sCXaDfzDox0T",
        "colab_type": "code",
        "colab": {}
      },
      "source": [
        "!pip install toiro"
      ],
      "execution_count": null,
      "outputs": []
    },
    {
      "cell_type": "markdown",
      "metadata": {
        "id": "xdJmYlkloZ4i",
        "colab_type": "text"
      },
      "source": [
        "実装方法"
      ]
    },
    {
      "cell_type": "code",
      "metadata": {
        "id": "U7ef4Oawoc6J",
        "colab_type": "code",
        "colab": {
          "base_uri": "https://localhost:8080/",
          "height": 187
        },
        "outputId": "310153a7-b68f-4180-8b72-a3ce5cfeda6d"
      },
      "source": [
        "from toiro import tokenizers\n",
        "from toiro import datadownloader\n",
        "from sklearn.feature_extraction.text import TfidfVectorizer\n",
        "\n",
        "corpus = 'yahoo_movie_reviews'\n",
        "train_df, dev_df, test_df = datadownloader.load_corpus(corpus, n=12500)\n",
        "tokenize_janome = tokenizers.tokenize_janome\n",
        "tfidf_extracter = TfidfVectorizer(ngram_range=(1, 2), tokenizer=tokenize_janome, max_df=0.9, min_df=3, sublinear_tf=1)\n",
        "train_texts = train_df[1]\n",
        "train_X = tfidf_extracter.fit_transform(train_texts)\n",
        "\n",
        "text = \"とても良い作品でした。\"\n",
        "x = tfidf_extracter.transform([text])\n",
        "print(x.toarray())\n",
        "print(x)"
      ],
      "execution_count": 25,
      "outputs": [
        {
          "output_type": "stream",
          "text": [
            "[[0. 0. 0. ... 0. 0. 0.]]\n",
            "  (0, 82076)\t0.514308329463325\n",
            "  (0, 82033)\t0.28160641839600237\n",
            "  (0, 55430)\t0.38687226972136557\n",
            "  (0, 55412)\t0.19207036483503126\n",
            "  (0, 26101)\t0.5550955457160239\n",
            "  (0, 26030)\t0.28642855817395746\n",
            "  (0, 23958)\t0.1805941673948253\n",
            "  (0, 23957)\t0.18013775937766935\n",
            "  (0, 18920)\t0.11994723745704498\n"
          ],
          "name": "stdout"
        }
      ]
    },
    {
      "cell_type": "markdown",
      "metadata": {
        "id": "UAIZcfDdo_BD",
        "colab_type": "text"
      },
      "source": [
        "## [toiro](https://github.com/taishi-i/toiro) によるテキスト文書モデル（SVM）の学習"
      ]
    },
    {
      "cell_type": "markdown",
      "metadata": {
        "id": "4wysy91DpJ00",
        "colab_type": "text"
      },
      "source": [
        "インストール方法"
      ]
    },
    {
      "cell_type": "code",
      "metadata": {
        "id": "byZSDE8JpQu0",
        "colab_type": "code",
        "colab": {}
      },
      "source": [
        "!pip install toiro\n",
        "!pip install mecab-python3==0.996.5"
      ],
      "execution_count": null,
      "outputs": []
    },
    {
      "cell_type": "markdown",
      "metadata": {
        "id": "X7XN48tspJkL",
        "colab_type": "text"
      },
      "source": [
        "実装方法"
      ]
    },
    {
      "cell_type": "code",
      "metadata": {
        "id": "tLydXlBnpGRp",
        "colab_type": "code",
        "colab": {
          "base_uri": "https://localhost:8080/",
          "height": 238
        },
        "outputId": "33ba9c6f-a133-4d71-becb-67c23044b1cb"
      },
      "source": [
        "from toiro import classifiers\n",
        "from toiro import datadownloader\n",
        "\n",
        "corpus = 'yahoo_movie_reviews'\n",
        "train_df, dev_df, test_df = datadownloader.load_corpus(corpus, n=12500)\n",
        "model = classifiers.SVMClassificationModel(tokenizer='mecab-python3')                                                                                                                                   \n",
        "model.fit(train_df, dev_df)\n",
        "\n",
        "text = \"とても良い作品でした。\"                                                                                            \n",
        "pred_y = model.predict(text)\n",
        "print(pred_y)\n",
        "\n",
        "result = model.eval(test_df)\n",
        "print(result)"
      ],
      "execution_count": 27,
      "outputs": [
        {
          "output_type": "stream",
          "text": [
            "1\n",
            "accuracy_score: 0.9088\n",
            "macro_f1_score: 0.9087663676337645\n",
            "classification_report:               precision    recall  f1-score   support\n",
            "\n",
            "           0       0.93      0.90      0.91       647\n",
            "           1       0.89      0.92      0.91       603\n",
            "\n",
            "    accuracy                           0.91      1250\n",
            "   macro avg       0.91      0.91      0.91      1250\n",
            "weighted avg       0.91      0.91      0.91      1250\n",
            "\n",
            "elapsed_time: 6.242433309555054\n"
          ],
          "name": "stdout"
        }
      ]
    },
    {
      "cell_type": "markdown",
      "metadata": {
        "id": "axBuyT4hpjg8",
        "colab_type": "text"
      },
      "source": [
        "## [Transformers](https://github.com/huggingface/transformers) の利用方法"
      ]
    },
    {
      "cell_type": "markdown",
      "metadata": {
        "id": "FH2I5BAHpuCm",
        "colab_type": "text"
      },
      "source": [
        "インストール方法"
      ]
    },
    {
      "cell_type": "code",
      "metadata": {
        "id": "UyM1Cx7OpvnX",
        "colab_type": "code",
        "colab": {}
      },
      "source": [
        "!pip install torch transformers"
      ],
      "execution_count": null,
      "outputs": []
    },
    {
      "cell_type": "markdown",
      "metadata": {
        "id": "0-Jm2kfWp3ey",
        "colab_type": "text"
      },
      "source": [
        "実装方法"
      ]
    },
    {
      "cell_type": "code",
      "metadata": {
        "id": "GetrLxwDp5VZ",
        "colab_type": "code",
        "colab": {
          "base_uri": "https://localhost:8080/",
          "height": 1000,
          "referenced_widgets": [
            "5f341434233f451295b1fad1506b20b3",
            "4b6d89272063491ea0e2007999bccbf6",
            "6d1812fa28da4b64906e1a30bb6e1232",
            "ac38fd84a4a74f72ba1e847dac11ad20",
            "ab30b1735a904e1d8bae9bfb92963d64",
            "e6280118e5e647d2b2082c0bd69d3937",
            "b7d97b7dfa03477eb23f4d52ddbef4ff",
            "a2592d8e85484200872620ced91cae54",
            "7e02ae62945843c3ba8a2f937ea809cc",
            "15537c066c844822a56f2c3c3c0bd696",
            "c03f3dc4fadd415c8c4fef50c5cc6e78",
            "399fe2b342f741e3b56af458b3519853",
            "c46685ed030944b7a8260f3044d1b080",
            "957d934ca814466cb773eb3f093c469a",
            "5ebfc27ea7be47b29bffb23529934f2d",
            "7a7b6e23277344429d9e5fa465b6b302",
            "51b9495a8fe0456c905d4c4187177022",
            "c2e5a2cd27ec43cca16b477cb40a29b9",
            "8e799e3c17534946b7fd7161e46a92ed",
            "dca3b8c6035b454a85319a347945ff9c",
            "78c0c7d7fbfe4eddbbc4fb3306d2088a",
            "9762bb45839342068a093db23035ec17",
            "d64737bd118d4ce78d6aa3efa97d51b6",
            "fd59400519cb422a8db7641bcb418990"
          ]
        },
        "outputId": "3c715a23-96f5-4330-de2a-2ecfca1837b0"
      },
      "source": [
        "import torch                                                                    \n",
        "\n",
        "from transformers.tokenization_bert_japanese import BertJapaneseTokenizer          \n",
        "from transformers import BertModel                                                                                                                    \n",
        "\n",
        "model_name = \"cl-tohoku/bert-base-japanese-whole-word-masking\"                  \n",
        "tokenizer = BertJapaneseTokenizer.from_pretrained(model_name)                   \n",
        "model = BertModel.from_pretrained(model_name)                                                        \n",
        "input_batch = [\"とても良い作品でした。\"]                                                                                                                      \n",
        "encoded_data = tokenizer.batch_encode_plus(input_batch, pad_to_max_length=True, add_special_tokens=True)                                                                \n",
        "input_ids = torch.tensor(encoded_data[\"input_ids\"])                             \n",
        "outputs = model(input_ids)                                                      \n",
        "last_hidden_states = outputs[0]                                                 \n",
        "sentence_vec = last_hidden_states[:, 0, :]\n",
        "print(sentence_vec)"
      ],
      "execution_count": 29,
      "outputs": [
        {
          "output_type": "stream",
          "text": [
            "Lock 140662673516192 acquired on /root/.cache/torch/transformers/72ee6ecba54b20bba483760db4f23b836f27a6afda54ede38c488e8514bb3705.5fac9da4d8565963664ed9744688dc7008ff5ec4045f604e9515896f9fe46d9c.lock\n",
            "https://s3.amazonaws.com/models.huggingface.co/bert/cl-tohoku/bert-base-japanese-whole-word-masking/vocab.txt not found in cache or force_download set to True, downloading to /root/.cache/torch/transformers/tmpgtyub9ej\n"
          ],
          "name": "stderr"
        },
        {
          "output_type": "display_data",
          "data": {
            "application/vnd.jupyter.widget-view+json": {
              "model_id": "5f341434233f451295b1fad1506b20b3",
              "version_minor": 0,
              "version_major": 2
            },
            "text/plain": [
              "HBox(children=(FloatProgress(value=0.0, description='Downloading', max=257706.0, style=ProgressStyle(descripti…"
            ]
          },
          "metadata": {
            "tags": []
          }
        },
        {
          "output_type": "stream",
          "text": [
            "storing https://s3.amazonaws.com/models.huggingface.co/bert/cl-tohoku/bert-base-japanese-whole-word-masking/vocab.txt in cache at /root/.cache/torch/transformers/72ee6ecba54b20bba483760db4f23b836f27a6afda54ede38c488e8514bb3705.5fac9da4d8565963664ed9744688dc7008ff5ec4045f604e9515896f9fe46d9c\n",
            "creating metadata file for /root/.cache/torch/transformers/72ee6ecba54b20bba483760db4f23b836f27a6afda54ede38c488e8514bb3705.5fac9da4d8565963664ed9744688dc7008ff5ec4045f604e9515896f9fe46d9c\n",
            "Lock 140662673516192 released on /root/.cache/torch/transformers/72ee6ecba54b20bba483760db4f23b836f27a6afda54ede38c488e8514bb3705.5fac9da4d8565963664ed9744688dc7008ff5ec4045f604e9515896f9fe46d9c.lock\n",
            "loading file https://s3.amazonaws.com/models.huggingface.co/bert/cl-tohoku/bert-base-japanese-whole-word-masking/vocab.txt from cache at /root/.cache/torch/transformers/72ee6ecba54b20bba483760db4f23b836f27a6afda54ede38c488e8514bb3705.5fac9da4d8565963664ed9744688dc7008ff5ec4045f604e9515896f9fe46d9c\n"
          ],
          "name": "stderr"
        },
        {
          "output_type": "stream",
          "text": [
            "\n"
          ],
          "name": "stdout"
        },
        {
          "output_type": "stream",
          "text": [
            "Lock 140662673614160 acquired on /root/.cache/torch/transformers/c96f5e731b9f4dc2e8263336947ec74b6f93917c0b9db6e9cf974a8a945dd313.48bc8d0b377948cc990335b8cccbcce084039c1b792bea3d0da671abfc6a3fe5.lock\n",
            "https://s3.amazonaws.com/models.huggingface.co/bert/cl-tohoku/bert-base-japanese-whole-word-masking/config.json not found in cache or force_download set to True, downloading to /root/.cache/torch/transformers/tmp9pe3o455\n"
          ],
          "name": "stderr"
        },
        {
          "output_type": "display_data",
          "data": {
            "application/vnd.jupyter.widget-view+json": {
              "model_id": "7e02ae62945843c3ba8a2f937ea809cc",
              "version_minor": 0,
              "version_major": 2
            },
            "text/plain": [
              "HBox(children=(FloatProgress(value=0.0, description='Downloading', max=433.0, style=ProgressStyle(description_…"
            ]
          },
          "metadata": {
            "tags": []
          }
        },
        {
          "output_type": "stream",
          "text": [
            "storing https://s3.amazonaws.com/models.huggingface.co/bert/cl-tohoku/bert-base-japanese-whole-word-masking/config.json in cache at /root/.cache/torch/transformers/c96f5e731b9f4dc2e8263336947ec74b6f93917c0b9db6e9cf974a8a945dd313.48bc8d0b377948cc990335b8cccbcce084039c1b792bea3d0da671abfc6a3fe5\n",
            "creating metadata file for /root/.cache/torch/transformers/c96f5e731b9f4dc2e8263336947ec74b6f93917c0b9db6e9cf974a8a945dd313.48bc8d0b377948cc990335b8cccbcce084039c1b792bea3d0da671abfc6a3fe5\n",
            "Lock 140662673614160 released on /root/.cache/torch/transformers/c96f5e731b9f4dc2e8263336947ec74b6f93917c0b9db6e9cf974a8a945dd313.48bc8d0b377948cc990335b8cccbcce084039c1b792bea3d0da671abfc6a3fe5.lock\n",
            "loading configuration file https://s3.amazonaws.com/models.huggingface.co/bert/cl-tohoku/bert-base-japanese-whole-word-masking/config.json from cache at /root/.cache/torch/transformers/c96f5e731b9f4dc2e8263336947ec74b6f93917c0b9db6e9cf974a8a945dd313.48bc8d0b377948cc990335b8cccbcce084039c1b792bea3d0da671abfc6a3fe5\n",
            "Model config BertConfig {\n",
            "  \"architectures\": [\n",
            "    \"BertForMaskedLM\"\n",
            "  ],\n",
            "  \"attention_probs_dropout_prob\": 0.1,\n",
            "  \"gradient_checkpointing\": false,\n",
            "  \"hidden_act\": \"gelu\",\n",
            "  \"hidden_dropout_prob\": 0.1,\n",
            "  \"hidden_size\": 768,\n",
            "  \"initializer_range\": 0.02,\n",
            "  \"intermediate_size\": 3072,\n",
            "  \"layer_norm_eps\": 1e-12,\n",
            "  \"max_position_embeddings\": 512,\n",
            "  \"model_type\": \"bert\",\n",
            "  \"num_attention_heads\": 12,\n",
            "  \"num_hidden_layers\": 12,\n",
            "  \"pad_token_id\": 0,\n",
            "  \"type_vocab_size\": 2,\n",
            "  \"vocab_size\": 32000\n",
            "}\n",
            "\n",
            "Lock 140662673616400 acquired on /root/.cache/torch/transformers/4801b91bfd2de0a4478e02e4a2404e982bd3d6773bc2935eea468f9c644fb593.fbee186ac33c194356f35147fe415d5392623f762cc279e97cecc31b90238cb3.lock\n",
            "https://cdn.huggingface.co/cl-tohoku/bert-base-japanese-whole-word-masking/pytorch_model.bin not found in cache or force_download set to True, downloading to /root/.cache/torch/transformers/tmpl6dq1n0z\n"
          ],
          "name": "stderr"
        },
        {
          "output_type": "stream",
          "text": [
            "\n"
          ],
          "name": "stdout"
        },
        {
          "output_type": "display_data",
          "data": {
            "application/vnd.jupyter.widget-view+json": {
              "model_id": "51b9495a8fe0456c905d4c4187177022",
              "version_minor": 0,
              "version_major": 2
            },
            "text/plain": [
              "HBox(children=(FloatProgress(value=0.0, description='Downloading', max=445021143.0, style=ProgressStyle(descri…"
            ]
          },
          "metadata": {
            "tags": []
          }
        },
        {
          "output_type": "stream",
          "text": [
            "storing https://cdn.huggingface.co/cl-tohoku/bert-base-japanese-whole-word-masking/pytorch_model.bin in cache at /root/.cache/torch/transformers/4801b91bfd2de0a4478e02e4a2404e982bd3d6773bc2935eea468f9c644fb593.fbee186ac33c194356f35147fe415d5392623f762cc279e97cecc31b90238cb3\n",
            "creating metadata file for /root/.cache/torch/transformers/4801b91bfd2de0a4478e02e4a2404e982bd3d6773bc2935eea468f9c644fb593.fbee186ac33c194356f35147fe415d5392623f762cc279e97cecc31b90238cb3\n",
            "Lock 140662673616400 released on /root/.cache/torch/transformers/4801b91bfd2de0a4478e02e4a2404e982bd3d6773bc2935eea468f9c644fb593.fbee186ac33c194356f35147fe415d5392623f762cc279e97cecc31b90238cb3.lock\n",
            "loading weights file https://cdn.huggingface.co/cl-tohoku/bert-base-japanese-whole-word-masking/pytorch_model.bin from cache at /root/.cache/torch/transformers/4801b91bfd2de0a4478e02e4a2404e982bd3d6773bc2935eea468f9c644fb593.fbee186ac33c194356f35147fe415d5392623f762cc279e97cecc31b90238cb3\n"
          ],
          "name": "stderr"
        },
        {
          "output_type": "stream",
          "text": [
            "\n"
          ],
          "name": "stdout"
        },
        {
          "output_type": "stream",
          "text": [
            "All model checkpoint weights were used when initializing BertModel.\n",
            "\n",
            "All the weights of BertModel were initialized from the model checkpoint at cl-tohoku/bert-base-japanese-whole-word-masking.\n",
            "If your task is similar to the task the model of the ckeckpoint was trained on, you can already use BertModel for predictions without further training.\n"
          ],
          "name": "stderr"
        },
        {
          "output_type": "stream",
          "text": [
            "tensor([[ 2.6584e-01,  1.5733e-02, -5.5184e-01, -2.6881e-01, -3.3179e-01,\n",
            "          3.7371e-01, -5.9107e-02, -2.2306e-01,  4.1955e-01, -5.0272e-01,\n",
            "         -5.1751e-01, -1.0767e-01,  1.1714e-02,  4.1104e-01,  3.6833e-01,\n",
            "          8.5412e-01, -1.4727e-03,  3.8684e-01, -2.3235e-01, -5.9252e-01,\n",
            "          7.5186e-01, -6.9910e-01, -8.3287e-01,  3.9897e-01, -4.2667e-02,\n",
            "         -3.5826e-01,  4.5544e-02, -4.8805e-01, -1.6543e-02, -4.3460e-02,\n",
            "          2.5553e-01,  7.1770e-02, -5.0605e-01, -6.4106e-01,  2.5535e-01,\n",
            "         -2.2166e-01,  9.8572e-02, -1.3150e-01,  4.7107e-01, -1.2239e+00,\n",
            "          4.3229e-01,  2.3325e-01, -7.4171e-01,  4.9757e-01,  4.4506e-01,\n",
            "          3.7730e-02,  3.7232e-01,  5.0082e-01,  3.1939e-01,  8.3072e-03,\n",
            "          7.7963e-01,  3.7240e-01,  4.2830e-02, -4.9044e-01,  2.6482e-01,\n",
            "          1.8851e-01, -2.1430e-02,  2.7918e-01, -2.3981e-01,  2.3239e-01,\n",
            "          1.0654e-02, -1.6651e-01, -7.4854e-01,  1.5518e-02, -1.0087e-01,\n",
            "         -5.2183e-01, -5.3295e-01, -3.4331e-01, -1.1776e-01,  3.3825e-01,\n",
            "         -9.5449e-03, -5.4918e-01,  1.3025e-01,  5.9376e-04,  2.3341e-01,\n",
            "          1.7531e-01, -2.8769e-01,  2.8178e-02,  2.3448e-01,  1.3520e-02,\n",
            "         -6.6631e-02, -5.1864e-01, -1.5953e-01, -6.0617e-02, -1.0468e-01,\n",
            "          7.2803e-02, -1.9553e-01,  1.6465e-01, -4.9253e-01,  1.1051e+00,\n",
            "         -1.0558e+00,  6.6904e-01,  4.1411e-01,  1.7583e-01,  4.1238e-01,\n",
            "          1.1818e-01,  2.6010e-01,  7.6081e-01,  1.2332e-01,  6.9039e-01,\n",
            "          5.2596e-01, -1.3329e-01, -6.8359e-01,  4.1157e-01,  9.0556e-02,\n",
            "          7.5179e-01,  3.3041e-01,  2.9035e-02,  9.5927e-01,  2.4901e-01,\n",
            "         -7.5000e-01,  4.2927e-02, -2.0235e-01, -4.3449e-01,  3.4197e-01,\n",
            "         -3.2192e-01,  6.6706e-01, -5.6471e-01, -3.4373e-01, -1.1235e-01,\n",
            "          2.4931e-01,  4.2422e-02,  6.4367e-01,  2.5189e-01, -3.5504e-01,\n",
            "          4.2379e-01,  1.0042e+00, -9.3410e-02, -9.2333e-01,  2.0298e-02,\n",
            "         -4.7216e-01, -1.0712e-01,  5.1901e-01,  1.1322e-01,  1.7577e-01,\n",
            "         -3.2009e-01,  1.5124e-01, -3.0062e-01, -5.2375e-02, -7.6167e-02,\n",
            "         -4.7071e-01,  2.7415e-01,  6.1011e-02,  2.0501e-01,  2.2078e-01,\n",
            "         -2.8420e-01,  5.2731e-01, -3.7381e-01, -5.3276e-01, -4.6017e-01,\n",
            "         -9.4419e-01, -6.2037e-01, -4.2606e-02,  1.7352e-01,  2.3244e-01,\n",
            "         -4.3372e-01, -4.2027e-01,  9.8337e-01,  2.4255e-01, -5.9969e-01,\n",
            "         -4.9269e-01,  1.1304e+00, -5.5982e-01,  2.4113e-01, -2.0443e-01,\n",
            "          9.2209e-01, -1.4565e-01,  8.6454e-02,  1.3746e-01, -8.1186e-01,\n",
            "          5.9504e-02,  8.6442e-02, -2.7136e-01, -1.5039e-02, -5.2366e-02,\n",
            "          3.3059e-01, -4.0359e-01,  3.8022e-01, -6.3935e-01,  4.8630e-01,\n",
            "          5.7044e-01, -4.1163e-01,  6.5860e-02, -1.5864e-01,  2.8083e-01,\n",
            "          4.4045e-01,  2.1980e-02,  1.7306e-02,  4.9849e-01,  1.1631e-01,\n",
            "         -1.1998e-01,  1.2702e+00,  1.3196e-01,  3.6114e-01,  2.7937e-01,\n",
            "         -3.1242e-01, -3.1984e-01, -5.5898e-02,  1.7961e-01,  1.4294e-01,\n",
            "          3.0775e-01,  1.2007e-01,  5.6896e-02, -1.4341e-01,  1.3684e-01,\n",
            "          4.3487e-01, -1.1501e-01, -1.0110e-01, -1.3580e-01, -1.2285e-01,\n",
            "         -1.9015e-01, -2.3262e-02, -2.9068e-01,  6.8887e-01,  7.7067e-01,\n",
            "          3.9394e-01,  5.3055e-02,  3.8857e-01,  2.8403e-01,  4.3732e-01,\n",
            "         -1.8307e-01, -6.9074e-01,  1.1235e-01, -7.0436e-01, -1.4732e-01,\n",
            "         -3.2423e-01, -1.7048e-01,  3.2004e-01, -6.6608e-01,  4.6918e-01,\n",
            "          8.0708e-02, -4.3515e-02, -4.9095e-02, -5.4110e-01,  2.6418e-01,\n",
            "          6.3844e-01,  1.0367e-01,  4.3855e-01,  4.9042e-01, -9.2678e-01,\n",
            "          2.3903e-01,  2.4005e-01, -4.8867e-02, -9.5313e-01,  7.4246e-02,\n",
            "         -3.3294e-01, -1.3028e-01,  4.9891e-01, -6.5376e-02,  5.6724e-01,\n",
            "          1.9025e-01, -6.5401e-01,  1.3751e-01,  4.5356e-01,  2.3177e-01,\n",
            "          5.2025e-01,  2.4201e-01,  4.0238e-01, -1.7955e-01,  3.6197e-01,\n",
            "         -6.1524e-01,  3.5312e-01, -4.0999e-01, -7.7128e-01, -7.1149e-01,\n",
            "         -6.2205e-02, -9.1039e-02, -4.2602e-01,  5.9516e-01, -2.8339e-01,\n",
            "          3.2337e-01,  1.0222e-01,  2.2607e-01, -1.8456e-01,  7.2015e-03,\n",
            "          5.1068e-03, -1.0881e-01, -3.1053e-01, -2.6878e-01, -3.1947e-01,\n",
            "         -7.3845e-01, -2.9260e-01, -7.4040e-02, -6.2915e-01,  7.6104e-01,\n",
            "          5.6896e-02, -1.1295e-02, -2.4420e-01,  4.7946e-01, -3.7942e-02,\n",
            "         -5.9186e-01, -5.4609e-01,  5.1922e-01, -4.7467e-01, -1.9077e-01,\n",
            "         -1.9599e-01, -7.4808e-02,  4.4231e-01, -2.7467e-01,  1.8502e-01,\n",
            "         -4.2306e-01, -9.2732e-02,  3.8346e-01, -3.9819e-01, -1.7574e-01,\n",
            "          3.3645e-01, -2.2748e-01,  6.3314e-01,  5.1642e-02, -8.5284e-01,\n",
            "         -3.6620e-01,  4.9216e-01,  2.2474e-01, -4.5570e-01,  2.6106e-01,\n",
            "         -1.4799e-01,  2.6367e-01, -8.1694e-02,  1.5217e-01,  3.0707e-01,\n",
            "          3.9942e-01, -3.6480e-01,  9.3660e-02, -7.0220e-01,  3.2472e-01,\n",
            "          2.3364e-01,  2.9743e-02, -2.5697e-01, -6.3549e-01, -8.8681e-01,\n",
            "         -3.9662e-01,  5.0749e-01, -3.4442e-01,  1.1144e-01, -3.9284e-01,\n",
            "          2.9495e-01, -1.0154e+00,  3.3185e-01,  5.4172e-01, -3.3523e-01,\n",
            "         -6.1145e-01, -3.1906e-01,  3.7127e-01, -4.3603e-01,  5.0968e-01,\n",
            "          5.5215e-01,  1.3117e-01, -2.2834e-01,  7.9802e-01, -2.0912e-01,\n",
            "         -1.3853e-01,  7.8698e-01,  9.7033e-01, -6.3638e-01,  5.4296e-02,\n",
            "          1.1717e-01,  3.2044e-02, -5.5214e-01, -5.2320e-01, -4.1669e-01,\n",
            "          3.3796e-01, -1.5959e-01,  6.1336e-01, -6.3099e-01,  3.6027e-01,\n",
            "          4.2144e-01, -2.6867e-01,  2.3782e-01,  1.0332e-01,  1.8177e-01,\n",
            "          9.7251e-02,  2.2515e-01,  2.4667e-01, -1.8689e-01, -7.2737e-02,\n",
            "          3.2743e-01,  3.8549e-01,  8.0252e-01,  5.5544e-01, -1.7684e-01,\n",
            "         -2.6622e-02,  4.0736e-01,  2.3944e-01,  1.4319e-01, -4.4557e-01,\n",
            "         -7.2753e-01, -1.2532e+00,  1.8874e-01,  1.1061e+00, -1.0457e+00,\n",
            "          1.1943e-01, -1.8347e-01,  1.0848e-01,  2.6404e-01, -1.2998e+00,\n",
            "         -2.4000e-01,  5.5309e-01, -4.9960e-01,  1.4576e-01,  1.2221e-01,\n",
            "         -1.5858e-01, -5.8060e-01, -2.6025e-02,  3.6728e-01,  1.1014e+00,\n",
            "         -4.1421e-01,  5.0047e-02,  5.2132e-01, -2.9645e-01,  2.2610e-01,\n",
            "         -5.7373e-01,  4.2024e-01, -4.9334e-01, -1.0319e-01,  5.4356e-01,\n",
            "          4.1258e-01,  2.9024e-01, -1.0188e-01, -2.9694e-01, -4.9228e-01,\n",
            "          1.4674e-01,  6.1172e-02, -1.2068e-01, -8.0555e-02, -2.9224e-01,\n",
            "         -1.6483e-01, -1.5371e-01,  4.0281e-01,  2.5018e-01, -1.2145e+00,\n",
            "          2.0430e-01, -7.7428e-02,  2.1749e-01, -7.0430e-02,  4.8282e-01,\n",
            "          3.8161e-01, -2.3963e-02, -2.6751e-02, -3.6323e-01,  1.2932e-02,\n",
            "          6.6712e-02,  3.0178e-02, -7.4319e-01,  2.4417e-01,  2.8952e-01,\n",
            "          2.4734e-01, -7.7682e-02, -3.3118e-01, -3.1142e-01, -3.5005e-01,\n",
            "          2.1457e-02, -3.6390e-01,  5.9518e-01,  1.3111e-01, -5.4746e-02,\n",
            "         -1.6280e-01,  1.0568e-01, -9.1767e-01, -5.2011e-01,  4.2778e-01,\n",
            "          9.8176e-02,  4.3703e-01, -4.6113e-01,  1.2961e-01,  8.9567e-02,\n",
            "         -3.8286e-01, -2.2415e-01,  3.1577e-01,  4.1019e-01, -1.9022e-01,\n",
            "          1.9923e-01,  1.4501e+00,  3.0467e-01,  2.6525e-01,  2.6536e-01,\n",
            "         -2.6695e-01,  6.1787e-01,  3.3287e-01, -2.0716e-01,  2.4853e-01,\n",
            "          1.4737e-01,  5.5801e-01,  2.5770e-01,  3.4098e-01,  3.2938e-01,\n",
            "          2.1654e-01,  2.2306e-01, -1.0216e-02,  2.0234e-01,  3.9685e-01,\n",
            "          1.9296e-01,  1.0925e-01, -3.0244e-01, -6.7551e-01, -2.5024e-04,\n",
            "          5.1523e-01,  3.2453e-01, -3.3214e-01,  2.7574e-01,  3.4901e-01,\n",
            "          9.9908e-02, -2.4089e-01, -2.3124e-01, -2.0188e-01,  2.1834e-02,\n",
            "         -4.0078e-01, -8.6828e-01, -3.5262e-01,  1.7690e-01,  8.8232e-03,\n",
            "         -2.1144e-01, -2.2725e-01, -2.2381e-01,  2.6289e-01, -8.1224e-01,\n",
            "         -3.8381e-01, -1.3736e-01,  3.4506e-01,  1.7694e-01, -5.7165e-02,\n",
            "          3.1595e-01, -3.8534e-01, -3.2664e-01, -1.1470e-01,  2.5900e-01,\n",
            "          1.6946e-02,  3.9313e-02, -1.2513e-01,  1.1820e-01,  1.5612e-01,\n",
            "          3.8223e-01,  4.7082e-02,  3.5671e-01, -2.2153e-01, -5.1591e-01,\n",
            "          3.3124e-01, -2.7472e-01, -8.2658e-02,  6.5481e-01, -5.1983e-02,\n",
            "         -1.3598e-01,  3.0749e-01,  4.0540e-01,  3.6242e-03,  7.6016e-02,\n",
            "          1.3787e-01, -1.0374e-01, -2.1679e-01,  1.9606e-01, -2.4653e-01,\n",
            "          3.1254e-01, -2.3646e-01,  3.1838e-01,  3.6216e-01, -1.6824e-01,\n",
            "          2.4760e-01,  3.3863e-01,  2.6193e-01,  2.9818e-01,  3.0446e-01,\n",
            "          3.6489e-01, -1.0382e+00, -5.5033e-01,  1.5927e-02, -5.3250e-01,\n",
            "          9.8618e-02,  3.0493e-01, -1.3786e-01, -2.9887e-01, -1.3784e-01,\n",
            "          1.3265e-01, -2.4720e-01, -3.8107e-01, -2.1480e-01,  4.9104e-01,\n",
            "          6.1605e-01,  4.7509e-01, -2.6308e-01, -4.8198e-03,  3.5669e-01,\n",
            "          4.8048e-01,  4.1777e-01, -5.5052e-01, -9.0465e-01,  1.0298e-01,\n",
            "         -3.3966e-01, -2.9219e-02, -4.3375e-01, -3.1051e-01, -2.9564e-01,\n",
            "          4.2141e-01,  4.9572e-01,  2.4606e-01, -7.6511e-01, -5.6312e-01,\n",
            "          3.1470e-01, -6.8322e-02, -2.7183e-01,  1.7696e-01,  2.8537e-01,\n",
            "          2.7815e-01,  3.7128e-02, -6.7293e-01, -1.1243e-01,  1.7838e-01,\n",
            "          3.8285e-02,  1.5997e-01,  4.1061e-02,  5.0162e-01,  2.0098e-01,\n",
            "          3.0115e-02, -7.3674e-02, -9.5289e-02, -3.1916e-01,  4.5423e-01,\n",
            "          3.9340e-01, -1.7205e-01,  9.4231e+00,  6.2113e-01, -1.1799e-02,\n",
            "          6.2525e-02,  6.6206e-01, -9.9332e-01, -2.2293e-02, -1.3507e-01,\n",
            "         -8.2956e-02, -4.8008e-01, -5.4458e-01,  7.8263e-01, -4.9763e-01,\n",
            "          6.2328e-01, -4.2190e-01, -1.6790e-01, -1.9091e-01,  5.7081e-01,\n",
            "          3.4342e-01, -4.8290e-01, -1.0500e+00, -6.9913e-01, -2.8510e-01,\n",
            "         -7.7243e-01,  2.7351e-01,  3.2794e-01,  7.8163e-01,  7.3042e-01,\n",
            "          8.1814e-03, -4.0063e-01, -7.7834e-02, -8.0266e-01,  3.2726e-01,\n",
            "          1.2663e-01, -5.4078e-01,  6.3839e-01, -1.5292e-01, -1.0767e+00,\n",
            "          2.5370e-02, -5.4070e-02, -3.8045e-01,  2.7779e-01,  5.9922e-02,\n",
            "         -2.4765e-01,  3.4842e-01, -1.5633e+00, -5.7589e-01,  7.6880e-01,\n",
            "          8.6290e-02,  1.2515e-01,  1.0816e-01,  2.9385e-02,  2.0593e-02,\n",
            "          3.1139e-01,  1.0479e-01, -2.9355e-02,  1.6472e-01,  5.3812e-02,\n",
            "          5.1076e-01, -5.9471e-02, -5.2827e-01,  1.3283e-01, -2.2516e-01,\n",
            "          9.6237e-01, -4.6973e-01, -7.3671e-01,  5.3730e-01, -3.9080e-01,\n",
            "          3.1944e-01, -8.1078e-02, -2.1904e-01, -6.7247e-01, -1.5909e-01,\n",
            "         -1.4414e-01, -5.5234e-01, -2.1992e-01, -2.7822e-01,  5.9072e-01,\n",
            "         -5.5561e-01, -1.2515e-01,  7.6232e-01, -1.2384e-01,  1.9280e-01,\n",
            "         -3.6371e-01, -4.3413e-01, -8.8198e-02,  1.1069e-01,  2.4314e-01,\n",
            "          3.0905e-01, -6.2364e-01, -9.1079e-01,  2.0408e-01,  5.8376e-01,\n",
            "         -1.9593e-01, -4.3643e-01, -8.7352e-02, -1.5071e-01, -5.3055e-01,\n",
            "          8.8033e-01, -6.1199e-01, -5.2065e-02, -1.1993e-01, -4.9568e-01,\n",
            "          1.9096e-01,  1.7571e-01, -4.3982e-01, -1.4129e-01, -1.9573e-01,\n",
            "         -2.2094e-01,  2.6666e-01, -6.6099e-01, -1.0301e+00,  6.8065e-01,\n",
            "          3.1621e-01, -2.1729e-01,  3.8379e-01, -1.2528e-01, -2.6148e-01,\n",
            "         -4.8816e-01, -6.9438e-03,  1.9782e-01, -1.3871e-01,  2.3245e-01,\n",
            "          3.2546e-01,  8.6336e-01,  3.9124e-01, -7.0409e-01, -6.0906e-02,\n",
            "          1.7236e-01, -1.9721e-01, -2.2350e-02,  1.3013e-03,  2.8033e-01,\n",
            "         -1.6450e-02,  2.1028e-01,  1.2323e-01, -4.6503e-01, -1.8691e-01,\n",
            "          1.3622e-01,  1.8496e-01,  3.2169e-01, -2.6979e-01,  1.9778e-01,\n",
            "         -2.1847e-01,  4.2509e-01,  1.3465e-01, -8.7461e-01,  5.6933e-01,\n",
            "         -7.2362e-01, -3.2066e-02, -4.8776e-01]], grad_fn=<SliceBackward>)\n"
          ],
          "name": "stdout"
        }
      ]
    },
    {
      "cell_type": "markdown",
      "metadata": {
        "colab_type": "text",
        "id": "9xUn7f9lqcSe"
      },
      "source": [
        "## [toiro](https://github.com/taishi-i/toiro) によるテキスト文書モデル（BERT）の学習"
      ]
    },
    {
      "cell_type": "markdown",
      "metadata": {
        "id": "EphH0mkhqgA1",
        "colab_type": "text"
      },
      "source": [
        "インストール方法"
      ]
    },
    {
      "cell_type": "code",
      "metadata": {
        "id": "q-PKPKU_qnDs",
        "colab_type": "code",
        "colab": {}
      },
      "source": [
        "!pip install toiro[all]"
      ],
      "execution_count": null,
      "outputs": []
    },
    {
      "cell_type": "markdown",
      "metadata": {
        "id": "vypHsXFiqlZz",
        "colab_type": "text"
      },
      "source": [
        "実装方法"
      ]
    },
    {
      "cell_type": "code",
      "metadata": {
        "id": "zjjCVlMoqxNw",
        "colab_type": "code",
        "colab": {
          "base_uri": "https://localhost:8080/",
          "height": 1000
        },
        "outputId": "da0b8efd-2d56-4564-8f90-e22aa15e7ff5"
      },
      "source": [
        "from toiro import classifiers\n",
        "from toiro import datadownloader\n",
        "\n",
        "corpus = 'yahoo_movie_reviews'\n",
        "datadownloader.download_corpus(corpus)\n",
        "train_df, dev_df, test_df = datadownloader.load_corpus(corpus, n=12500)\n",
        "model = classifiers.BERTClassificationModel()                                                                                                                                   \n",
        "model.fit(train_df, dev_df, verbose=True)\n",
        "text = \"とても良い作品でした。\"                                                                                            \n",
        "pred_y = model.predict(text)\n",
        "print(pred_y)\n",
        "\n",
        "bert_result = model.eval(test_df)\n",
        "print(bert_result)"
      ],
      "execution_count": 31,
      "outputs": [
        {
          "output_type": "stream",
          "text": [
            "yahoo_movie_reviews (yahoo-movie-reviews.json.tar.gz) exists in /root/toiro_resources .\n"
          ],
          "name": "stdout"
        },
        {
          "output_type": "stream",
          "text": [
            "loading configuration file https://s3.amazonaws.com/models.huggingface.co/bert/cl-tohoku/bert-base-japanese-whole-word-masking/config.json from cache at /root/.cache/torch/transformers/c96f5e731b9f4dc2e8263336947ec74b6f93917c0b9db6e9cf974a8a945dd313.48bc8d0b377948cc990335b8cccbcce084039c1b792bea3d0da671abfc6a3fe5\n",
            "Model config BertConfig {\n",
            "  \"architectures\": [\n",
            "    \"BertForMaskedLM\"\n",
            "  ],\n",
            "  \"attention_probs_dropout_prob\": 0.1,\n",
            "  \"gradient_checkpointing\": false,\n",
            "  \"hidden_act\": \"gelu\",\n",
            "  \"hidden_dropout_prob\": 0.1,\n",
            "  \"hidden_size\": 768,\n",
            "  \"initializer_range\": 0.02,\n",
            "  \"intermediate_size\": 3072,\n",
            "  \"layer_norm_eps\": 1e-12,\n",
            "  \"max_position_embeddings\": 512,\n",
            "  \"model_type\": \"bert\",\n",
            "  \"num_attention_heads\": 12,\n",
            "  \"num_hidden_layers\": 12,\n",
            "  \"pad_token_id\": 0,\n",
            "  \"type_vocab_size\": 2,\n",
            "  \"vocab_size\": 32000\n",
            "}\n",
            "\n",
            "loading file https://s3.amazonaws.com/models.huggingface.co/bert/cl-tohoku/bert-base-japanese-whole-word-masking/vocab.txt from cache at /root/.cache/torch/transformers/72ee6ecba54b20bba483760db4f23b836f27a6afda54ede38c488e8514bb3705.5fac9da4d8565963664ed9744688dc7008ff5ec4045f604e9515896f9fe46d9c\n",
            "loading configuration file https://s3.amazonaws.com/models.huggingface.co/bert/cl-tohoku/bert-base-japanese-whole-word-masking/config.json from cache at /root/.cache/torch/transformers/c96f5e731b9f4dc2e8263336947ec74b6f93917c0b9db6e9cf974a8a945dd313.48bc8d0b377948cc990335b8cccbcce084039c1b792bea3d0da671abfc6a3fe5\n",
            "Model config BertConfig {\n",
            "  \"architectures\": [\n",
            "    \"BertForMaskedLM\"\n",
            "  ],\n",
            "  \"attention_probs_dropout_prob\": 0.1,\n",
            "  \"gradient_checkpointing\": false,\n",
            "  \"hidden_act\": \"gelu\",\n",
            "  \"hidden_dropout_prob\": 0.1,\n",
            "  \"hidden_size\": 768,\n",
            "  \"initializer_range\": 0.02,\n",
            "  \"intermediate_size\": 3072,\n",
            "  \"layer_norm_eps\": 1e-12,\n",
            "  \"max_position_embeddings\": 512,\n",
            "  \"model_type\": \"bert\",\n",
            "  \"num_attention_heads\": 12,\n",
            "  \"num_hidden_layers\": 12,\n",
            "  \"pad_token_id\": 0,\n",
            "  \"type_vocab_size\": 2,\n",
            "  \"vocab_size\": 32000\n",
            "}\n",
            "\n",
            "loading weights file https://cdn.huggingface.co/cl-tohoku/bert-base-japanese-whole-word-masking/pytorch_model.bin from cache at /root/.cache/torch/transformers/4801b91bfd2de0a4478e02e4a2404e982bd3d6773bc2935eea468f9c644fb593.fbee186ac33c194356f35147fe415d5392623f762cc279e97cecc31b90238cb3\n",
            "All model checkpoint weights were used when initializing BertModel.\n",
            "\n",
            "All the weights of BertModel were initialized from the model checkpoint at cl-tohoku/bert-base-japanese-whole-word-masking.\n",
            "If your task is similar to the task the model of the ckeckpoint was trained on, you can already use BertModel for predictions without further training.\n"
          ],
          "name": "stderr"
        },
        {
          "output_type": "stream",
          "text": [
            "1/1 * Epoch (train): 100% 625/625 [07:46<00:00,  1.34it/s, accuracy01=0.812, loss=0.368]\n",
            "1/1 * Epoch (valid): 100% 79/79 [00:21<00:00,  3.64it/s, accuracy01=1.000, loss=0.011]\n",
            "[2020-08-26 17:27:17,426] \n",
            "1/1 * Epoch 1 (_base): lr=5.000e-05 | momentum=0.9000\n",
            "1/1 * Epoch 1 (train): accuracy01=0.8445 | loss=0.3464\n",
            "1/1 * Epoch 1 (valid): accuracy01=0.9200 | loss=0.2372\n"
          ],
          "name": "stdout"
        },
        {
          "output_type": "stream",
          "text": [
            "\n",
            "1/1 * Epoch 1 (_base): lr=5.000e-05 | momentum=0.9000\n",
            "1/1 * Epoch 1 (train): accuracy01=0.8445 | loss=0.3464\n",
            "1/1 * Epoch 1 (valid): accuracy01=0.9200 | loss=0.2372\n"
          ],
          "name": "stderr"
        },
        {
          "output_type": "stream",
          "text": [
            "1\n",
            "accuracy_score: 0.912\n",
            "macro_f1_score: 0.9116734886852134\n",
            "classification_report:               precision    recall  f1-score   support\n",
            "\n",
            "           0       0.90      0.94      0.92       647\n",
            "           1       0.93      0.88      0.91       603\n",
            "\n",
            "    accuracy                           0.91      1250\n",
            "   macro avg       0.91      0.91      0.91      1250\n",
            "weighted avg       0.91      0.91      0.91      1250\n",
            "\n",
            "elapsed_time: 501.6730332374573\n"
          ],
          "name": "stdout"
        }
      ]
    }
  ]
}